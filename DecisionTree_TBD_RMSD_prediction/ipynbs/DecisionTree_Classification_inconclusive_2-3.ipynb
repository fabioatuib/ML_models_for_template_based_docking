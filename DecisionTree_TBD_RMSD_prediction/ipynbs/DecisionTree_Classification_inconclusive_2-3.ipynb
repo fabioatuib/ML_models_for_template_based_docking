{
 "cells": [
  {
   "cell_type": "code",
   "execution_count": 1,
   "metadata": {
    "collapsed": true
   },
   "outputs": [],
   "source": [
    "import os\n",
    "import random\n",
    "\n",
    "#data\n",
    "import pandas as pd\n",
    "\n",
    "# chemistry\n",
    "import rdkit\n",
    "from rdkit import RDLogger\n",
    "from rdkit import Chem\n",
    "from rdkit.Chem import AllChem\n",
    "from rdkit.Chem import rdFMCS\n",
    "from rdkit import DataStructs\n",
    "from rdkit.Chem import PandasTools\n",
    "from rdkit.Chem import Lipinski\n",
    "\n",
    "# math\n",
    "import numpy as np\n",
    "\n",
    "# plotting\n",
    "from matplotlib import pyplot as plt\n",
    "\n",
    "# Machine learning\n",
    "import sklearn\n",
    "from sklearn import tree"
   ]
  },
  {
   "cell_type": "markdown",
   "source": [
    "Here I am training a Decision Tree model to classify if two pairs of ligands are suitable for template based docking:\n",
    "\n",
    "1) The continuous rmsd values are divided into 2 classes: bellow 2 A and above 2 A\n",
    "\n",
    "2) Values between 2 A and 3 A are considered inconclusive\n",
    "\n",
    "3) Test set and training set don't have the same molecules"
   ],
   "metadata": {
    "collapsed": false,
    "pycharm": {
     "name": "#%% md\n"
    }
   }
  },
  {
   "cell_type": "code",
   "execution_count": 2,
   "outputs": [],
   "source": [
    "# get the data set\n",
    "df = pd.read_csv('../../../Analysis_of_Docking/data/rmsd_values_featurized_without_bad_pairs.csv') #../data/rmsd_values_featurized.csv')"
   ],
   "metadata": {
    "collapsed": false,
    "pycharm": {
     "name": "#%%\n"
    }
   }
  },
  {
   "cell_type": "code",
   "execution_count": 3,
   "outputs": [
    {
     "name": "stdout",
     "output_type": "stream",
     "text": [
      "['template_HeavyAtomCount', 'template_NHOHCount', 'template_NOCount', 'template_RingCount', 'template_NumHAcceptors', 'template_NumHDonors', 'template_NumHeteroAtoms', 'template_NumRotatableBonds', 'docked_HeavyAtomCount', 'docked_NHOHCount', 'docked_NOCount', 'docked_RingCount', 'docked_NumHAcceptors', 'docked_NumHDonors', 'docked_NumHeteroAtoms', 'docked_NumRotatableBonds', 'mcs_HeavyAtomCount', 'mcs_NOCount', 'mcs_RingCount', 'mcs_NumHeteroAtoms', 'mcs_template_NHOHCount', 'mcs_docked_NHOHCount', 'mcs_template_NumHAcceptors', 'mcs_docked_NumHAcceptors', 'mcs_template_NumHDonors', 'mcs_docked_NumHDonors', 'mcs_template_NumRotatableBonds', 'mcs_docked_NumRotatableBonds', 'ec_tanimoto_similarity', 'fc_tanimoto_similarity']\n"
     ]
    }
   ],
   "source": [
    "# Assign binary labels to the dataset\n",
    "df['binned_rmsd'] = None\n",
    "\n",
    "for index, rmsd in df[['rmsd']].itertuples():\n",
    "    if rmsd < 2:\n",
    "        df.at[index, 'binned_rmsd'] = 1\n",
    "    elif 2 < rmsd < 3:\n",
    "        df.at[index, 'binned_rmsd'] = -1\n",
    "    else:\n",
    "        df.at[index, 'binned_rmsd'] = 0\n",
    "\n",
    "df = df[df['template']!=df['docked']]\n",
    "\n",
    "# Features that will be used to classify:\n",
    "not_features = ['template', 'docked', 'rmsd', 'uniprot_id', 'mcs_smartsString',\n",
    "                'smiles_template', 'smiles_docked', 'binned_rmsd']\n",
    "features = df.drop(columns=not_features).columns.tolist()\n",
    "print(features)"
   ],
   "metadata": {
    "collapsed": false,
    "pycharm": {
     "name": "#%%\n"
    }
   }
  },
  {
   "cell_type": "code",
   "execution_count": 4,
   "outputs": [],
   "source": [
    "# Remove inconclusive data\n",
    "# Pairs with RMSD in the interval ]2,3[ are considered inconclusive\n",
    "no_inconcl_df = df.loc[df['binned_rmsd']!=-1]\n",
    "no_inconcl_df = no_inconcl_df.reset_index(drop=True)"
   ],
   "metadata": {
    "collapsed": false,
    "pycharm": {
     "name": "#%%\n"
    }
   }
  },
  {
   "cell_type": "code",
   "execution_count": 5,
   "outputs": [],
   "source": [
    "# create a list of all the sets that exist of template_molecule, docked_molecule\n",
    "list_of_sets = []\n",
    "list_of_indexes = []\n",
    "for index, template, docked in no_inconcl_df[['template', 'docked']].itertuples():\n",
    "    if {template, docked} not in list_of_sets:\n",
    "        list_of_sets += [{template, docked}]\n",
    "        list_of_indexes += [[index]]\n",
    "    else:\n",
    "        list_of_indexes[list_of_sets.index({template, docked})] += [index]\n",
    "\n",
    "list_of_sets_copy = list_of_sets.copy()\n",
    "list_of_lists = [[]]\n",
    "list_of_lists_indexes = [[]]\n",
    "while_loop_controller_1 = True\n",
    "while while_loop_controller_1:\n",
    "    set1 = list_of_sets_copy[0]\n",
    "    tempset = set()\n",
    "    tempset.update(set1)\n",
    "    while_loop_controller_2 = True\n",
    "    while while_loop_controller_2:\n",
    "        i = 0\n",
    "        i_s = []\n",
    "        for set2 in list_of_sets_copy:\n",
    "            if not tempset.isdisjoint(set2):\n",
    "                tempset.update(set2)\n",
    "                list_of_lists[-1] += [set2]\n",
    "                list_of_lists_indexes[-1] += list_of_indexes[list_of_sets.index(set2)]\n",
    "                i_s += [i]\n",
    "            i += 1\n",
    "        if len(i_s) == 0:\n",
    "            while_loop_controller_2 = False\n",
    "        list_of_sets_copy = [list_of_sets_copy[j] for j in range(len(list_of_sets_copy)) if j not in i_s]\n",
    "    if len(list_of_sets_copy) > 0:\n",
    "        list_of_lists += [[]]\n",
    "        list_of_lists_indexes += [[]]\n",
    "    else:\n",
    "        while_loop_controller_1 = False"
   ],
   "metadata": {
    "collapsed": false,
    "pycharm": {
     "name": "#%%\n"
    }
   }
  },
  {
   "cell_type": "code",
   "execution_count": 6,
   "outputs": [],
   "source": [
    "size_of_groups = {}\n",
    "no_inconcl_df['group'] = -1\n",
    "group = 0\n",
    "for list in list_of_lists_indexes:\n",
    "    group += 1\n",
    "    size_of_groups[group] = len(list)\n",
    "    for index in list:\n",
    "        no_inconcl_df.at[index, 'group'] = group"
   ],
   "metadata": {
    "collapsed": false,
    "pycharm": {
     "name": "#%%\n"
    }
   }
  },
  {
   "cell_type": "code",
   "execution_count": 7,
   "outputs": [
    {
     "name": "stdout",
     "output_type": "stream",
     "text": [
      "{1: 6855, 2: 4088, 3: 2227, 4: 6, 5: 733, 6: 892, 7: 564, 8: 981, 9: 361, 10: 658, 11: 569, 12: 239, 13: 97, 14: 2, 15: 90, 16: 39, 17: 4, 18: 96, 19: 363, 20: 2, 21: 451, 22: 286, 23: 238, 24: 6, 25: 203, 26: 301, 27: 298, 28: 35, 29: 182, 30: 207, 31: 73, 32: 2, 33: 13, 34: 170, 35: 120, 36: 16, 37: 2, 38: 3, 39: 47, 40: 84, 41: 64, 42: 85, 43: 79, 44: 96, 45: 94, 46: 43, 47: 101, 48: 61, 49: 10, 50: 17, 51: 37, 52: 48, 53: 6, 54: 44, 55: 20, 56: 2, 57: 36, 58: 27, 59: 22, 60: 6, 61: 6, 62: 11, 63: 17, 64: 5, 65: 6, 66: 11, 67: 3, 68: 1, 69: 6, 70: 7, 71: 2, 72: 2, 73: 2, 74: 2, 75: 4, 76: 3, 77: 1, 78: 4}\n"
     ]
    }
   ],
   "source": [
    "print(size_of_groups)"
   ],
   "metadata": {
    "collapsed": false,
    "pycharm": {
     "name": "#%%\n"
    }
   }
  },
  {
   "cell_type": "code",
   "execution_count": 13,
   "outputs": [
    {
     "name": "stdout",
     "output_type": "stream",
     "text": [
      "15 3\n"
     ]
    },
    {
     "data": {
      "text/plain": "([array([35, 11, 38, 22,  1, 20, 40, 78, 43, 31, 17, 45, 59, 32,  4]),\n  array([ 5,  8,  9, 61, 33, 34, 16, 70, 65, 30, 73, 68, 64, 57, 53]),\n  array([52, 46, 23, 44, 50, 77,  3, 24, 47, 19, 27, 71, 28, 48, 76, 42]),\n  array([ 7, 69, 26, 75, 54, 36, 58, 49,  2, 63, 29, 72, 13, 14, 10, 25]),\n  array([62, 67, 55, 41, 74, 60, 18, 15, 21, 12, 37, 51,  6, 66, 39, 56])],\n [8203, 2573, 3624, 6221, 1973])"
     },
     "execution_count": 13,
     "metadata": {},
     "output_type": "execute_result"
    }
   ],
   "source": [
    "def check_sizes_of_folds(folds):\n",
    "    sizes = []\n",
    "    for fold in folds:\n",
    "        sizes += [sum([size_of_groups[g] for g in fold])]\n",
    "    return sizes\n",
    "\n",
    "k = 5\n",
    "\n",
    "groups = no_inconcl_df['group'].drop_duplicates().values\n",
    "\n",
    "\n",
    "base_size = len(groups)//(k)\n",
    "base_rest = len(groups)%(k)\n",
    "\n",
    "print(base_size, base_rest)\n",
    "\n",
    "random.shuffle(groups)\n",
    "folds = [groups[i*base_size:(i+1)*base_size] for i in range(k)]\n",
    "\n",
    "for i in range(base_rest):\n",
    "    folds[-(i+1)] = np.append(groups[-(i+1)], folds[-(i+1)])\n",
    "\n",
    "folds, check_sizes_of_folds(folds)"
   ],
   "metadata": {
    "collapsed": false,
    "pycharm": {
     "name": "#%%\n"
    }
   }
  },
  {
   "cell_type": "code",
   "execution_count": 14,
   "outputs": [],
   "source": [
    "folds_dfs = [[]]\n",
    "for fold in folds:\n",
    "    for group in fold:\n",
    "        folds_dfs[-1] += [no_inconcl_df.loc[no_inconcl_df['group']==group]]\n",
    "    folds_dfs[-1] = pd.concat(folds_dfs[-1])\n",
    "    folds_dfs += [[]]"
   ],
   "metadata": {
    "collapsed": false,
    "pycharm": {
     "name": "#%%\n"
    }
   }
  },
  {
   "cell_type": "code",
   "execution_count": 15,
   "outputs": [],
   "source": [
    "validation_fold_df = folds_dfs[0]\n",
    "train_test_folds_dfs = []\n",
    "for i in range(1,k):\n",
    "    train_test_folds_dfs += [[]]\n",
    "    train_test_folds_dfs[-1] += [pd.concat([folds_dfs[j] for j in range(1,k) if j!=i])]\n",
    "    train_test_folds_dfs[-1] += [folds_dfs[i]]"
   ],
   "metadata": {
    "collapsed": false,
    "pycharm": {
     "name": "#%%\n"
    }
   }
  },
  {
   "cell_type": "code",
   "source": [
    "\n",
    "'''\n",
    "# Oversample the underrepresented\n",
    "for i in range(k-1):\n",
    "    # the training\n",
    "    len_0_values = len(train_test_folds_dfs[i][0].loc[train_test_folds_dfs[i][0]['binned_rmsd']==0])\n",
    "    len_1_values = len(train_test_folds_dfs[i][0].loc[train_test_folds_dfs[i][0]['binned_rmsd']==1])\n",
    "    print(len_0_values, len_1_values)\n",
    "    train_test_folds_dfs[i][0] = pd.concat([train_test_folds_dfs[i][0].loc[train_test_folds_dfs[i][0]['binned_rmsd']==0]] +\n",
    "                                            [train_test_folds_dfs[i][0].loc[train_test_folds_dfs[i][0]['binned_rmsd']==1]] * (len_0_values//len_1_values) +\n",
    "                                            [train_test_folds_dfs[i][0].loc[train_test_folds_dfs[i][0]['binned_rmsd']==1].head(len_0_values%len_1_values)])\n",
    "    len_0_values = len(train_test_folds_dfs[i][0].loc[train_test_folds_dfs[i][0]['binned_rmsd']==0])\n",
    "    len_1_values = len(train_test_folds_dfs[i][0].loc[train_test_folds_dfs[i][0]['binned_rmsd']==1])\n",
    "    print('train')\n",
    "    print(len_0_values, len_1_values)\n",
    "    # the test\n",
    "    len_0_values = len(train_test_folds_dfs[i][1].loc[train_test_folds_dfs[i][1]['binned_rmsd']==0])\n",
    "    len_1_values = len(train_test_folds_dfs[i][1].loc[train_test_folds_dfs[i][1]['binned_rmsd']==1])\n",
    "    print(len_0_values, len_1_values)\n",
    "    train_test_folds_dfs[i][1] = pd.concat([train_test_folds_dfs[i][1].loc[train_test_folds_dfs[i][1]['binned_rmsd']==0]] +\n",
    "                                            [train_test_folds_dfs[i][1].loc[train_test_folds_dfs[i][1]['binned_rmsd']==1]] * (len_0_values//len_1_values) +\n",
    "                                            [train_test_folds_dfs[i][1].loc[train_test_folds_dfs[i][1]['binned_rmsd']==1].head(len_0_values%len_1_values)])\n",
    "    len_0_values = len(train_test_folds_dfs[i][1].loc[train_test_folds_dfs[i][1]['binned_rmsd']==0])\n",
    "    len_1_values = len(train_test_folds_dfs[i][1].loc[train_test_folds_dfs[i][1]['binned_rmsd']==1])\n",
    "    print('test')\n",
    "    print(len_0_values, len_1_values)\n",
    "    print('')\n",
    "'''\n"
   ],
   "metadata": {
    "collapsed": false,
    "pycharm": {
     "name": "#%%\n"
    }
   },
   "execution_count": null,
   "outputs": []
  },
  {
   "cell_type": "code",
   "execution_count": 16,
   "outputs": [],
   "source": [
    "train_test_folds_indexes = []\n",
    "for train, test in train_test_folds_dfs:\n",
    "    train_test_folds_indexes += [[train.index.values, test.index.values]]"
   ],
   "metadata": {
    "collapsed": false,
    "pycharm": {
     "name": "#%%\n"
    }
   }
  },
  {
   "cell_type": "code",
   "execution_count": 13,
   "outputs": [
    {
     "data": {
      "text/plain": "(29.0, 29.5)"
     },
     "execution_count": 13,
     "metadata": {},
     "output_type": "execute_result"
    }
   ],
   "source": [
    "# choose with which max_depth I should start\n",
    "depth_of_tree = []\n",
    "# instantiate the classifier:\n",
    "clf = tree.DecisionTreeClassifier(class_weight=\"balanced\")\n",
    "for train, test in train_test_folds_dfs:\n",
    "    X_train = train.drop(columns=not_features+['group']).values.tolist()\n",
    "    Y_train = train['binned_rmsd'].values.tolist()\n",
    "    clf = clf.fit(X_train, Y_train)\n",
    "    depth_of_tree += [clf.get_depth()]\n",
    "\n",
    "np.average(depth_of_tree), np.median(depth_of_tree)"
   ],
   "metadata": {
    "collapsed": false,
    "pycharm": {
     "name": "#%%\n"
    }
   }
  },
  {
   "cell_type": "code",
   "execution_count": 17,
   "outputs": [],
   "source": [
    "from sklearn.model_selection import GridSearchCV\n",
    "\n",
    "clf = GridSearchCV(estimator=tree.DecisionTreeClassifier(class_weight=\"balanced\"),\n",
    "                 param_grid={'max_depth':[i for i in range(1,15)]},\n",
    "                 scoring={'f1_score':sklearn.metrics.make_scorer(sklearn.metrics.f1_score),\n",
    "                          'recall':sklearn.metrics.make_scorer(sklearn.metrics.recall_score),\n",
    "                          'precision':sklearn.metrics.make_scorer(sklearn.metrics.precision_score)},\n",
    "                 refit='f1_score',\n",
    "                 n_jobs=-1,\n",
    "                 cv=train_test_folds_indexes,\n",
    "                 verbose=1)"
   ],
   "metadata": {
    "collapsed": false,
    "pycharm": {
     "name": "#%%\n"
    }
   }
  },
  {
   "cell_type": "code",
   "execution_count": 18,
   "outputs": [],
   "source": [
    "feats = no_inconcl_df.drop(columns=not_features + ['group']).values.tolist()\n",
    "labels = no_inconcl_df[['binned_rmsd']].values.tolist()"
   ],
   "metadata": {
    "collapsed": false,
    "pycharm": {
     "name": "#%%\n"
    }
   }
  },
  {
   "cell_type": "code",
   "execution_count": 19,
   "outputs": [
    {
     "name": "stdout",
     "output_type": "stream",
     "text": [
      "Fitting 4 folds for each of 14 candidates, totalling 56 fits\n"
     ]
    },
    {
     "name": "stderr",
     "output_type": "stream",
     "text": [
      "[Parallel(n_jobs=-1)]: Using backend LokyBackend with 8 concurrent workers.\n",
      "[Parallel(n_jobs=-1)]: Done  34 tasks      | elapsed:   35.1s\n",
      "[Parallel(n_jobs=-1)]: Done  56 out of  56 | elapsed:   58.0s finished\n"
     ]
    },
    {
     "data": {
      "text/plain": "GridSearchCV(cv=[[array([22290, 22291, 22292, ..., 21518, 22403, 22409]),\n                  array([13176, 13177, 13178, ..., 22341, 22342, 22343])],\n                 [array([13176, 13177, 13178, ..., 21518, 22403, 22409]),\n                  array([22290, 22291, 22292, ..., 21749, 21750, 21751])],\n                 [array([13176, 13177, 13178, ..., 21518, 22403, 22409]),\n                  array([14801, 14802, 14803, ..., 20047, 20048, 20049])],\n                 [array([13176, 13177, 13178, ..., 20047, 20048, 20049]),\n                  array([22507, 22508, 22509, ..., 21518, 22403, 22409])]],\n             estimator=DecisionTreeClassifier(class_weight='balanced'),\n             n_jobs=-1,\n             param_grid={'max_depth': [1, 2, 3, 4, 5, 6, 7, 8, 9, 10, 11, 12,\n                                       13, 14]},\n             refit='f1_score',\n             scoring={'f1_score': make_scorer(f1_score),\n                      'precision': make_scorer(precision_score),\n                      'recall': make_scorer(recall_score)},\n             verbose=1)"
     },
     "execution_count": 19,
     "metadata": {},
     "output_type": "execute_result"
    }
   ],
   "source": [
    "clf.fit(feats, labels)"
   ],
   "metadata": {
    "collapsed": false,
    "pycharm": {
     "name": "#%%\n"
    }
   }
  },
  {
   "cell_type": "code",
   "execution_count": 20,
   "outputs": [
    {
     "data": {
      "text/plain": "dict_keys(['mean_fit_time', 'std_fit_time', 'mean_score_time', 'std_score_time', 'param_max_depth', 'params', 'split0_test_f1_score', 'split1_test_f1_score', 'split2_test_f1_score', 'split3_test_f1_score', 'mean_test_f1_score', 'std_test_f1_score', 'rank_test_f1_score', 'split0_test_recall', 'split1_test_recall', 'split2_test_recall', 'split3_test_recall', 'mean_test_recall', 'std_test_recall', 'rank_test_recall', 'split0_test_precision', 'split1_test_precision', 'split2_test_precision', 'split3_test_precision', 'mean_test_precision', 'std_test_precision', 'rank_test_precision'])"
     },
     "execution_count": 20,
     "metadata": {},
     "output_type": "execute_result"
    }
   ],
   "source": [
    "cv_results = clf.cv_results_\n",
    "cv_results.keys()"
   ],
   "metadata": {
    "collapsed": false,
    "pycharm": {
     "name": "#%%\n"
    }
   }
  },
  {
   "cell_type": "code",
   "execution_count": 21,
   "outputs": [
    {
     "data": {
      "text/plain": "<Figure size 432x288 with 1 Axes>",
      "image/png": "[encoded data removed]"
     },
     "metadata": {
      "needs_background": "light"
     },
     "output_type": "display_data"
    }
   ],
   "source": [
    "plt.scatter(cv_results['param_max_depth'], cv_results['mean_test_recall'], label='recall')\n",
    "plt.scatter(cv_results['param_max_depth'], cv_results['mean_test_precision'], label='precision')\n",
    "plt.scatter(cv_results['param_max_depth'], cv_results['mean_test_f1_score'], label='f1_score')\n",
    "plt.xlabel('max_depth')\n",
    "plt.legend()\n",
    "plt.show()"
   ],
   "metadata": {
    "collapsed": false,
    "pycharm": {
     "name": "#%%\n"
    }
   }
  },
  {
   "cell_type": "code",
   "execution_count": 22,
   "outputs": [],
   "source": [
    "validation_X = validation_fold_df.drop(columns=not_features + ['group']).values.tolist()\n",
    "validation_Y = validation_fold_df['binned_rmsd'].values.tolist()"
   ],
   "metadata": {
    "collapsed": false,
    "pycharm": {
     "name": "#%%\n"
    }
   }
  },
  {
   "cell_type": "code",
   "execution_count": 23,
   "outputs": [],
   "source": [
    "final_train_df = no_inconcl_df.loc[train_test_folds_indexes[0][0].tolist() +\n",
    "                                   train_test_folds_indexes[0][1].tolist()]\n",
    "final_train_X = final_train_df.drop(columns=not_features + ['group']).values.tolist()\n",
    "final_train_Y = final_train_df['binned_rmsd'].values.tolist()"
   ],
   "metadata": {
    "collapsed": false,
    "pycharm": {
     "name": "#%%\n"
    }
   }
  },
  {
   "cell_type": "code",
   "execution_count": 24,
   "outputs": [
    {
     "name": "stdout",
     "output_type": "stream",
     "text": [
      "              precision    recall  f1-score   support\n",
      "\n",
      "           0       0.92      0.85      0.88      6815\n",
      "           1       0.46      0.62      0.53      1388\n",
      "\n",
      "    accuracy                           0.81      8203\n",
      "   macro avg       0.69      0.74      0.70      8203\n",
      "weighted avg       0.84      0.81      0.82      8203\n",
      "\n"
     ]
    }
   ],
   "source": [
    "clf = tree.DecisionTreeClassifier(max_depth=5, class_weight=\"balanced\")\n",
    "clf.fit(final_train_X, final_train_Y)\n",
    "\n",
    "print(sklearn.metrics.classification_report(validation_Y, clf.predict(validation_X)))"
   ],
   "metadata": {
    "collapsed": false,
    "pycharm": {
     "name": "#%%\n"
    }
   }
  },
  {
   "cell_type": "code",
   "source": [
    "# Warning: impurity-based feature importances can be misleading for high cardinality features\n",
    "# (many unique values). See sklearn.inspection.permutation_importance as an alternative.\n",
    "importance = clf.feature_importances_.tolist()\n",
    "feat_imp = [ele for ele in zip(features, importance)]\n",
    "feat_imp.sort(key=lambda x:x[1], reverse=True)\n",
    "#feat_imp"
   ],
   "metadata": {
    "collapsed": false,
    "pycharm": {
     "name": "#%%\n"
    }
   },
   "execution_count": 65,
   "outputs": []
  },
  {
   "cell_type": "code",
   "execution_count": 63,
   "outputs": [
    {
     "name": "stdout",
     "output_type": "stream",
     "text": [
      "ec_tanimoto_similarity        0.070 +/- 0.006\n",
      "mcs_RingCount                 0.051 +/- 0.004\n",
      "docked_HeavyAtomCount         0.050 +/- 0.006\n",
      "mcs_HeavyAtomCount            0.007 +/- 0.000\n"
     ]
    }
   ],
   "source": [
    "from sklearn import inspection\n",
    "\n",
    "r = inspection.permutation_importance(clf, validation_X, validation_Y,\n",
    "                                  scoring=sklearn.metrics.make_scorer(sklearn.metrics.f1_score),\n",
    "                                  n_repeats=100,\n",
    "                                  n_jobs=-1)\n",
    "\n",
    "for i in r.importances_mean.argsort()[::-1]:\n",
    "    if r.importances_mean[i] - 2 * r.importances_std[i] > 0:\n",
    "        print(f\"{features[i]:<30}\"\n",
    "              f\"{r.importances_mean[i]:.3f}\"\n",
    "              f\" +/- {r.importances_std[i]:.3f}\")"
   ],
   "metadata": {
    "collapsed": false,
    "pycharm": {
     "name": "#%%\n"
    }
   }
  },
  {
   "cell_type": "code",
   "execution_count": 24,
   "outputs": [
    {
     "data": {
      "text/plain": "<sklearn.metrics._plot.precision_recall_curve.PrecisionRecallDisplay at 0x7f784b282590>"
     },
     "execution_count": 24,
     "metadata": {},
     "output_type": "execute_result"
    },
    {
     "data": {
      "text/plain": "<Figure size 432x288 with 1 Axes>",
      "image/png": "[encoded data removed]"
     },
     "metadata": {
      "needs_background": "light"
     },
     "output_type": "display_data"
    }
   ],
   "source": [
    "from sklearn.metrics import plot_precision_recall_curve\n",
    "\n",
    "plot_precision_recall_curve(clf, validation_X, validation_Y)"
   ],
   "metadata": {
    "collapsed": false,
    "pycharm": {
     "name": "#%%\n"
    }
   }
  },
  {
   "cell_type": "code",
   "execution_count": 25,
   "outputs": [
    {
     "data": {
      "text/plain": "<sklearn.metrics._plot.roc_curve.RocCurveDisplay at 0x7f7893f2d890>"
     },
     "execution_count": 25,
     "metadata": {},
     "output_type": "execute_result"
    },
    {
     "data": {
      "text/plain": "<Figure size 432x288 with 1 Axes>",
      "image/png": "[encoded data removed]"
     },
     "metadata": {
      "needs_background": "light"
     },
     "output_type": "display_data"
    }
   ],
   "source": [
    "from sklearn.metrics import plot_roc_curve\n",
    "\n",
    "plot_roc_curve(clf, validation_X, validation_Y)"
   ],
   "metadata": {
    "collapsed": false,
    "pycharm": {
     "name": "#%%\n"
    }
   }
  },
  {
   "cell_type": "code",
   "execution_count": 25,
   "outputs": [],
   "source": [
    "validation_fold_df['dt_score'] = clf.predict_proba(validation_X)[:,1]"
   ],
   "metadata": {
    "collapsed": false,
    "pycharm": {
     "name": "#%%\n"
    }
   }
  },
  {
   "cell_type": "code",
   "execution_count": 26,
   "outputs": [
    {
     "data": {
      "text/plain": "<Figure size 432x288 with 1 Axes>",
      "image/png": "[encoded data removed]"
     },
     "metadata": {
      "needs_background": "light"
     },
     "output_type": "display_data"
    }
   ],
   "source": [
    "range = [1,2,3,4,5,6,7,8,9,10]\n",
    "proportion = []\n",
    "for i in range:\n",
    "    count = 0\n",
    "    for docked in validation_fold_df['docked'].drop_duplicates().values:\n",
    "            if validation_fold_df.loc[(validation_fold_df['docked']==docked)] \\\n",
    "                                 .sort_values(by=['dt_score'], ascending=False)[:i] \\\n",
    "                                 .loc[validation_fold_df['rmsd']<2].shape[0] > 0:\n",
    "\n",
    "                count += 1\n",
    "\n",
    "    proportion += [count/validation_fold_df['docked'].drop_duplicates().shape[0]]\n",
    "\n",
    "plt.scatter(range, proportion)\n",
    "plt.plot(range, proportion)\n",
    "plt.xlabel('top scored pairs used')\n",
    "plt.ylabel('proportion of times you find a good pair')\n",
    "plt.show()"
   ],
   "metadata": {
    "collapsed": false,
    "pycharm": {
     "name": "#%%\n"
    }
   }
  },
  {
   "cell_type": "code",
   "execution_count": 29,
   "outputs": [
    {
     "data": {
      "text/plain": "<Figure size 432x288 with 1 Axes>",
      "image/png": "[encoded data removed]"
     },
     "metadata": {
      "needs_background": "light"
     },
     "output_type": "display_data"
    }
   ],
   "source": [
    "top = 3\n",
    "range = [0.1, 0.2, 0.3, 0.4, 0.5, 0.6, 0.7, 0.8, 0.9]\n",
    "proportion = []\n",
    "valids = []\n",
    "for i in range:\n",
    "    count = 0\n",
    "    valid = 0\n",
    "    for docked in validation_fold_df['docked'].drop_duplicates().values:\n",
    "        if validation_fold_df.loc[(validation_fold_df['docked']==docked)\n",
    "                                  & (validation_fold_df['dt_score']>i)].shape[0] > 0:\n",
    "            valid += 1\n",
    "            if validation_fold_df.loc[(validation_fold_df['docked']==docked) & (validation_fold_df['dt_score']>i)] \\\n",
    "                                 .sort_values(by=['dt_score'], ascending=False)[:top] \\\n",
    "                                 .loc[validation_fold_df['rmsd']<2].shape[0] > 0:\n",
    "                count += 1\n",
    "    valids += [valid/validation_fold_df['docked'].drop_duplicates().shape[0]]\n",
    "    proportion += [count/valid]\n",
    "\n",
    "plt.scatter(range, proportion)\n",
    "plt.plot(range, proportion)\n",
    "plt.scatter(range, valids)\n",
    "plt.plot(range, valids)\n",
    "plt.show()"
   ],
   "metadata": {
    "collapsed": false,
    "pycharm": {
     "name": "#%%\n"
    }
   }
  },
  {
   "cell_type": "code",
   "execution_count": null,
   "outputs": [],
   "source": [
    "validation_fold_df['dt_score'] = clf.predict_proba(validation_X)[:,1]\n",
    "best_pairs_df = []\n",
    "for docked in validation_fold_df['docked'].drop_duplicates().values:\n",
    "    best_pairs_df += [validation_fold_df.loc[validation_fold_df['docked']==docked].sort_values(by=['dt_score'], ascending=False)[\n",
    "                          ['rmsd', 'dt_score']].reset_index(drop=True).loc[[0]]]\n",
    "\n",
    "best_pairs_df = pd.concat(best_pairs_df)\n"
   ],
   "metadata": {
    "collapsed": false,
    "pycharm": {
     "name": "#%%\n"
    }
   }
  }
 ],
 "metadata": {
  "kernelspec": {
   "display_name": "Python 3",
   "language": "python",
   "name": "python3"
  },
  "language_info": {
   "codemirror_mode": {
    "name": "ipython",
    "version": 2
   },
   "file_extension": ".py",
   "mimetype": "text/x-python",
   "name": "python",
   "nbconvert_exporter": "python",
   "pygments_lexer": "ipython2",
   "version": "2.7.6"
  }
 },
 "nbformat": 4,
 "nbformat_minor": 0
}