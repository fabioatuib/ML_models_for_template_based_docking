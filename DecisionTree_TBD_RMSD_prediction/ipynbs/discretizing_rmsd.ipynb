{
 "cells": [
  {
   "cell_type": "code",
   "execution_count": 2,
   "metadata": {
    "collapsed": true
   },
   "outputs": [],
   "source": [
    "import os\n",
    "import pandas as pd\n",
    "import rdkit\n",
    "from rdkit import RDLogger\n",
    "from rdkit import Chem\n",
    "from rdkit.Chem import AllChem\n",
    "from rdkit.Chem import rdFMCS\n",
    "from rdkit import DataStructs\n",
    "from rdkit.Chem import PandasTools\n",
    "from rdkit.Chem import Lipinski\n",
    "import numpy as np\n",
    "from matplotlib import pyplot as plt"
   ]
  },
  {
   "cell_type": "code",
   "execution_count": 3,
   "outputs": [],
   "source": [
    "#feat_rmsd_df = pd.read_csv('../data/rmsd_values_featurized.csv')\n",
    "feat_rmsd_df = pd.read_csv('../../../Analysis_of_Docking/data/rmsd_values_featurized.csv')#../data/rmsd_values_featurized.csv')"
   ],
   "metadata": {
    "collapsed": false,
    "pycharm": {
     "name": "#%%\n"
    }
   }
  },
  {
   "cell_type": "code",
   "execution_count": 4,
   "outputs": [],
   "source": [
    "feat_rmsd_df['binned_rmsd'] = None\n",
    "\n",
    "for index, rmsd in feat_rmsd_df[['rmsd']].itertuples():\n",
    "    if rmsd <= 2:\n",
    "        feat_rmsd_df.at[index, 'binned_rmsd'] = 0\n",
    "    else:\n",
    "        feat_rmsd_df.at[index, 'binned_rmsd'] = 1"
   ],
   "metadata": {
    "collapsed": false,
    "pycharm": {
     "name": "#%%\n"
    }
   }
  },
  {
   "cell_type": "code",
   "execution_count": 5,
   "outputs": [
    {
     "data": {
      "text/plain": "<Figure size 432x288 with 1 Axes>",
      "image/png": "[encoded data removed]"
     },
     "metadata": {
      "needs_background": "light"
     },
     "output_type": "display_data"
    }
   ],
   "source": [
    "plt.hist(feat_rmsd_df['binned_rmsd'])\n",
    "plt.show()"
   ],
   "metadata": {
    "collapsed": false,
    "pycharm": {
     "name": "#%%\n"
    }
   }
  },
  {
   "cell_type": "code",
   "execution_count": 8,
   "outputs": [
    {
     "data": {
      "text/plain": "<Figure size 432x288 with 1 Axes>",
      "image/png": "[encoded data removed]"
     },
     "metadata": {
      "needs_background": "light"
     },
     "output_type": "display_data"
    }
   ],
   "source": [
    "feat_rmsd_df['ratio'] = (feat_rmsd_df['mcs_HeavyAtomCount']) /\\\n",
    "                        (feat_rmsd_df['docked_HeavyAtomCount'])\n",
    "\n",
    "feat_rmsd_df['ratio'] = [np.round(value, 2) for value in feat_rmsd_df['ratio']]\n",
    "\n",
    "x = feat_rmsd_df['ratio'].drop_duplicates()\n",
    "plt.scatter(x,\n",
    "            [feat_rmsd_df.loc[(feat_rmsd_df['ratio']==c) & (feat_rmsd_df['binned_rmsd']==0)]\n",
    "             ['binned_rmsd'].count() for c in x], c='blue', s=10)\n",
    "plt.scatter(x,\n",
    "            [feat_rmsd_df.loc[(feat_rmsd_df['ratio']==c) & (feat_rmsd_df['binned_rmsd']==1)]\n",
    "             ['binned_rmsd'].count() for c in x], c='red', s=10)\n",
    "plt.show()"
   ],
   "metadata": {
    "collapsed": false,
    "pycharm": {
     "name": "#%%\n"
    }
   }
  }
 ],
 "metadata": {
  "kernelspec": {
   "display_name": "Python 3",
   "language": "python",
   "name": "python3"
  },
  "language_info": {
   "codemirror_mode": {
    "name": "ipython",
    "version": 2
   },
   "file_extension": ".py",
   "mimetype": "text/x-python",
   "name": "python",
   "nbconvert_exporter": "python",
   "pygments_lexer": "ipython2",
   "version": "2.7.6"
  }
 },
 "nbformat": 4,
 "nbformat_minor": 0
}