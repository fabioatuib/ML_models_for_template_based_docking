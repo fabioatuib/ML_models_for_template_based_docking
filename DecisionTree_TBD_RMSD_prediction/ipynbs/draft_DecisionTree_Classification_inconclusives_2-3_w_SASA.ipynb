{
 "cells": [
  {
   "cell_type": "code",
   "execution_count": 96,
   "metadata": {
    "collapsed": true
   },
   "outputs": [],
   "source": [
    "import os\n",
    "import random\n",
    "\n",
    "#data\n",
    "import pandas as pd\n",
    "\n",
    "# chemistry\n",
    "import rdkit\n",
    "from rdkit import RDLogger\n",
    "from rdkit import Chem\n",
    "from rdkit.Chem import AllChem\n",
    "from rdkit.Chem import rdFMCS\n",
    "from rdkit import DataStructs\n",
    "from rdkit.Chem import PandasTools\n",
    "from rdkit.Chem import Lipinski\n",
    "\n",
    "# math\n",
    "import numpy as np\n",
    "\n",
    "# plotting\n",
    "from matplotlib import pyplot as plt\n",
    "\n",
    "# Machine learning\n",
    "import sklearn\n",
    "from sklearn import tree"
   ]
  },
  {
   "cell_type": "markdown",
   "source": [
    "Here I am training a Decision Tree model to classify if two pairs of ligands are suitable for template based docking:\n",
    "\n",
    "1) The continuous rmsd values are divided into 2 classes: bellow 2.5 A and above 2.5 A\n",
    "\n",
    "2) No values are considered inconclusive\n",
    "\n",
    "3) Test set and training set don't have the same molecules"
   ],
   "metadata": {
    "collapsed": false,
    "pycharm": {
     "name": "#%% md\n"
    }
   }
  },
  {
   "cell_type": "code",
   "execution_count": 97,
   "outputs": [],
   "source": [
    "# get the data set\n",
    "df = pd.read_csv('../data/train_test_rmsd_values_featurized_w_sasa_without_bad_pairs.csv')"
   ],
   "metadata": {
    "collapsed": false,
    "pycharm": {
     "name": "#%%\n"
    }
   }
  },
  {
   "cell_type": "code",
   "execution_count": 98,
   "outputs": [
    {
     "name": "stdout",
     "output_type": "stream",
     "text": [
      "['template_HeavyAtomCount', 'template_NHOHCount', 'template_NOCount', 'template_RingCount', 'template_NumHAcceptors', 'template_NumHDonors', 'template_NumHeteroAtoms', 'template_NumRotatableBonds', 'docked_HeavyAtomCount', 'docked_NHOHCount', 'docked_NOCount', 'docked_RingCount', 'docked_NumHAcceptors', 'docked_NumHDonors', 'docked_NumHeteroAtoms', 'docked_NumRotatableBonds', 'mcs_HeavyAtomCount', 'mcs_NOCount', 'mcs_RingCount', 'mcs_NumHeteroAtoms', 'mcs_template_NHOHCount', 'mcs_docked_NHOHCount', 'mcs_template_NumHAcceptors', 'mcs_docked_NumHAcceptors', 'mcs_template_NumHDonors', 'mcs_docked_NumHDonors', 'mcs_template_NumRotatableBonds', 'mcs_docked_NumRotatableBonds', 'ec_tanimoto_similarity', 'fc_tanimoto_similarity', 'mcs_bonded_polar_sasa', 'mcs_bonded_apolar_sasa', 'mcs_unbonded_polar_sasa', 'mcs_unbonded_apolar_sasa', 'sasa_bonded_polar', 'sasa_bonded_apolar', 'sasa_unbonded_polar', 'sasa_unbonded_apolar', 'group']\n"
     ]
    }
   ],
   "source": [
    "# Assign binary labels to the dataset\n",
    "df['binned_rmsd'] = None\n",
    "\n",
    "for index, rmsd in df[['rmsd']].itertuples():\n",
    "    if rmsd < 2:\n",
    "        df.at[index, 'binned_rmsd'] = 1\n",
    "    elif 2 < rmsd < 3:\n",
    "        df.at[index, 'binned_rmsd'] = -1\n",
    "    else:\n",
    "        df.at[index, 'binned_rmsd'] = 0\n",
    "\n",
    "df = df[df['template']!=df['docked']]\n",
    "\n",
    "# Features that will be used to classify:\n",
    "not_features = ['template', 'docked', 'rmsd', 'uniprot_id', 'mcs_smartsString',\n",
    "                'smiles_template', 'smiles_docked', 'binned_rmsd']\n",
    "features = df.drop(columns=not_features).columns.tolist()\n",
    "print(features)"
   ],
   "metadata": {
    "collapsed": false,
    "pycharm": {
     "name": "#%%\n"
    }
   }
  },
  {
   "cell_type": "code",
   "execution_count": 99,
   "outputs": [],
   "source": [
    "no_inconcl_df = df.loc[df['binned_rmsd']!=-1].reset_index(drop=True)"
   ],
   "metadata": {
    "collapsed": false,
    "pycharm": {
     "name": "#%%\n"
    }
   }
  },
  {
   "cell_type": "code",
   "execution_count": 100,
   "outputs": [
    {
     "name": "stdout",
     "output_type": "stream",
     "text": [
      "{1: 6855, 2: 4034, 5: 733, 6: 892, 9: 361, 10: 658, 11: 569, 12: 239, 14: 2, 15: 90, 17: 4, 18: 96, 19: 363, 20: 2, 21: 451, 22: 286, 23: 244, 24: 203, 25: 301, 26: 298, 27: 35, 28: 182, 29: 207, 30: 73, 32: 13, 33: 170, 34: 120, 37: 3, 38: 47, 39: 84, 40: 64, 41: 85, 42: 79, 43: 96, 44: 94, 45: 43, 47: 61, 48: 10, 49: 17, 52: 6, 53: 44, 55: 2, 56: 36, 57: 27, 58: 22, 59: 6, 60: 6, 61: 11, 62: 17, 63: 5, 65: 11, 67: 3, 66: 1, 69: 7, 70: 2, 71: 2, 72: 2, 73: 2, 74: 4, 75: 3, 76: 1, 77: 4}\n"
     ]
    }
   ],
   "source": [
    "groups = []\n",
    "size_of_groups = {}\n",
    "for group in no_inconcl_df['group'].drop_duplicates():\n",
    "    groups +=  [group]\n",
    "    size_of_groups[group] = no_inconcl_df[no_inconcl_df['group']==group].shape[0]\n",
    "\n",
    "print(size_of_groups)"
   ],
   "metadata": {
    "collapsed": false,
    "pycharm": {
     "name": "#%%\n"
    }
   }
  },
  {
   "cell_type": "code",
   "execution_count": 101,
   "outputs": [],
   "source": [
    "def check_sizes_of_folds(folds):\n",
    "    sizes = []\n",
    "    for fold in folds:\n",
    "        sizes += [sum([size_of_groups[g] for g in fold])]\n",
    "    return sizes"
   ],
   "metadata": {
    "collapsed": false,
    "pycharm": {
     "name": "#%%\n"
    }
   }
  },
  {
   "cell_type": "code",
   "execution_count": 102,
   "outputs": [
    {
     "name": "stdout",
     "output_type": "stream",
     "text": [
      "15 2\n",
      "[1432, 7701, 6851, 2404]\n",
      "[5153, 2361, 1648, 9226]\n",
      "[2453, 10008, 4789, 1138]\n",
      "[1271, 5496, 9868, 1753]\n",
      "[12248, 1691, 2540, 1909]\n",
      "[8304, 1222, 6439, 2423]\n",
      "[1638, 5733, 1770, 9247]\n",
      "[1669, 1838, 2162, 12719]\n",
      "[733, 6871, 9563, 1221]\n",
      "[2621, 7630, 6483, 1654]\n"
     ]
    }
   ],
   "source": [
    "k = 4\n",
    "\n",
    "base_size = len(groups)//(k)\n",
    "base_rest = len(groups)%(k)\n",
    "\n",
    "print(base_size, base_rest)\n",
    "\n",
    "train_test_folds_dfs = []\n",
    "train_test_folds_indexes = []\n",
    "for number in range(10):\n",
    "\n",
    "    random.shuffle(groups)\n",
    "    folds = [groups[i*base_size:(i+1)*base_size] for i in range(k)]\n",
    "\n",
    "    for i in range(base_rest):\n",
    "        folds[-(i+1)] = np.append(groups[-(i+1)], folds[-(i+1)])\n",
    "\n",
    "    print(check_sizes_of_folds(folds))\n",
    "\n",
    "    folds_dfs = [[]]\n",
    "    for fold in folds:\n",
    "        for group in fold:\n",
    "            folds_dfs[-1] += [no_inconcl_df.loc[no_inconcl_df['group']==group]]\n",
    "        folds_dfs[-1] = pd.concat(folds_dfs[-1])\n",
    "        folds_dfs += [[]]\n",
    "\n",
    "    _train_test_folds_dfs = []\n",
    "    for i in range(k):\n",
    "        _train_test_folds_dfs += [[]]\n",
    "        _train_test_folds_dfs[-1] += [pd.concat([folds_dfs[j] for j in range(k) if j!=i])]\n",
    "        _train_test_folds_dfs[-1] += [folds_dfs[i]]\n",
    "\n",
    "    _train_test_folds_indexes = []\n",
    "    for train, test in _train_test_folds_dfs:\n",
    "        _train_test_folds_indexes += [[train.index.values, test.index.values]]\n",
    "\n",
    "    train_test_folds_dfs += _train_test_folds_dfs\n",
    "    train_test_folds_indexes += _train_test_folds_indexes"
   ],
   "metadata": {
    "collapsed": false,
    "pycharm": {
     "name": "#%%\n"
    }
   }
  },
  {
   "cell_type": "code",
   "execution_count": 103,
   "outputs": [],
   "source": [
    "from sklearn.model_selection import GridSearchCV\n",
    "\n",
    "clf = GridSearchCV(estimator=tree.DecisionTreeClassifier(class_weight=\"balanced\"),\n",
    "                 param_grid={'max_depth':[i for i in range(1,15)]},\n",
    "                 scoring={'f1_score':sklearn.metrics.make_scorer(sklearn.metrics.f1_score),\n",
    "                          'recall':sklearn.metrics.make_scorer(sklearn.metrics.recall_score),\n",
    "                          'precision':sklearn.metrics.make_scorer(sklearn.metrics.precision_score),\n",
    "                           'roc_auc':sklearn.metrics.make_scorer(sklearn.metrics.roc_auc_score)},\n",
    "                 refit='f1_score',\n",
    "                 n_jobs=-1,\n",
    "                 cv=train_test_folds_indexes,\n",
    "                 verbose=1)"
   ],
   "metadata": {
    "collapsed": false,
    "pycharm": {
     "name": "#%%\n"
    }
   }
  },
  {
   "cell_type": "code",
   "execution_count": 104,
   "outputs": [],
   "source": [
    "feats = no_inconcl_df.drop(columns=not_features + ['group']).values.tolist()\n",
    "labels = no_inconcl_df[['binned_rmsd']].values.tolist()"
   ],
   "metadata": {
    "collapsed": false,
    "pycharm": {
     "name": "#%%\n"
    }
   }
  },
  {
   "cell_type": "code",
   "execution_count": 105,
   "outputs": [
    {
     "name": "stdout",
     "output_type": "stream",
     "text": [
      "Fitting 40 folds for each of 14 candidates, totalling 560 fits\n"
     ]
    },
    {
     "name": "stderr",
     "output_type": "stream",
     "text": [
      "[Parallel(n_jobs=-1)]: Using backend LokyBackend with 8 concurrent workers.\n",
      "[Parallel(n_jobs=-1)]: Done  34 tasks      | elapsed:   33.4s\n",
      "[Parallel(n_jobs=-1)]: Done 184 tasks      | elapsed:  2.9min\n",
      "[Parallel(n_jobs=-1)]: Done 434 tasks      | elapsed:  7.1min\n",
      "[Parallel(n_jobs=-1)]: Done 560 out of 560 | elapsed:  9.3min finished\n"
     ]
    },
    {
     "data": {
      "text/plain": "GridSearchCV(cv=[[array([18372, 18373, 14102, ..., 17761, 17762, 17763]),\n                  array([16082, 16083, 16084, ..., 18157, 18158, 18159])],\n                 [array([16082, 16083, 16084, ..., 17761, 17762, 17763]),\n                  array([18372, 18373, 14102, ..., 17612, 17613, 17614])],\n                 [array([16082, 16083, 16084, ..., 17761, 17762, 17763]),\n                  array([ 6855,  6856,  6857, ..., 14430, 14431, 14432])],\n                 [array([16082, 16083, 16084, ..., 14430,...\n                  array([18252, 18253, 18254, ..., 17478, 17479, 17480])], ...],\n             estimator=DecisionTreeClassifier(class_weight='balanced'),\n             n_jobs=-1,\n             param_grid={'max_depth': [1, 2, 3, 4, 5, 6, 7, 8, 9, 10, 11, 12,\n                                       13, 14]},\n             refit='f1_score',\n             scoring={'f1_score': make_scorer(f1_score),\n                      'precision': make_scorer(precision_score),\n                      'recall': make_scorer(recall_score),\n                      'roc_auc': make_scorer(roc_auc_score)},\n             verbose=1)"
     },
     "execution_count": 105,
     "metadata": {},
     "output_type": "execute_result"
    }
   ],
   "source": [
    "clf.fit(feats, labels)"
   ],
   "metadata": {
    "collapsed": false,
    "pycharm": {
     "name": "#%%\n"
    }
   }
  },
  {
   "cell_type": "code",
   "execution_count": 106,
   "outputs": [
    {
     "data": {
      "text/plain": "dict_keys(['mean_fit_time', 'std_fit_time', 'mean_score_time', 'std_score_time', 'param_max_depth', 'params', 'split0_test_f1_score', 'split1_test_f1_score', 'split2_test_f1_score', 'split3_test_f1_score', 'split4_test_f1_score', 'split5_test_f1_score', 'split6_test_f1_score', 'split7_test_f1_score', 'split8_test_f1_score', 'split9_test_f1_score', 'split10_test_f1_score', 'split11_test_f1_score', 'split12_test_f1_score', 'split13_test_f1_score', 'split14_test_f1_score', 'split15_test_f1_score', 'split16_test_f1_score', 'split17_test_f1_score', 'split18_test_f1_score', 'split19_test_f1_score', 'split20_test_f1_score', 'split21_test_f1_score', 'split22_test_f1_score', 'split23_test_f1_score', 'split24_test_f1_score', 'split25_test_f1_score', 'split26_test_f1_score', 'split27_test_f1_score', 'split28_test_f1_score', 'split29_test_f1_score', 'split30_test_f1_score', 'split31_test_f1_score', 'split32_test_f1_score', 'split33_test_f1_score', 'split34_test_f1_score', 'split35_test_f1_score', 'split36_test_f1_score', 'split37_test_f1_score', 'split38_test_f1_score', 'split39_test_f1_score', 'mean_test_f1_score', 'std_test_f1_score', 'rank_test_f1_score', 'split0_test_recall', 'split1_test_recall', 'split2_test_recall', 'split3_test_recall', 'split4_test_recall', 'split5_test_recall', 'split6_test_recall', 'split7_test_recall', 'split8_test_recall', 'split9_test_recall', 'split10_test_recall', 'split11_test_recall', 'split12_test_recall', 'split13_test_recall', 'split14_test_recall', 'split15_test_recall', 'split16_test_recall', 'split17_test_recall', 'split18_test_recall', 'split19_test_recall', 'split20_test_recall', 'split21_test_recall', 'split22_test_recall', 'split23_test_recall', 'split24_test_recall', 'split25_test_recall', 'split26_test_recall', 'split27_test_recall', 'split28_test_recall', 'split29_test_recall', 'split30_test_recall', 'split31_test_recall', 'split32_test_recall', 'split33_test_recall', 'split34_test_recall', 'split35_test_recall', 'split36_test_recall', 'split37_test_recall', 'split38_test_recall', 'split39_test_recall', 'mean_test_recall', 'std_test_recall', 'rank_test_recall', 'split0_test_precision', 'split1_test_precision', 'split2_test_precision', 'split3_test_precision', 'split4_test_precision', 'split5_test_precision', 'split6_test_precision', 'split7_test_precision', 'split8_test_precision', 'split9_test_precision', 'split10_test_precision', 'split11_test_precision', 'split12_test_precision', 'split13_test_precision', 'split14_test_precision', 'split15_test_precision', 'split16_test_precision', 'split17_test_precision', 'split18_test_precision', 'split19_test_precision', 'split20_test_precision', 'split21_test_precision', 'split22_test_precision', 'split23_test_precision', 'split24_test_precision', 'split25_test_precision', 'split26_test_precision', 'split27_test_precision', 'split28_test_precision', 'split29_test_precision', 'split30_test_precision', 'split31_test_precision', 'split32_test_precision', 'split33_test_precision', 'split34_test_precision', 'split35_test_precision', 'split36_test_precision', 'split37_test_precision', 'split38_test_precision', 'split39_test_precision', 'mean_test_precision', 'std_test_precision', 'rank_test_precision', 'split0_test_roc_auc', 'split1_test_roc_auc', 'split2_test_roc_auc', 'split3_test_roc_auc', 'split4_test_roc_auc', 'split5_test_roc_auc', 'split6_test_roc_auc', 'split7_test_roc_auc', 'split8_test_roc_auc', 'split9_test_roc_auc', 'split10_test_roc_auc', 'split11_test_roc_auc', 'split12_test_roc_auc', 'split13_test_roc_auc', 'split14_test_roc_auc', 'split15_test_roc_auc', 'split16_test_roc_auc', 'split17_test_roc_auc', 'split18_test_roc_auc', 'split19_test_roc_auc', 'split20_test_roc_auc', 'split21_test_roc_auc', 'split22_test_roc_auc', 'split23_test_roc_auc', 'split24_test_roc_auc', 'split25_test_roc_auc', 'split26_test_roc_auc', 'split27_test_roc_auc', 'split28_test_roc_auc', 'split29_test_roc_auc', 'split30_test_roc_auc', 'split31_test_roc_auc', 'split32_test_roc_auc', 'split33_test_roc_auc', 'split34_test_roc_auc', 'split35_test_roc_auc', 'split36_test_roc_auc', 'split37_test_roc_auc', 'split38_test_roc_auc', 'split39_test_roc_auc', 'mean_test_roc_auc', 'std_test_roc_auc', 'rank_test_roc_auc'])"
     },
     "execution_count": 106,
     "metadata": {},
     "output_type": "execute_result"
    }
   ],
   "source": [
    "cv_results = clf.cv_results_\n",
    "cv_results.keys()"
   ],
   "metadata": {
    "collapsed": false,
    "pycharm": {
     "name": "#%%\n"
    }
   }
  },
  {
   "cell_type": "code",
   "execution_count": 151,
   "outputs": [
    {
     "data": {
      "text/plain": "<Figure size 432x288 with 1 Axes>",
      "image/png": "[encoded data removed]"
     },
     "metadata": {
      "needs_background": "light"
     },
     "output_type": "display_data"
    },
    {
     "data": {
      "text/plain": "<Figure size 432x288 with 1 Axes>",
      "image/png": "[encoded data removed]"
     },
     "metadata": {
      "needs_background": "light"
     },
     "output_type": "display_data"
    }
   ],
   "source": [
    "plt.errorbar(cv_results['param_max_depth'].data, cv_results['mean_test_recall'], yerr=0.5*cv_results['std_test_recall'], capsize=5, fmt='--o', label='recall')\n",
    "plt.errorbar(cv_results['param_max_depth'].data, cv_results['mean_test_precision'], yerr=0.5*cv_results['std_test_precision'], capsize=5, fmt='--o', label='precision')\n",
    "#plt.errorbar(cv_results['param_max_depth'].data, cv_results['mean_test_f1_score'], yerr=cv_results['std_test_f1_score'], capsize=5, fmt='--o', label='f1_score')\n",
    "plt.plot(cv_results['param_max_depth'].data, cv_results['mean_test_f1_score'], '--.',label='f1_score')\n",
    "plt.xlabel('max_depth')\n",
    "plt.ylabel('score')\n",
    "plt.legend()\n",
    "plt.title('performance on test sets')\n",
    "plt.show()\n",
    "\n",
    "plt.errorbar(cv_results['param_max_depth'].data, cv_results['mean_test_roc_auc'], yerr=cv_results['std_test_roc_auc'], capsize=5, fmt='--o', label='roc_auc')\n",
    "plt.xlabel('max_depth')\n",
    "plt.ylabel('score')\n",
    "plt.legend()\n",
    "plt.title('performance on test sets')\n",
    "plt.show()"
   ],
   "metadata": {
    "collapsed": false,
    "pycharm": {
     "name": "#%%\n"
    }
   }
  },
  {
   "cell_type": "code",
   "execution_count": 171,
   "outputs": [],
   "source": [
    "train_test=random.sample(train_test_folds_dfs, 10).copy()\n",
    "\n",
    "clf = tree.DecisionTreeClassifier(max_depth=6, class_weight=\"balanced\")"
   ],
   "metadata": {
    "collapsed": false,
    "pycharm": {
     "name": "#%%\n"
    }
   }
  },
  {
   "cell_type": "code",
   "execution_count": 172,
   "outputs": [
    {
     "name": "stdout",
     "output_type": "stream",
     "text": [
      "ec_tanimoto_similarity        0.112 +/- 0.007\n",
      "mcs_unbonded_polar_sasa       0.030 +/- 0.003\n",
      "mcs_bonded_apolar_sasa        0.026 +/- 0.005\n",
      "fc_tanimoto_similarity        0.016 +/- 0.003\n",
      "mcs_RingCount                 0.009 +/- 0.003\n",
      "docked_HeavyAtomCount         0.009 +/- 0.004\n",
      "mcs_NumHeteroAtoms            0.007 +/- 0.001\n",
      "mcs_HeavyAtomCount            0.005 +/- 0.001\n",
      "sasa_bonded_apolar            0.003 +/- 0.001\n",
      "mcs_docked_NumHDonors         0.002 +/- 0.001\n",
      "mcs_template_NumHAcceptors    0.002 +/- 0.001\n",
      "mcs_NOCount                   0.001 +/- 0.000\n",
      "template_NumRotatableBonds    0.001 +/- 0.000\n"
     ]
    }
   ],
   "source": [
    "from sklearn import inspection\n",
    "\n",
    "rr = []\n",
    "for train, test in train_test:\n",
    "\n",
    "    _feats_train = train.drop(columns=not_features + ['group']).values.tolist()\n",
    "    _labels_train = train[['binned_rmsd']].values.tolist()\n",
    "    _feats_test = test.drop(columns=not_features + ['group']).values.tolist()\n",
    "    _labels_test = test[['binned_rmsd']].values.tolist()\n",
    "\n",
    "    clf = clf.fit(_feats_train, _labels_train)\n",
    "\n",
    "    r = inspection.permutation_importance(clf, _feats_test, _labels_test,\n",
    "                                      scoring=sklearn.metrics.make_scorer(sklearn.metrics.roc_auc_score),\n",
    "                                      n_repeats=100,\n",
    "                                      n_jobs=-1)\n",
    "    rr += [r]\n",
    "\n",
    "r = {'importances_mean': 0,\n",
    "     'importances_std': 0}\n",
    "for i in rr:\n",
    "    r['importances_mean'] += i['importances_mean']/len(rr)\n",
    "    r['importances_std'] += i['importances_std']/len(rr)\n",
    "\n",
    "for i in r['importances_mean'].argsort()[::-1]:\n",
    "    if r['importances_mean'][i] - 2 * r['importances_std'][i] > 0:\n",
    "        print(f\"{features[i]:<30}\"\n",
    "              f\"{r['importances_mean'][i]:.3f}\"\n",
    "              f\" +/- {r['importances_std'][i]:.3f}\")"
   ],
   "metadata": {
    "collapsed": false,
    "pycharm": {
     "name": "#%%\n"
    }
   }
  },
  {
   "cell_type": "code",
   "execution_count": 88,
   "outputs": [],
   "source": [
    "for train, test in train_test:\n",
    "    train['dt_score'] = None\n",
    "    test['dt_score'] = None\n",
    "\n",
    "top = 3\n",
    "range_of_thresholds = [0.1, 0.2, 0.3, 0.4, 0.5, 0.6, 0.7, 0.8, 0.9]\n",
    "proportion_top = []\n",
    "range_of_top = [1,2,3,4,5,6,7,8,9,10]\n",
    "proportion_thresh = []\n",
    "valids_thresh = []\n",
    "for train, test in train_test:\n",
    "    _feats_train = train.drop(columns=not_features + ['group', 'dt_score']).values.tolist()\n",
    "    _labels_train = train[['binned_rmsd']].values.tolist()\n",
    "    _feats_test = test.drop(columns=not_features + ['group', 'dt_score']).values.tolist()\n",
    "    clf = clf.fit(_feats_train, _labels_train)\n",
    "    test['dt_score'] = clf.predict_proba(_feats_test)[:,1]\n",
    "    _proportion = []\n",
    "    for i in range_of_top:\n",
    "        count = 0\n",
    "        for docked in test['docked'].drop_duplicates().values:\n",
    "                if test.loc[(test['docked']==docked)] \\\n",
    "                                     .sort_values(by=['dt_score'], ascending=False)[:i] \\\n",
    "                                     .loc[test['rmsd']<2].shape[0] > 0:\n",
    "                    count += 1\n",
    "        _proportion += [count/test['docked'].drop_duplicates().shape[0]]\n",
    "    proportion_top += [_proportion]\n",
    "\n",
    "    _proportion = []\n",
    "    _valids = []\n",
    "    for i in range_of_thresholds:\n",
    "        count = 0\n",
    "        valid = 0\n",
    "        for docked in test['docked'].drop_duplicates().values:\n",
    "            if test.loc[(test['docked']==docked)\n",
    "                                      & (test['dt_score']>i)].shape[0] > 0:\n",
    "                valid += 1\n",
    "                if test.loc[(test['docked']==docked) & (test['dt_score']>i)] \\\n",
    "                                     .sort_values(by=['dt_score'], ascending=False)[:top] \\\n",
    "                                     .loc[test['rmsd']<2].shape[0] > 0:\n",
    "                    count += 1\n",
    "        _valids += [valid/test['docked'].drop_duplicates().shape[0]]\n",
    "        _proportion += [count/valid]\n",
    "    proportion_thresh += [_proportion]\n",
    "    valids_thresh += [_valids]\n"
   ],
   "metadata": {
    "collapsed": false,
    "pycharm": {
     "name": "#%%\n"
    }
   }
  },
  {
   "cell_type": "code",
   "execution_count": 93,
   "outputs": [
    {
     "data": {
      "text/plain": "<Figure size 432x288 with 1 Axes>",
      "image/png": "[encoded data removed]"
     },
     "metadata": {
      "needs_background": "light"
     },
     "output_type": "display_data"
    }
   ],
   "source": [
    "mean_proportion_top = []\n",
    "std_proportion_top = []\n",
    "for i in range(len(range_of_top)):\n",
    "    mean_proportion_top += [np.mean(np.array(proportion_top)[:,i])]\n",
    "    std_proportion_top += [np.std(np.array(proportion_top)[:,i])]\n",
    "\n",
    "plt.errorbar(range_of_top, mean_proportion_top, yerr=std_proportion_top, capsize=5, fmt='--o', label='proportion of correct poses')\n",
    "plt.xlabel('top considered')\n",
    "plt.ylabel('proportion')\n",
    "plt.legend()\n",
    "plt.show()"
   ],
   "metadata": {
    "collapsed": false,
    "pycharm": {
     "name": "#%%\n"
    }
   }
  },
  {
   "cell_type": "code",
   "execution_count": 91,
   "outputs": [
    {
     "data": {
      "text/plain": "<Figure size 432x288 with 1 Axes>",
      "image/png": "[encoded data removed]"
     },
     "metadata": {
      "needs_background": "light"
     },
     "output_type": "display_data"
    }
   ],
   "source": [
    "mean_proportion_thresh = []\n",
    "mean_valids_thresh = []\n",
    "std_proportion_thresh = []\n",
    "std_valids_thresh = []\n",
    "for i in range(len(range_of_thresholds)):\n",
    "    mean_proportion_thresh += [np.mean(np.array(proportion_thresh)[:,i])]\n",
    "    mean_valids_thresh += [np.mean(np.array(valids_thresh)[:,i])]\n",
    "    std_proportion_thresh += [np.std(np.array(proportion_thresh)[:,i])]\n",
    "    std_valids_thresh += [np.std(np.array(valids_thresh)[:,i])]\n",
    "\n",
    "plt.errorbar(r, mean_proportion_thresh, yerr=std_proportion_thresh, capsize=5, fmt='--o', label='proportion of correct poses')\n",
    "plt.errorbar(r, mean_valids_thresh, yerr=std_valids_thresh, capsize=5, fmt='--o', label='proportion of available poses')\n",
    "plt.xlabel('threshold')\n",
    "plt.ylabel('proportion')\n",
    "plt.title('considering the top '+str(top)+' poses')\n",
    "plt.legend()\n",
    "plt.show()"
   ],
   "metadata": {
    "collapsed": false,
    "pycharm": {
     "name": "#%%\n"
    }
   }
  }
 ],
 "metadata": {
  "kernelspec": {
   "display_name": "Python 3",
   "language": "python",
   "name": "python3"
  },
  "language_info": {
   "codemirror_mode": {
    "name": "ipython",
    "version": 2
   },
   "file_extension": ".py",
   "mimetype": "text/x-python",
   "name": "python",
   "nbconvert_exporter": "python",
   "pygments_lexer": "ipython2",
   "version": "2.7.6"
  }
 },
 "nbformat": 4,
 "nbformat_minor": 0
}