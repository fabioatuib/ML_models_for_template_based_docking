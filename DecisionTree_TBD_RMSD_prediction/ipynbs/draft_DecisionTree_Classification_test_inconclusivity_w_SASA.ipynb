{
 "cells": [
  {
   "cell_type": "code",
   "execution_count": 1,
   "metadata": {
    "collapsed": true
   },
   "outputs": [],
   "source": [
    "import os\n",
    "import random\n",
    "\n",
    "#data\n",
    "import pandas as pd\n",
    "\n",
    "# chemistry\n",
    "import rdkit\n",
    "from rdkit import RDLogger\n",
    "from rdkit import Chem\n",
    "from rdkit.Chem import AllChem\n",
    "from rdkit.Chem import rdFMCS\n",
    "from rdkit import DataStructs\n",
    "from rdkit.Chem import PandasTools\n",
    "from rdkit.Chem import Lipinski\n",
    "\n",
    "# math\n",
    "import numpy as np\n",
    "\n",
    "# plotting\n",
    "from matplotlib import pyplot as plt\n",
    "\n",
    "# Machine learning\n",
    "import sklearn\n",
    "from sklearn import tree"
   ]
  },
  {
   "cell_type": "markdown",
   "source": [
    "Here I am training a Decision Tree model to classify if two pairs of ligands are suitable for template based docking:\n",
    "\n",
    "1) The continuous rmsd values are divided into 2 classes: bellow 2.5 A and above 2.5 A\n",
    "\n",
    "2) No values are considered inconclusive\n",
    "\n",
    "3) Test set and training set don't have the same molecules"
   ],
   "metadata": {
    "collapsed": false,
    "pycharm": {
     "name": "#%% md\n"
    }
   }
  },
  {
   "cell_type": "code",
   "execution_count": 12,
   "outputs": [],
   "source": [
    "# get the data set\n",
    "df = pd.read_csv('../data/train_test_rmsd_values_featurized_w_sasa_without_bad_pairs.csv')"
   ],
   "metadata": {
    "collapsed": false,
    "pycharm": {
     "name": "#%%\n"
    }
   }
  },
  {
   "cell_type": "code",
   "execution_count": 31,
   "outputs": [],
   "source": [
    "levels_of_inconclusivity_dfs = []\n",
    "\n",
    "for _df, dif in zip([df]*21 ,np.linspace(0,0.4,21)):\n",
    "    # Assign binary labels to the dataset\n",
    "    _df['binned_rmsd'] = None\n",
    "\n",
    "    for index, rmsd in _df[['rmsd']].itertuples():\n",
    "        if rmsd < 2.6:\n",
    "            _df.at[index, 'binned_rmsd'] = 1\n",
    "        elif 2.6 < rmsd < 2.6 + dif:\n",
    "            _df.at[index, 'binned_rmsd'] = -1\n",
    "        else:\n",
    "            _df.at[index, 'binned_rmsd'] = 0\n",
    "\n",
    "    _df = _df[_df['template']!=df['docked']]\n",
    "\n",
    "    #_df = _df.loc[_df['binned_rmsd']!=-1].reset_index(drop=True)\n",
    "\n",
    "    levels_of_inconclusivity_dfs += [_df]"
   ],
   "metadata": {
    "collapsed": false,
    "pycharm": {
     "name": "#%%\n"
    }
   }
  },
  {
   "cell_type": "code",
   "execution_count": 32,
   "outputs": [
    {
     "name": "stdout",
     "output_type": "stream",
     "text": [
      "['template_HeavyAtomCount', 'template_NHOHCount', 'template_NOCount', 'template_RingCount', 'template_NumHAcceptors', 'template_NumHDonors', 'template_NumHeteroAtoms', 'template_NumRotatableBonds', 'docked_HeavyAtomCount', 'docked_NHOHCount', 'docked_NOCount', 'docked_RingCount', 'docked_NumHAcceptors', 'docked_NumHDonors', 'docked_NumHeteroAtoms', 'docked_NumRotatableBonds', 'mcs_HeavyAtomCount', 'mcs_NOCount', 'mcs_RingCount', 'mcs_NumHeteroAtoms', 'mcs_template_NHOHCount', 'mcs_docked_NHOHCount', 'mcs_template_NumHAcceptors', 'mcs_docked_NumHAcceptors', 'mcs_template_NumHDonors', 'mcs_docked_NumHDonors', 'mcs_template_NumRotatableBonds', 'mcs_docked_NumRotatableBonds', 'ec_tanimoto_similarity', 'fc_tanimoto_similarity', 'mcs_bonded_polar_sasa', 'mcs_bonded_apolar_sasa', 'mcs_unbonded_polar_sasa', 'mcs_unbonded_apolar_sasa', 'sasa_bonded_polar', 'sasa_bonded_apolar', 'sasa_unbonded_polar', 'sasa_unbonded_apolar', 'group']\n"
     ]
    }
   ],
   "source": [
    "df['binned_rmsd'] = None\n",
    "# Features that will be used to classify:\n",
    "not_features = ['template', 'docked', 'rmsd', 'uniprot_id', 'mcs_smartsString',\n",
    "                'smiles_template', 'smiles_docked', 'binned_rmsd']\n",
    "features = df.drop(columns=not_features).columns.tolist()\n",
    "print(features)"
   ],
   "metadata": {
    "collapsed": false,
    "pycharm": {
     "name": "#%%\n"
    }
   }
  },
  {
   "cell_type": "code",
   "execution_count": 33,
   "outputs": [
    {
     "name": "stdout",
     "output_type": "stream",
     "text": [
      "{1: 7399, 2: 4296, 5: 788, 6: 1053, 9: 408, 10: 695, 11: 593, 12: 260, 14: 2, 15: 94, 17: 5, 18: 119, 19: 504, 20: 2, 21: 483, 22: 313, 23: 248, 24: 222, 25: 324, 26: 314, 27: 39, 28: 199, 29: 218, 30: 93, 32: 13, 33: 190, 34: 162, 37: 3, 38: 55, 39: 92, 40: 76, 41: 89, 42: 84, 43: 103, 44: 116, 45: 48, 47: 74, 48: 11, 49: 17, 52: 6, 53: 45, 55: 2, 56: 37, 57: 48, 58: 22, 59: 7, 60: 7, 61: 11, 62: 20, 63: 8, 65: 11, 66: 2, 67: 5, 69: 8, 70: 2, 71: 2, 72: 2, 73: 2, 74: 4, 75: 4, 76: 1, 77: 6}\n"
     ]
    }
   ],
   "source": [
    "groups = []\n",
    "size_of_groups = {}\n",
    "for group in df['group'].drop_duplicates():\n",
    "    groups +=  [group]\n",
    "    size_of_groups[group] = df[df['group']==group].shape[0]\n",
    "\n",
    "print(size_of_groups)"
   ],
   "metadata": {
    "collapsed": false,
    "pycharm": {
     "name": "#%%\n"
    }
   }
  },
  {
   "cell_type": "code",
   "execution_count": 34,
   "outputs": [],
   "source": [
    "def check_sizes_of_folds(folds):\n",
    "    sizes = []\n",
    "    for fold in folds:\n",
    "        sizes += [sum([size_of_groups[g] for g in fold])]\n",
    "    return sizes"
   ],
   "metadata": {
    "collapsed": false,
    "pycharm": {
     "name": "#%%\n"
    }
   }
  },
  {
   "cell_type": "code",
   "execution_count": 35,
   "outputs": [
    {
     "name": "stdout",
     "output_type": "stream",
     "text": [
      "15 2\n",
      "[7471, 2679, 1136, 8780]\n",
      "[1429, 2933, 14041, 1663]\n",
      "[2254, 2403, 1721, 13688]\n",
      "[8979, 2881, 5995, 2211]\n",
      "[1604, 3636, 12925, 1901]\n",
      "done!\n"
     ]
    }
   ],
   "source": [
    "k = 4\n",
    "\n",
    "base_size = len(groups)//(k)\n",
    "base_rest = len(groups)%(k)\n",
    "\n",
    "print(base_size, base_rest)\n",
    "\n",
    "list_of_folds = []\n",
    "for number in range(5):\n",
    "\n",
    "    random.shuffle(groups)\n",
    "    folds = [groups[i*base_size:(i+1)*base_size] for i in range(k)]\n",
    "\n",
    "    for i in range(base_rest):\n",
    "        folds[-(i+1)] = np.append(groups[-(i+1)], folds[-(i+1)])\n",
    "\n",
    "    print(check_sizes_of_folds(folds))\n",
    "\n",
    "    list_of_folds += [folds]\n",
    "\n",
    "levels_train_test_folds_dfs = []\n",
    "for _df in levels_of_inconclusivity_dfs:\n",
    "    train_test_folds_dfs = []\n",
    "    for folds in list_of_folds:\n",
    "        folds_dfs = [[]]\n",
    "        for fold in folds:\n",
    "            for group in fold:\n",
    "                folds_dfs[-1] += [_df.loc[_df['group']==group]]\n",
    "            folds_dfs[-1] = pd.concat(folds_dfs[-1])\n",
    "            folds_dfs += [[]]\n",
    "\n",
    "        _train_test_folds_dfs = []\n",
    "        for i in range(k):\n",
    "            _train_test_folds_dfs += [[]]\n",
    "            _train_test_folds_dfs[-1] += [pd.concat([folds_dfs[j] for j in range(k) if j!=i])]\n",
    "            _train_test_folds_dfs[-1][-1] = _train_test_folds_dfs[-1][-1].loc[_train_test_folds_dfs[-1][-1]['binned_rmsd']!=-1]\n",
    "            _train_test_folds_dfs[-1] += [folds_dfs[i]]\n",
    "            _train_test_folds_dfs[-1][-1].loc[_train_test_folds_dfs[-1][-1]['rmsd']>3, 'binned_rmsd'] = 0\n",
    "            _train_test_folds_dfs[-1][-1].loc[_train_test_folds_dfs[-1][-1]['rmsd']<2, 'binned_rmsd'] = 1\n",
    "            _train_test_folds_dfs[-1][-1] = _train_test_folds_dfs[-1][-1].loc[(_train_test_folds_dfs[-1][-1]['rmsd']<2) |\n",
    "                                                                              (_train_test_folds_dfs[-1][-1]['rmsd']>3)]\n",
    "\n",
    "        train_test_folds_dfs += _train_test_folds_dfs\n",
    "\n",
    "    levels_train_test_folds_dfs += [train_test_folds_dfs]\n",
    "\n",
    "print('done!')"
   ],
   "metadata": {
    "collapsed": false,
    "pycharm": {
     "name": "#%%\n"
    }
   }
  },
  {
   "cell_type": "code",
   "execution_count": 36,
   "outputs": [],
   "source": [
    "clf = tree.DecisionTreeClassifier(max_depth=6, class_weight=\"balanced\")"
   ],
   "metadata": {
    "collapsed": false,
    "pycharm": {
     "name": "#%%\n"
    }
   }
  },
  {
   "cell_type": "code",
   "execution_count": 37,
   "outputs": [],
   "source": [
    "recall = []\n",
    "precision = []\n",
    "auc = []\n",
    "for i in range(len(levels_of_inconclusivity_dfs)):\n",
    "    recall += [[]]\n",
    "    precision += [[]]\n",
    "    auc += [[]]\n",
    "    for train, test in levels_train_test_folds_dfs[i]:\n",
    "        _feats_train = train.drop(columns=not_features + ['group']).values.tolist()\n",
    "        _labels_train = train[['binned_rmsd']].values.tolist()\n",
    "        clf = clf.fit(_feats_train, _labels_train)\n",
    "        _feats_test = test.drop(columns=not_features + ['group']).values.tolist()\n",
    "        _labels_test = test[['binned_rmsd']].values.tolist()\n",
    "        recall[-1] += [sklearn.metrics.recall_score(_labels_test, clf.predict(_feats_test))]\n",
    "        precision[-1] += [sklearn.metrics.precision_score(_labels_test, clf.predict(_feats_test))]\n",
    "        auc[-1] += [sklearn.metrics.roc_auc_score(_labels_test, clf.predict_proba(_feats_test)[:,1])]\n",
    "    recall[-1] = np.mean(recall[-1])\n",
    "    auc[-1] = np.mean(auc[-1])\n",
    "    precision[-1] = np.mean(precision[-1])"
   ],
   "metadata": {
    "collapsed": false,
    "pycharm": {
     "name": "#%%\n"
    }
   }
  },
  {
   "cell_type": "code",
   "execution_count": 38,
   "outputs": [
    {
     "data": {
      "text/plain": "<Figure size 432x288 with 1 Axes>",
      "image/png": "[encoded data removed]"
     },
     "metadata": {
      "needs_background": "light"
     },
     "output_type": "display_data"
    }
   ],
   "source": [
    "x = np.linspace(0,0.4,21)\n",
    "plt.plot(x,recall)\n",
    "plt.plot(x,precision)\n",
    "plt.show()"
   ],
   "metadata": {
    "collapsed": false,
    "pycharm": {
     "name": "#%%\n"
    }
   }
  },
  {
   "cell_type": "code",
   "execution_count": 39,
   "outputs": [
    {
     "data": {
      "text/plain": "<Figure size 432x288 with 1 Axes>",
      "image/png": "[encoded data removed]"
     },
     "metadata": {
      "needs_background": "light"
     },
     "output_type": "display_data"
    }
   ],
   "source": [
    "plt.plot(x,auc)\n",
    "plt.show()"
   ],
   "metadata": {
    "collapsed": false,
    "pycharm": {
     "name": "#%%\n"
    }
   }
  },
  {
   "cell_type": "code",
   "execution_count": 172,
   "outputs": [
    {
     "name": "stdout",
     "output_type": "stream",
     "text": [
      "ec_tanimoto_similarity        0.112 +/- 0.007\n",
      "mcs_unbonded_polar_sasa       0.030 +/- 0.003\n",
      "mcs_bonded_apolar_sasa        0.026 +/- 0.005\n",
      "fc_tanimoto_similarity        0.016 +/- 0.003\n",
      "mcs_RingCount                 0.009 +/- 0.003\n",
      "docked_HeavyAtomCount         0.009 +/- 0.004\n",
      "mcs_NumHeteroAtoms            0.007 +/- 0.001\n",
      "mcs_HeavyAtomCount            0.005 +/- 0.001\n",
      "sasa_bonded_apolar            0.003 +/- 0.001\n",
      "mcs_docked_NumHDonors         0.002 +/- 0.001\n",
      "mcs_template_NumHAcceptors    0.002 +/- 0.001\n",
      "mcs_NOCount                   0.001 +/- 0.000\n",
      "template_NumRotatableBonds    0.001 +/- 0.000\n"
     ]
    }
   ],
   "source": [
    "from sklearn import inspection\n",
    "\n",
    "rr = []\n",
    "for train, test in train_test:\n",
    "\n",
    "    _feats_train = train.drop(columns=not_features + ['group']).values.tolist()\n",
    "    _labels_train = train[['binned_rmsd']].values.tolist()\n",
    "    _feats_test = test.drop(columns=not_features + ['group']).values.tolist()\n",
    "    _labels_test = test[['binned_rmsd']].values.tolist()\n",
    "\n",
    "    clf = clf.fit(_feats_train, _labels_train)\n",
    "\n",
    "    r = inspection.permutation_importance(clf, _feats_test, _labels_test,\n",
    "                                      scoring=sklearn.metrics.make_scorer(sklearn.metrics.roc_auc_score),\n",
    "                                      n_repeats=100,\n",
    "                                      n_jobs=-1)\n",
    "    rr += [r]\n",
    "\n",
    "r = {'importances_mean': 0,\n",
    "     'importances_std': 0}\n",
    "for i in rr:\n",
    "    r['importances_mean'] += i['importances_mean']/len(rr)\n",
    "    r['importances_std'] += i['importances_std']/len(rr)\n",
    "\n",
    "for i in r['importances_mean'].argsort()[::-1]:\n",
    "    if r['importances_mean'][i] - 2 * r['importances_std'][i] > 0:\n",
    "        print(f\"{features[i]:<30}\"\n",
    "              f\"{r['importances_mean'][i]:.3f}\"\n",
    "              f\" +/- {r['importances_std'][i]:.3f}\")"
   ],
   "metadata": {
    "collapsed": false,
    "pycharm": {
     "name": "#%%\n"
    }
   }
  },
  {
   "cell_type": "code",
   "execution_count": 88,
   "outputs": [],
   "source": [
    "for train, test in train_test:\n",
    "    train['dt_score'] = None\n",
    "    test['dt_score'] = None\n",
    "\n",
    "top = 3\n",
    "range_of_thresholds = [0.1, 0.2, 0.3, 0.4, 0.5, 0.6, 0.7, 0.8, 0.9]\n",
    "proportion_top = []\n",
    "range_of_top = [1,2,3,4,5,6,7,8,9,10]\n",
    "proportion_thresh = []\n",
    "valids_thresh = []\n",
    "for train, test in train_test:\n",
    "    _feats_train = train.drop(columns=not_features + ['group', 'dt_score']).values.tolist()\n",
    "    _labels_train = train[['binned_rmsd']].values.tolist()\n",
    "    _feats_test = test.drop(columns=not_features + ['group', 'dt_score']).values.tolist()\n",
    "    clf = clf.fit(_feats_train, _labels_train)\n",
    "    test['dt_score'] = clf.predict_proba(_feats_test)[:,1]\n",
    "    _proportion = []\n",
    "    for i in range_of_top:\n",
    "        count = 0\n",
    "        for docked in test['docked'].drop_duplicates().values:\n",
    "                if test.loc[(test['docked']==docked)] \\\n",
    "                                     .sort_values(by=['dt_score'], ascending=False)[:i] \\\n",
    "                                     .loc[test['rmsd']<2].shape[0] > 0:\n",
    "                    count += 1\n",
    "        _proportion += [count/test['docked'].drop_duplicates().shape[0]]\n",
    "    proportion_top += [_proportion]\n",
    "\n",
    "    _proportion = []\n",
    "    _valids = []\n",
    "    for i in range_of_thresholds:\n",
    "        count = 0\n",
    "        valid = 0\n",
    "        for docked in test['docked'].drop_duplicates().values:\n",
    "            if test.loc[(test['docked']==docked)\n",
    "                                      & (test['dt_score']>i)].shape[0] > 0:\n",
    "                valid += 1\n",
    "                if test.loc[(test['docked']==docked) & (test['dt_score']>i)] \\\n",
    "                                     .sort_values(by=['dt_score'], ascending=False)[:top] \\\n",
    "                                     .loc[test['rmsd']<2].shape[0] > 0:\n",
    "                    count += 1\n",
    "        _valids += [valid/test['docked'].drop_duplicates().shape[0]]\n",
    "        _proportion += [count/valid]\n",
    "    proportion_thresh += [_proportion]\n",
    "    valids_thresh += [_valids]\n"
   ],
   "metadata": {
    "collapsed": false,
    "pycharm": {
     "name": "#%%\n"
    }
   }
  },
  {
   "cell_type": "code",
   "execution_count": 93,
   "outputs": [
    {
     "data": {
      "text/plain": "<Figure size 432x288 with 1 Axes>",
      "image/png": "[encoded data removed]"
     },
     "metadata": {
      "needs_background": "light"
     },
     "output_type": "display_data"
    }
   ],
   "source": [
    "mean_proportion_top = []\n",
    "std_proportion_top = []\n",
    "for i in range(len(range_of_top)):\n",
    "    mean_proportion_top += [np.mean(np.array(proportion_top)[:,i])]\n",
    "    std_proportion_top += [np.std(np.array(proportion_top)[:,i])]\n",
    "\n",
    "plt.errorbar(range_of_top, mean_proportion_top, yerr=std_proportion_top, capsize=5, fmt='--o', label='proportion of correct poses')\n",
    "plt.xlabel('top considered')\n",
    "plt.ylabel('proportion')\n",
    "plt.legend()\n",
    "plt.show()"
   ],
   "metadata": {
    "collapsed": false,
    "pycharm": {
     "name": "#%%\n"
    }
   }
  },
  {
   "cell_type": "code",
   "execution_count": 91,
   "outputs": [
    {
     "data": {
      "text/plain": "<Figure size 432x288 with 1 Axes>",
      "image/png": "[encoded data removed]"
     },
     "metadata": {
      "needs_background": "light"
     },
     "output_type": "display_data"
    }
   ],
   "source": [
    "mean_proportion_thresh = []\n",
    "mean_valids_thresh = []\n",
    "std_proportion_thresh = []\n",
    "std_valids_thresh = []\n",
    "for i in range(len(range_of_thresholds)):\n",
    "    mean_proportion_thresh += [np.mean(np.array(proportion_thresh)[:,i])]\n",
    "    mean_valids_thresh += [np.mean(np.array(valids_thresh)[:,i])]\n",
    "    std_proportion_thresh += [np.std(np.array(proportion_thresh)[:,i])]\n",
    "    std_valids_thresh += [np.std(np.array(valids_thresh)[:,i])]\n",
    "\n",
    "plt.errorbar(r, mean_proportion_thresh, yerr=std_proportion_thresh, capsize=5, fmt='--o', label='proportion of correct poses')\n",
    "plt.errorbar(r, mean_valids_thresh, yerr=std_valids_thresh, capsize=5, fmt='--o', label='proportion of available poses')\n",
    "plt.xlabel('threshold')\n",
    "plt.ylabel('proportion')\n",
    "plt.title('considering the top '+str(top)+' poses')\n",
    "plt.legend()\n",
    "plt.show()"
   ],
   "metadata": {
    "collapsed": false,
    "pycharm": {
     "name": "#%%\n"
    }
   }
  }
 ],
 "metadata": {
  "kernelspec": {
   "display_name": "Python 3",
   "language": "python",
   "name": "python3"
  },
  "language_info": {
   "codemirror_mode": {
    "name": "ipython",
    "version": 2
   },
   "file_extension": ".py",
   "mimetype": "text/x-python",
   "name": "python",
   "nbconvert_exporter": "python",
   "pygments_lexer": "ipython2",
   "version": "2.7.6"
  }
 },
 "nbformat": 4,
 "nbformat_minor": 0
}