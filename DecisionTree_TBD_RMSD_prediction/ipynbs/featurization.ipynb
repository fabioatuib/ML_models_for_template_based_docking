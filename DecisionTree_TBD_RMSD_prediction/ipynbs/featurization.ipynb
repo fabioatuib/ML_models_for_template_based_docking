{
 "cells": [
  {
   "cell_type": "code",
   "execution_count": 1,
   "metadata": {
    "collapsed": true
   },
   "outputs": [],
   "source": [
    "import os\n",
    "import pandas as pd\n",
    "import rdkit\n",
    "from rdkit import RDLogger\n",
    "from rdkit import Chem\n",
    "from rdkit.Chem import AllChem\n",
    "from rdkit.Chem import rdFMCS\n",
    "from rdkit import DataStructs\n",
    "from rdkit.Chem import PandasTools\n",
    "from rdkit.Chem import Lipinski\n",
    "from matplotlib import pyplot as plt"
   ]
  },
  {
   "cell_type": "code",
   "execution_count": 2,
   "outputs": [],
   "source": [
    "# Disable log messages from RDKit\n",
    "RDLogger.DisableLog('rdApp.*')"
   ],
   "metadata": {
    "collapsed": false,
    "pycharm": {
     "name": "#%%\n"
    }
   }
  },
  {
   "cell_type": "code",
   "execution_count": 3,
   "outputs": [],
   "source": [
    "# table with rmsd values, smiles and mcs smarts\n",
    "#rmsd_df = pd.read_csv('../data/rmsd_values_base.csv')\n",
    "rmsd_df = pd.read_csv('../../../Analysis_of_Docking/data/rmsd_values_plus_smiles.csv')"
   ],
   "metadata": {
    "collapsed": false,
    "pycharm": {
     "name": "#%%\n"
    }
   }
  },
  {
   "cell_type": "code",
   "execution_count": 4,
   "outputs": [],
   "source": [
    "def HDonors_in_substructure(mol, subs):\n",
    "    HDonor_atoms = mol.GetSubstructMatches(Lipinski.HDonorSmarts)\n",
    "    if HDonor_atoms == ():\n",
    "        return 0\n",
    "    atoms_in_substructure = mol.GetSubstructMatches(subs)[0]\n",
    "    count = 0\n",
    "    for HDonor_atom in HDonor_atoms:\n",
    "        if HDonor_atom[0] in atoms_in_substructure:\n",
    "            count += 1\n",
    "    return count\n",
    "\n",
    "def HAcceptors_in_substructure(mol, subs):\n",
    "    HAcceptor_atoms = mol.GetSubstructMatches(Lipinski.HAcceptorSmarts)\n",
    "    if HAcceptor_atoms == ():\n",
    "        return 0\n",
    "    atoms_in_substructure = mol.GetSubstructMatches(subs)[0]\n",
    "    count = 0\n",
    "    for HAcceptor_atom in HAcceptor_atoms:\n",
    "        if HAcceptor_atom[0] in atoms_in_substructure:\n",
    "            count += 1\n",
    "    return count\n",
    "\n",
    "def NHOH_in_substructure(mol, subs):\n",
    "    NHOH_atoms = mol.GetSubstructMatches(Lipinski.NHOHSmarts)\n",
    "    if NHOH_atoms == ():\n",
    "        return 0\n",
    "    atoms_in_substructure = mol.GetSubstructMatches(subs)[0]\n",
    "    count = 0\n",
    "    for NHOH_atom in NHOH_atoms:\n",
    "        if NHOH_atom[0] in atoms_in_substructure:\n",
    "            count += 1\n",
    "    return count\n",
    "\n",
    "def NumRotableBonds_NotStrict_in_substructure(mol, subs):\n",
    "    RotableBonds_pairs = mol.GetSubstructMatches(Lipinski.RotatableBondSmarts)\n",
    "    if RotableBonds_pairs == ():\n",
    "        return 0\n",
    "    atoms_in_substructure = mol.GetSubstructMatches(subs)[0]\n",
    "    count = 0\n",
    "    for RotableBonds_pair in RotableBonds_pairs:\n",
    "        if RotableBonds_pair[0] in atoms_in_substructure and \\\n",
    "                RotableBonds_pair[1] in atoms_in_substructure:\n",
    "            count += 1\n",
    "    return count\n",
    "\n",
    "def NumRotableBonds_minusAmides_in_substructure(mol, subs):\n",
    "    patt1 = Chem.MolFromSmarts(\"[!$([NH]!@C(=O))&!D1&!$(*#*)]-&!@[!$([NH]!@C(=O))&!D1&!$(*#*)]\")\n",
    "    patt2 = Chem.MolFromSmarts(\"[!$(C(=O)!@[NH])&!D1&!$(*#*)]-&!@[!$(C(=O)!@[NH])&!D1&!$(*#*)]\")\n",
    "    RotableBonds_pairs = mol.GetSubstructMatches(patt1) + mol.GetSubstructMatches(patt2)\n",
    "    if RotableBonds_pairs == ():\n",
    "        return 0\n",
    "    RotableBonds_pairs = set(RotableBonds_pairs)\n",
    "    atoms_in_substructure = mol.GetSubstructMatches(subs)[0]\n",
    "    count = 0\n",
    "    for RotableBonds_pair in RotableBonds_pairs:\n",
    "        if RotableBonds_pair[0] in atoms_in_substructure and \\\n",
    "                RotableBonds_pair[1] in atoms_in_substructure:\n",
    "            count += 1\n",
    "    return count\n",
    "\n",
    "def NumRotableBonds_minusAmides(mol):\n",
    "    patt1 = Chem.MolFromSmarts(\"[!$([NH]!@C(=O))&!D1&!$(*#*)]-&!@[!$([NH]!@C(=O))&!D1&!$(*#*)]\")\n",
    "    patt2 = Chem.MolFromSmarts(\"[!$(C(=O)!@[NH])&!D1&!$(*#*)]-&!@[!$(C(=O)!@[NH])&!D1&!$(*#*)]\")\n",
    "    RotableBonds_pairs = mol.GetSubstructMatches(patt1) + mol.GetSubstructMatches(patt2)\n",
    "    if RotableBonds_pairs == ():\n",
    "        return 0\n",
    "    RotableBonds_pairs = set(RotableBonds_pairs)\n",
    "    return len(RotableBonds_pairs)"
   ],
   "metadata": {
    "collapsed": false,
    "pycharm": {
     "name": "#%%\n"
    }
   }
  },
  {
   "cell_type": "code",
   "execution_count": 5,
   "outputs": [],
   "source": [
    "# Attempt 1: use Lipinski parameters as features\n",
    "# define Lipinski parameters:\n",
    "\n",
    "lipinski_parameters = {'HeavyAtomCount': Lipinski.HeavyAtomCount, 'NHOHCount': Lipinski.NHOHCount, 'NOCount': Lipinski.NOCount,\n",
    "                       'RingCount': Lipinski.RingCount, 'NumHAcceptors': Lipinski.NumHAcceptors, 'NumHDonors': Lipinski.NumHDonors,\n",
    "                       'NumHeteroAtoms': Lipinski.NumHeteroatoms, 'NumRotatableBonds': NumRotableBonds_minusAmides}\n",
    "\n",
    "lipinski_parameters_mcs = {'mcs_HeavyAtomCount': Lipinski.HeavyAtomCount, 'mcs_NOCount': Lipinski.NOCount,\n",
    "                           'mcs_RingCount': Lipinski.RingCount,  'mcs_NumHeteroAtoms': Lipinski.NumHeteroatoms,\n",
    "                           'mcs_template_NHOHCount': NHOH_in_substructure, 'mcs_docked_NHOHCount': NHOH_in_substructure,\n",
    "                           'mcs_template_NumHAcceptors': HAcceptors_in_substructure, 'mcs_docked_NumHAcceptors': HAcceptors_in_substructure,\n",
    "                           'mcs_template_NumHDonors': HDonors_in_substructure, 'mcs_docked_NumHDonors': HDonors_in_substructure,\n",
    "                           'mcs_template_NumRotatableBonds': NumRotableBonds_minusAmides_in_substructure, 'mcs_docked_NumRotatableBonds': NumRotableBonds_minusAmides_in_substructure}"
   ],
   "metadata": {
    "collapsed": false,
    "pycharm": {
     "name": "#%%\n"
    }
   }
  },
  {
   "cell_type": "code",
   "execution_count": 6,
   "outputs": [],
   "source": [
    "for type in ['template', 'docked']:\n",
    "    for lipinski_parameter in lipinski_parameters:\n",
    "        rmsd_df[type + '_' + lipinski_parameter] = None\n",
    "\n",
    "for lipinski_parameter in lipinski_parameters_mcs:\n",
    "        rmsd_df[lipinski_parameter] = None"
   ],
   "metadata": {
    "collapsed": false,
    "pycharm": {
     "name": "#%%\n"
    }
   }
  },
  {
   "cell_type": "code",
   "execution_count": 7,
   "outputs": [
    {
     "name": "stdout",
     "output_type": "stream",
     "text": [
      "Done!\n"
     ]
    }
   ],
   "source": [
    "for index, template, docked, smiles_template, smiles_docked, mcs_smarts in \\\n",
    "        rmsd_df[['template', 'docked', 'smiles_template', 'smiles_docked', 'mcs_smartsString']].itertuples():\n",
    "\n",
    "    template_mol = Chem.MolFromSmiles(smiles_template)\n",
    "    docked_mol = Chem.MolFromSmiles(smiles_docked)\n",
    "    mcs_mol = Chem.MolFromSmarts(mcs_smarts)\n",
    "    mcs_mol.UpdatePropertyCache(strict=False)\n",
    "    Chem.GetSymmSSSR(mcs_mol)\n",
    "\n",
    "    template_fp = AllChem.GetMorganFingerprint(template_mol, 3)\n",
    "    docked_fp = AllChem.GetMorganFingerprint(docked_mol, 3)\n",
    "    rmsd_df.at[index, 'ec_tanimoto_similarity'] = DataStructs.TanimotoSimilarity(template_fp, docked_fp)\n",
    "\n",
    "    template_fp = AllChem.GetMorganFingerprint(template_mol, 3, useFeatures=True)\n",
    "    docked_fp = AllChem.GetMorganFingerprint(docked_mol, 3, useFeatures=True)\n",
    "    rmsd_df.at[index, 'fc_tanimoto_similarity'] = DataStructs.TanimotoSimilarity(template_fp, docked_fp)\n",
    "\n",
    "    for type in ['template', 'docked', 'mcs']:\n",
    "        if type == 'template':\n",
    "            for lipinski_parameter in lipinski_parameters:\n",
    "                try:\n",
    "                    rmsd_df.at[index, type + '_' + lipinski_parameter] =\\\n",
    "                        lipinski_parameters[lipinski_parameter](template_mol)\n",
    "                except:\n",
    "                    rmsd_df.at[index, type + '_' + lipinski_parameter] = -1\n",
    "        if type == 'docked':\n",
    "            for lipinski_parameter in lipinski_parameters:\n",
    "                try:\n",
    "                    rmsd_df.at[index, type + '_' + lipinski_parameter] =\\\n",
    "                        lipinski_parameters[lipinski_parameter](docked_mol)\n",
    "                except:\n",
    "                    rmsd_df.at[index, type + '_' + lipinski_parameter] = -1\n",
    "        if type == 'mcs':\n",
    "            for lipinski_parameter in lipinski_parameters_mcs:\n",
    "                try:\n",
    "                    if 'template' in lipinski_parameter:\n",
    "                        rmsd_df.at[index, lipinski_parameter] = \\\n",
    "                            lipinski_parameters_mcs[lipinski_parameter](template_mol, mcs_mol)\n",
    "                    elif 'docked' in lipinski_parameter:\n",
    "                        rmsd_df.at[index, lipinski_parameter] = \\\n",
    "                            lipinski_parameters_mcs[lipinski_parameter](docked_mol, mcs_mol)\n",
    "                    else: \n",
    "                        rmsd_df.at[index, lipinski_parameter] = \\\n",
    "                            lipinski_parameters_mcs[lipinski_parameter](mcs_mol)\n",
    "                except:\n",
    "                    rmsd_df.at[index, lipinski_parameter] = -1\n",
    "\n",
    "print('Done!')"
   ],
   "metadata": {
    "collapsed": false,
    "pycharm": {
     "name": "#%%\n"
    }
   }
  },
  {
   "cell_type": "code",
   "execution_count": 11,
   "outputs": [],
   "source": [
    "#rmsd_df.to_csv('../data/rmsd_values_featurized.csv', index=False)\n",
    "rmsd_df.to_csv('../../../Analysis_of_Docking/data/rmsd_values_featurized.csv', index=False)\n"
   ],
   "metadata": {
    "collapsed": false,
    "pycharm": {
     "name": "#%%\n"
    }
   }
  }
 ],
 "metadata": {
  "kernelspec": {
   "display_name": "Python 3",
   "language": "python",
   "name": "python3"
  },
  "language_info": {
   "codemirror_mode": {
    "name": "ipython",
    "version": 2
   },
   "file_extension": ".py",
   "mimetype": "text/x-python",
   "name": "python",
   "nbconvert_exporter": "python",
   "pygments_lexer": "ipython2",
   "version": "2.7.6"
  }
 },
 "nbformat": 4,
 "nbformat_minor": 0
}