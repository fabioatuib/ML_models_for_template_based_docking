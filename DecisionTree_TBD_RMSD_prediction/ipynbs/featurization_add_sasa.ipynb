{
 "cells": [
  {
   "cell_type": "code",
   "execution_count": 1,
   "metadata": {
    "collapsed": true
   },
   "outputs": [],
   "source": [
    "import os\n",
    "import pandas as pd\n",
    "from rdkit import Chem\n",
    "from rdkit.Chem import Lipinski\n",
    "import json"
   ]
  },
  {
   "cell_type": "code",
   "execution_count": 2,
   "outputs": [],
   "source": [
    "# Define constants:\n",
    "PATH_TO_BASE_FOLDER = '/home/fol007/PycharmProjects/ChEMBL_plus_BindingMOAD/BindingMOAD_AstexDiverseSet_Simplified' #'/BindingMOAD_AstexDiverseSet_Simplified'\n",
    "PATH_TO_PDB_FOLDER = f'{PATH_TO_BASE_FOLDER}/pdb_files'\n",
    "PATH_TO_REFERENCE_LIGANDS_FOLDER = f'{PATH_TO_BASE_FOLDER}/reference_ligands'\n",
    "PATH_TO_ATOM_PROPERTIES = '/home/fol007/PycharmProjects/SASA_calculation/data/sasa_per_atoms'"
   ],
   "metadata": {
    "collapsed": false,
    "pycharm": {
     "name": "#%%\n"
    }
   }
  },
  {
   "cell_type": "code",
   "execution_count": 3,
   "outputs": [],
   "source": [
    "# Helper function:\n",
    "\n",
    "def create_reference_dictionary(path_to_reference_ligands_folder=PATH_TO_REFERENCE_LIGANDS_FOLDER):\n",
    "    '''organize dictionary based on the reference ligands'''\n",
    "    reference_dictionary = {}\n",
    "    uniprot_ids = os.listdir(path_to_reference_ligands_folder)\n",
    "    for uniprot_id in uniprot_ids:\n",
    "        reference_dictionary[uniprot_id] = []\n",
    "        for references in os.listdir(path_to_reference_ligands_folder + '/' + uniprot_id):\n",
    "            reference_dictionary[uniprot_id] += [references]\n",
    "    return reference_dictionary"
   ],
   "metadata": {
    "collapsed": false,
    "pycharm": {
     "name": "#%%\n"
    }
   }
  },
  {
   "cell_type": "code",
   "execution_count": 4,
   "outputs": [
    {
     "data": {
      "text/plain": "  uniprot_id reference                                        mol_object  \\\n0     P16083  3OVM_MZC  <rdkit.Chem.rdchem.Mol object at 0x7fcabed85300>   \n1     P16083  3G5M_XM5  <rdkit.Chem.rdchem.Mol object at 0x7fcabed88170>   \n2     P16083  3OWH_52X  <rdkit.Chem.rdchem.Mol object at 0x7fcabed51490>   \n\n                                     atom_properties  \n0  [{'SASAClassName': 'Apolar', 'SASA': '7.815197...  \n1  [{'SASAClassName': 'Polar', 'SASA': '43.576379...  \n2  [{'SASAClassName': 'Apolar', 'SASA': '6.997487...  ",
      "text/html": "<div>\n<style scoped>\n    .dataframe tbody tr th:only-of-type {\n        vertical-align: middle;\n    }\n\n    .dataframe tbody tr th {\n        vertical-align: top;\n    }\n\n    .dataframe thead th {\n        text-align: right;\n    }\n</style>\n<table border=\"1\" class=\"dataframe\">\n  <thead>\n    <tr style=\"text-align: right;\">\n      <th></th>\n      <th>uniprot_id</th>\n      <th>reference</th>\n      <th>mol_object</th>\n      <th>atom_properties</th>\n    </tr>\n  </thead>\n  <tbody>\n    <tr>\n      <th>0</th>\n      <td>P16083</td>\n      <td>3OVM_MZC</td>\n      <td>&lt;rdkit.Chem.rdchem.Mol object at 0x7fcabed85300&gt;</td>\n      <td>[{'SASAClassName': 'Apolar', 'SASA': '7.815197...</td>\n    </tr>\n    <tr>\n      <th>1</th>\n      <td>P16083</td>\n      <td>3G5M_XM5</td>\n      <td>&lt;rdkit.Chem.rdchem.Mol object at 0x7fcabed88170&gt;</td>\n      <td>[{'SASAClassName': 'Polar', 'SASA': '43.576379...</td>\n    </tr>\n    <tr>\n      <th>2</th>\n      <td>P16083</td>\n      <td>3OWH_52X</td>\n      <td>&lt;rdkit.Chem.rdchem.Mol object at 0x7fcabed51490&gt;</td>\n      <td>[{'SASAClassName': 'Apolar', 'SASA': '6.997487...</td>\n    </tr>\n  </tbody>\n</table>\n</div>"
     },
     "execution_count": 4,
     "metadata": {},
     "output_type": "execute_result"
    }
   ],
   "source": [
    "reference_dictionary = create_reference_dictionary()\n",
    "\n",
    "dictionary_df = {'uniprot_id':[], 'reference':[], 'mol_object':[], 'atom_properties': []}\n",
    "\n",
    "for uniprot_id in reference_dictionary:\n",
    "    for ref in reference_dictionary[uniprot_id]:\n",
    "        if os.path.isfile(PATH_TO_ATOM_PROPERTIES + '/' + ref.split('.')[0] + '.json'):\n",
    "            dictionary_df['uniprot_id'] += [uniprot_id]\n",
    "            dictionary_df['reference'] += [ref.split('.')[0]]\n",
    "            dictionary_df['mol_object'] += [Chem.SDMolSupplier(PATH_TO_REFERENCE_LIGANDS_FOLDER + '/' + uniprot_id + '/' + ref)[0]]\n",
    "            dictionary_df['atom_properties'] += [json.load(open(PATH_TO_ATOM_PROPERTIES + '/' + ref.split('.')[0] + '.json','r'))]\n",
    "\n",
    "dictionary_df = pd.DataFrame(dictionary_df)\n",
    "\n",
    "dictionary_df.head(3)"
   ],
   "metadata": {
    "collapsed": false,
    "pycharm": {
     "name": "#%%\n"
    }
   }
  },
  {
   "cell_type": "code",
   "execution_count": 5,
   "outputs": [],
   "source": [
    "# table with rmsd values, smiles and mcs smarts\n",
    "#rmsd_df = pd.read_csv('../data/rmsd_values_base.csv')\n",
    "rmsd_df = pd.read_csv('../../../Analysis_of_Docking/data/rmsd_values_featurized_without_bad_pairs.csv')\n",
    "\n",
    "rmsd_df['mcs_bonded_polar_sasa'] = None\n",
    "rmsd_df['mcs_bonded_apolar_sasa'] = None\n",
    "rmsd_df['mcs_unbonded_polar_sasa'] = None\n",
    "rmsd_df['mcs_unbonded_apolar_sasa'] = None"
   ],
   "metadata": {
    "collapsed": false,
    "pycharm": {
     "name": "#%%\n"
    }
   }
  },
  {
   "cell_type": "code",
   "execution_count": 6,
   "outputs": [
    {
     "name": "stdout",
     "output_type": "stream",
     "text": [
      "Done!\n"
     ]
    }
   ],
   "source": [
    "for index, template, mcs_smarts in \\\n",
    "        rmsd_df[['template', 'mcs_smartsString']].itertuples():\n",
    "\n",
    "    if os.path.isfile(PATH_TO_ATOM_PROPERTIES + '/' + template + '.json'):\n",
    "        try:\n",
    "            template_mol = dictionary_df.loc[dictionary_df['reference']==template, 'mol_object'].values[0]\n",
    "            mcs_mol = Chem.MolFromSmarts(mcs_smarts)\n",
    "            mcs_mol.UpdatePropertyCache(strict=False)\n",
    "            Chem.GetSymmSSSR(mcs_mol)\n",
    "\n",
    "            mcs_indices=template_mol.GetSubstructMatch(mcs_mol)\n",
    "\n",
    "            atom_properties = dictionary_df.loc[dictionary_df['reference']==template, 'atom_properties'].values[0]\n",
    "\n",
    "            mcs_bonded_polar_sasa = 0\n",
    "            mcs_bonded_apolar_sasa = 0\n",
    "            mcs_unbonded_polar_sasa = 0\n",
    "            mcs_unbonded_apolar_sasa = 0\n",
    "\n",
    "            for atom_index in mcs_indices:\n",
    "                if atom_properties[atom_index]['SASAClassName'] == 'Polar':\n",
    "                    mcs_bonded_polar_sasa += float(atom_properties[atom_index]['SASA_bonded'])\n",
    "                    mcs_unbonded_polar_sasa += float(atom_properties[atom_index]['SASA'])\n",
    "                else:\n",
    "                    mcs_bonded_apolar_sasa += float(atom_properties[atom_index]['SASA_bonded'])\n",
    "                    mcs_unbonded_apolar_sasa += float(atom_properties[atom_index]['SASA'])\n",
    "\n",
    "            rmsd_df.at[index, 'mcs_bonded_polar_sasa'] = mcs_bonded_polar_sasa\n",
    "            rmsd_df.at[index, 'mcs_bonded_apolar_sasa'] = mcs_bonded_apolar_sasa\n",
    "            rmsd_df.at[index, 'mcs_unbonded_polar_sasa'] = mcs_unbonded_polar_sasa\n",
    "            rmsd_df.at[index, 'mcs_unbonded_apolar_sasa'] = mcs_unbonded_apolar_sasa\n",
    "        except Exception as e:\n",
    "            print(e)\n",
    "            print(PATH_TO_ATOM_PROPERTIES + '/' + ref.split('.')[0] + '.json')\n",
    "            print(index, template)\n",
    "    else:\n",
    "        rmsd_df.at[index, 'mcs_bonded_polar_sasa'] = -1\n",
    "        rmsd_df.at[index, 'mcs_bonded_apolar_sasa'] = -1\n",
    "        rmsd_df.at[index, 'mcs_unbonded_polar_sasa'] = -1\n",
    "        rmsd_df.at[index, 'mcs_unbonded_apolar_sasa'] = -1\n",
    "\n",
    "print('Done!')"
   ],
   "metadata": {
    "collapsed": false,
    "pycharm": {
     "name": "#%%\n"
    }
   }
  },
  {
   "cell_type": "code",
   "execution_count": 7,
   "outputs": [],
   "source": [
    "# add SASA values as features\n",
    "sasa_df = pd.read_csv('/home/fol007/PycharmProjects/SASA_calculation/data/total_sasa.csv')\n",
    "\n",
    "rmsd_df['sasa_bonded_polar'] , rmsd_df['sasa_bonded_apolar'],\\\n",
    "rmsd_df['sasa_unbonded_polar'], rmsd_df['sasa_unbonded_apolar'] = None, None, None, None"
   ],
   "metadata": {
    "collapsed": false,
    "pycharm": {
     "name": "#%%\n"
    }
   }
  },
  {
   "cell_type": "code",
   "execution_count": 8,
   "outputs": [
    {
     "name": "stderr",
     "output_type": "stream",
     "text": [
      "/home/fol007/anaconda3/envs/py37_rdkit/lib/python3.7/site-packages/pandas/core/indexing.py:1765: SettingWithCopyWarning: \n",
      "A value is trying to be set on a copy of a slice from a DataFrame.\n",
      "Try using .loc[row_indexer,col_indexer] = value instead\n",
      "\n",
      "See the caveats in the documentation: https://pandas.pydata.org/pandas-docs/stable/user_guide/indexing.html#returning-a-view-versus-a-copy\n",
      "  isetter(loc, value)\n"
     ]
    }
   ],
   "source": [
    "for reference, sasa_bond_polar, sasa_bond_apolar, sasa_unbond_polar, sasa_unbond_apolar, error \\\n",
    "        in sasa_df[['reference', 'sasa_bond_polar', 'sasa_bond_apolar', 'sasa_unbond_polar', 'sasa_unbond_apolar', 'error']].values:\n",
    "    try:\n",
    "        error = int(error)\n",
    "    except:\n",
    "        error = 0\n",
    "    if error == -1:\n",
    "        if len(rmsd_df.loc[rmsd_df['template']==reference]) > 0:\n",
    "\n",
    "            rmsd_df.loc[rmsd_df['template']==reference, 'sasa_bonded_polar'] = sasa_bond_polar\n",
    "            rmsd_df.loc[rmsd_df['template']==reference, 'sasa_bonded_apolar'] = sasa_bond_apolar\n",
    "            rmsd_df.loc[rmsd_df['template']==reference, 'sasa_unbonded_polar'] = sasa_unbond_polar\n",
    "            rmsd_df.loc[rmsd_df['template']==reference, 'sasa_unbonded_apolar'] = sasa_unbond_apolar\n",
    "    else:\n",
    "        rmsd_df = rmsd_df.loc[rmsd_df['template']!=reference]"
   ],
   "metadata": {
    "collapsed": false,
    "pycharm": {
     "name": "#%%\n"
    }
   }
  },
  {
   "cell_type": "code",
   "execution_count": 9,
   "outputs": [],
   "source": [
    "rmsd_df.to_csv('../../../Analysis_of_Docking/data/rmsd_values_featurized_w_sasa_without_bad_pairs.csv' ,index=False)"
   ],
   "metadata": {
    "collapsed": false,
    "pycharm": {
     "name": "#%%\n"
    }
   }
  }
 ],
 "metadata": {
  "kernelspec": {
   "display_name": "Python 3",
   "language": "python",
   "name": "python3"
  },
  "language_info": {
   "codemirror_mode": {
    "name": "ipython",
    "version": 2
   },
   "file_extension": ".py",
   "mimetype": "text/x-python",
   "name": "python",
   "nbconvert_exporter": "python",
   "pygments_lexer": "ipython2",
   "version": "2.7.6"
  }
 },
 "nbformat": 4,
 "nbformat_minor": 0
}