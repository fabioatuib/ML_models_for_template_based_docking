{
 "cells": [
  {
   "cell_type": "code",
   "execution_count": 1,
   "metadata": {
    "collapsed": true
   },
   "outputs": [],
   "source": [
    "import pandas as pd"
   ]
  },
  {
   "cell_type": "code",
   "execution_count": 2,
   "outputs": [
    {
     "data": {
      "text/plain": "  uniprot_id      ref1      ref2      rmsd  distance  error\n0     P16083  3OVM_MZC  3G5M_XM5  0.204945  0.103434    NaN\n1     P16083  3OVM_MZC  3OWH_52X  0.146992  0.079980    NaN\n2     P16083  3OVM_MZC  3GAM_MXX  0.185748  0.355137    NaN\n3     P16083  3OVM_MZC  4GQI_M49  0.181142  0.164626    NaN\n4     P16083  3OVM_MZC  5LBW_V0L  0.226252  0.140950    NaN",
      "text/html": "<div>\n<style scoped>\n    .dataframe tbody tr th:only-of-type {\n        vertical-align: middle;\n    }\n\n    .dataframe tbody tr th {\n        vertical-align: top;\n    }\n\n    .dataframe thead th {\n        text-align: right;\n    }\n</style>\n<table border=\"1\" class=\"dataframe\">\n  <thead>\n    <tr style=\"text-align: right;\">\n      <th></th>\n      <th>uniprot_id</th>\n      <th>ref1</th>\n      <th>ref2</th>\n      <th>rmsd</th>\n      <th>distance</th>\n      <th>error</th>\n    </tr>\n  </thead>\n  <tbody>\n    <tr>\n      <th>0</th>\n      <td>P16083</td>\n      <td>3OVM_MZC</td>\n      <td>3G5M_XM5</td>\n      <td>0.204945</td>\n      <td>0.103434</td>\n      <td>NaN</td>\n    </tr>\n    <tr>\n      <th>1</th>\n      <td>P16083</td>\n      <td>3OVM_MZC</td>\n      <td>3OWH_52X</td>\n      <td>0.146992</td>\n      <td>0.079980</td>\n      <td>NaN</td>\n    </tr>\n    <tr>\n      <th>2</th>\n      <td>P16083</td>\n      <td>3OVM_MZC</td>\n      <td>3GAM_MXX</td>\n      <td>0.185748</td>\n      <td>0.355137</td>\n      <td>NaN</td>\n    </tr>\n    <tr>\n      <th>3</th>\n      <td>P16083</td>\n      <td>3OVM_MZC</td>\n      <td>4GQI_M49</td>\n      <td>0.181142</td>\n      <td>0.164626</td>\n      <td>NaN</td>\n    </tr>\n    <tr>\n      <th>4</th>\n      <td>P16083</td>\n      <td>3OVM_MZC</td>\n      <td>5LBW_V0L</td>\n      <td>0.226252</td>\n      <td>0.140950</td>\n      <td>NaN</td>\n    </tr>\n  </tbody>\n</table>\n</div>"
     },
     "execution_count": 2,
     "metadata": {},
     "output_type": "execute_result"
    }
   ],
   "source": [
    "receptor_alignment_df = pd.read_csv('../../../Align_Receptors/dictionary.csv')\n",
    "receptor_alignment_df.head()"
   ],
   "metadata": {
    "collapsed": false,
    "pycharm": {
     "name": "#%%\n"
    }
   }
  },
  {
   "cell_type": "markdown",
   "source": [
    "I only want to use template-based docking pairs that have a maximum minimum distance of 1 A from each other and whose local binding site alignment is less than 1.5 A."
   ],
   "metadata": {
    "collapsed": false,
    "pycharm": {
     "name": "#%% md\n"
    }
   }
  },
  {
   "cell_type": "code",
   "execution_count": 3,
   "outputs": [],
   "source": [
    "pairs_to_use_df = receptor_alignment_df.loc[(receptor_alignment_df['rmsd'] < 1.5) &\n",
    "                                            (receptor_alignment_df['distance']<1)]"
   ],
   "metadata": {
    "collapsed": false,
    "pycharm": {
     "name": "#%%\n"
    }
   }
  },
  {
   "cell_type": "code",
   "execution_count": 5,
   "outputs": [
    {
     "data": {
      "text/plain": "((19719, 6), (18304, 6))"
     },
     "execution_count": 5,
     "metadata": {},
     "output_type": "execute_result"
    }
   ],
   "source": [
    "receptor_alignment_df.shape, pairs_to_use_df.shape"
   ],
   "metadata": {
    "collapsed": false,
    "pycharm": {
     "name": "#%%\n"
    }
   }
  },
  {
   "cell_type": "code",
   "execution_count": 6,
   "outputs": [],
   "source": [
    "rmsd_df = pd.read_csv('../../../Analysis_of_Docking/data/rmsd_values_featurized.csv')"
   ],
   "metadata": {
    "collapsed": false,
    "pycharm": {
     "name": "#%%\n"
    }
   }
  },
  {
   "cell_type": "code",
   "execution_count": 7,
   "outputs": [],
   "source": [
    "pairs_to_use = [set(pair) for pair in pairs_to_use_df[['ref1', 'ref2']].values]"
   ],
   "metadata": {
    "collapsed": false,
    "pycharm": {
     "name": "#%%\n"
    }
   }
  },
  {
   "cell_type": "code",
   "execution_count": 8,
   "outputs": [],
   "source": [
    "indexes_to_drop = []\n",
    "for index, template, docked in rmsd_df[['template', 'docked']].itertuples():\n",
    "    if {template, docked} not in pairs_to_use:\n",
    "        indexes_to_drop += [index]"
   ],
   "metadata": {
    "collapsed": false,
    "pycharm": {
     "name": "#%%\n"
    }
   }
  },
  {
   "cell_type": "code",
   "execution_count": 9,
   "outputs": [],
   "source": [
    "rmsd_df = rmsd_df.drop(index=indexes_to_drop)"
   ],
   "metadata": {
    "collapsed": false,
    "pycharm": {
     "name": "#%%\n"
    }
   }
  },
  {
   "cell_type": "code",
   "execution_count": 10,
   "outputs": [],
   "source": [
    "indexes_to_drop = []\n",
    "for index, template, docked in rmsd_df[['template', 'docked']].itertuples():\n",
    "    if template != docked:\n",
    "        if template.split('_')[0] == docked.split('_')[0]:\n",
    "            indexes_to_drop += [index]"
   ],
   "metadata": {
    "collapsed": false,
    "pycharm": {
     "name": "#%%\n"
    }
   }
  },
  {
   "cell_type": "code",
   "execution_count": 11,
   "outputs": [],
   "source": [
    "rmsd_df = rmsd_df.drop(index=indexes_to_drop)"
   ],
   "metadata": {
    "collapsed": false,
    "pycharm": {
     "name": "#%%\n"
    }
   }
  },
  {
   "cell_type": "code",
   "execution_count": 12,
   "outputs": [],
   "source": [
    "# save\n",
    "rmsd_df.to_csv('../../../Analysis_of_Docking/data/rmsd_values_featurized_without_bad_pairs.csv', index=False)"
   ],
   "metadata": {
    "collapsed": false,
    "pycharm": {
     "name": "#%%\n"
    }
   }
  },
  {
   "cell_type": "code",
   "execution_count": 14,
   "outputs": [
    {
     "data": {
      "text/plain": "(24949, 37)"
     },
     "execution_count": 14,
     "metadata": {},
     "output_type": "execute_result"
    }
   ],
   "source": [
    "rmsd_df.shape"
   ],
   "metadata": {
    "collapsed": false,
    "pycharm": {
     "name": "#%%\n"
    }
   }
  }
 ],
 "metadata": {
  "kernelspec": {
   "display_name": "Python 3",
   "language": "python",
   "name": "python3"
  },
  "language_info": {
   "codemirror_mode": {
    "name": "ipython",
    "version": 2
   },
   "file_extension": ".py",
   "mimetype": "text/x-python",
   "name": "python",
   "nbconvert_exporter": "python",
   "pygments_lexer": "ipython2",
   "version": "2.7.6"
  }
 },
 "nbformat": 4,
 "nbformat_minor": 0
}