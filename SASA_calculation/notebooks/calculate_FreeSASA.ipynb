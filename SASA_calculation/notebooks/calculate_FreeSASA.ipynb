{
 "cells": [
  {
   "cell_type": "code",
   "execution_count": 1,
   "metadata": {
    "collapsed": true
   },
   "outputs": [],
   "source": [
    "# import necessary modules\n",
    "import os\n",
    "import json\n",
    "import pandas as pd\n",
    "from rdkit import Chem\n",
    "import rdkit.Chem.rdFreeSASA as FreeSASA\n",
    "from pymol import cmd\n",
    "import multiprocessing as mp"
   ]
  },
  {
   "cell_type": "code",
   "execution_count": 2,
   "outputs": [],
   "source": [
    "# Defined constants:\n",
    "PATH_TO_BASE_FOLDER = '/home/fol007/PycharmProjects/ChEMBL_plus_BindingMOAD/BindingMOAD_AstexDiverseSet_Simplified' #'/BindingMOAD_AstexDiverseSet_Simplified'\n",
    "PATH_TO_PDB_FOLDER = f'{PATH_TO_BASE_FOLDER}/pdb_files'\n",
    "PATH_TO_REFERENCE_LIGANDS_FOLDER = f'{PATH_TO_BASE_FOLDER}/reference_ligands'"
   ],
   "metadata": {
    "collapsed": false,
    "pycharm": {
     "name": "#%%\n"
    }
   }
  },
  {
   "cell_type": "code",
   "execution_count": 3,
   "outputs": [],
   "source": [
    "# Helper functions:\n",
    "\n",
    "def create_reference_dictionary(path_to_reference_ligands_folder=PATH_TO_REFERENCE_LIGANDS_FOLDER):\n",
    "    '''organize dictionary based on the reference ligands'''\n",
    "    reference_dictionary = {}\n",
    "    uniprot_ids = os.listdir(path_to_reference_ligands_folder)\n",
    "    for uniprot_id in uniprot_ids:\n",
    "        reference_dictionary[uniprot_id] = []\n",
    "        for references in os.listdir(path_to_reference_ligands_folder + '/' + uniprot_id):\n",
    "            reference_dictionary[uniprot_id] += [references]\n",
    "    return reference_dictionary\n",
    "\n",
    "# Function to classify atoms as polar or apolar\n",
    "def classifyAtoms(mol, polar_atoms=[7,8,15,16]):\n",
    "    # the polar atoms are [N,O,S,P]\n",
    "    # Get Van der Waals radii (angstrom)\n",
    "    ptable = Chem.GetPeriodicTable()\n",
    "    radii = [ptable.GetRvdw(atom.GetAtomicNum()) for atom in mol.GetAtoms()]\n",
    "\n",
    "    for atom in mol.GetAtoms():\n",
    "        atom.SetProp(\"SASAClassName\", \"Apolar\") # mark everything as apolar to start\n",
    "        if atom.GetAtomicNum() in polar_atoms: #identify polar atoms and change their marking\n",
    "            atom.SetProp(\"SASAClassName\", \"Polar\") # mark as polar\n",
    "        elif atom.GetAtomicNum() == 1:\n",
    "            try:\n",
    "                if atom.GetBonds()[0].GetOtherAtom(atom).GetAtomicNum() in polar_atoms:\n",
    "                    atom.SetProp(\"SASAClassName\", \"Polar\") # mark as polar\n",
    "            except:\n",
    "                continue\n",
    "\n",
    "    return radii\n",
    "\n",
    "def calculate_sasa(path_to_mol, path_to_pdb):\n",
    "\n",
    "    # Get mol of molecule:\n",
    "    mol = Chem.SDMolSupplier(path_to_mol)[0]\n",
    "    # Get mol atoms\n",
    "    mol_atoms = mol.GetAtoms()\n",
    "    # Get conformer of mol\n",
    "    mol_conf = mol.GetConformer()\n",
    "\n",
    "    # First I am going to calculate the SASA of the unbond molecule\n",
    "    radii = classifyAtoms(mol)\n",
    "    FreeSASA.CalcSASA(mol, radii)\n",
    "\n",
    "    sasa_unbond_polar = sum(float(a.GetProp(\"SASA\")) for a in mol_atoms if a.GetProp(\"SASAClassName\")=='Polar')\n",
    "    sasa_unbond_apolar = sum(float(a.GetProp(\"SASA\")) for a in mol_atoms if a.GetProp(\"SASAClassName\")=='Apolar')\n",
    "\n",
    "    # Use pymol to obtain the bond ligand and the surrounding residues (minus the waters)\n",
    "    cmd.load(path_to_mol, object='mol')\n",
    "    cmd.load(path_to_pdb, object='pdb')\n",
    "\n",
    "    cmd.remove(selection='resn hoh')\n",
    "\n",
    "    cmd.select(name='bonded_mol', selection='br. pdb within 6.5 of mol')\n",
    "\n",
    "    bonded_mol_path = path_to_mol.split('/')[-1]+'.pdb'\n",
    "    cmd.save(filename=bonded_mol_path, selection='bonded_mol')\n",
    "\n",
    "    cmd.reinitialize()\n",
    "\n",
    "    bonded_mol = Chem.MolFromPDBFile(bonded_mol_path, sanitize=False)\n",
    "    os.remove(bonded_mol_path)\n",
    "\n",
    "    # Get mol atoms\n",
    "    bonded_mol_atoms = bonded_mol.GetAtoms()\n",
    "    # Get conformer of mol\n",
    "    bonded_mol_conf = bonded_mol.GetConformer()\n",
    "\n",
    "    # Calculate SASA of the bonded mol\n",
    "    radii=classifyAtoms(bonded_mol)\n",
    "    FreeSASA.CalcSASA(bonded_mol, radii)\n",
    "\n",
    "    for i in range(len(bonded_mol_atoms)):\n",
    "\n",
    "        coords_bonded = (bonded_mol_conf.GetAtomPosition(i).x,\n",
    "                         bonded_mol_conf.GetAtomPosition(i).y,\n",
    "                         bonded_mol_conf.GetAtomPosition(i).z)\n",
    "\n",
    "        for j in range(len(mol_atoms)):\n",
    "\n",
    "            coords_mol = (mol_conf.GetAtomPosition(j).x, mol_conf.GetAtomPosition(j).y, mol_conf.GetAtomPosition(j).z)\n",
    "\n",
    "            if coords_bonded == coords_mol:\n",
    "\n",
    "                mol_atoms[j].SetProp(\"SASA_bonded\", bonded_mol_atoms[i].GetProp(\"SASA\"))\n",
    "\n",
    "    sasa_bond_polar = sum(float(a.GetProp(\"SASA_bonded\")) for a in mol_atoms if a.GetProp(\"SASAClassName\")=='Polar')\n",
    "    sasa_bond_apolar = sum(float(a.GetProp(\"SASA_bonded\")) for a in mol_atoms if a.GetProp(\"SASAClassName\")=='Apolar')\n",
    "\n",
    "    atom_properties = []\n",
    "    for i in range(len(mol_atoms)):\n",
    "        atom_properties += [{'SASAClassName' : mol_atoms[i].GetProp('SASAClassName'),\n",
    "                             'SASA' : mol_atoms[i].GetProp('SASA'),\n",
    "                             'SASA_bonded' : mol_atoms[i].GetProp('SASA_bonded')}]\n",
    "\n",
    "    with open('../data/sasa_per_atoms/'+path_to_mol.split('/')[-1].split('.')[0]+'.json', 'w') as outfile:\n",
    "        json.dump(atom_properties, outfile, indent=4)\n",
    "\n",
    "    return sasa_bond_apolar, sasa_bond_polar, sasa_unbond_apolar, sasa_unbond_polar\n",
    "\n",
    "def run_in_parallel(index, path_to_mol, path_to_pdb):\n",
    "    try:\n",
    "        sasa_bond_apolar, sasa_bond_polar, sasa_unbond_apolar, sasa_unbond_polar = calculate_sasa(path_to_mol, path_to_pdb)\n",
    "        error = -1\n",
    "    except Exception as e:\n",
    "        sasa_bond_apolar, sasa_bond_polar, sasa_unbond_apolar, sasa_unbond_polar = None, None, None, None\n",
    "        error = e\n",
    "    return (index, sasa_bond_apolar, sasa_bond_polar, sasa_unbond_apolar, sasa_unbond_polar, error)"
   ],
   "metadata": {
    "collapsed": false,
    "pycharm": {
     "name": "#%%\n"
    }
   }
  },
  {
   "cell_type": "code",
   "execution_count": 4,
   "outputs": [
    {
     "data": {
      "text/plain": "  uniprot_id reference sasa_bond_polar sasa_bond_apolar sasa_unbond_polar  \\\n0     P16083  3OVM_MZC            None             None              None   \n1     P16083  3G5M_XM5            None             None              None   \n2     P16083  3OWH_52X            None             None              None   \n\n  sasa_unbond_apolar error  \n0               None  None  \n1               None  None  \n2               None  None  ",
      "text/html": "<div>\n<style scoped>\n    .dataframe tbody tr th:only-of-type {\n        vertical-align: middle;\n    }\n\n    .dataframe tbody tr th {\n        vertical-align: top;\n    }\n\n    .dataframe thead th {\n        text-align: right;\n    }\n</style>\n<table border=\"1\" class=\"dataframe\">\n  <thead>\n    <tr style=\"text-align: right;\">\n      <th></th>\n      <th>uniprot_id</th>\n      <th>reference</th>\n      <th>sasa_bond_polar</th>\n      <th>sasa_bond_apolar</th>\n      <th>sasa_unbond_polar</th>\n      <th>sasa_unbond_apolar</th>\n      <th>error</th>\n    </tr>\n  </thead>\n  <tbody>\n    <tr>\n      <th>0</th>\n      <td>P16083</td>\n      <td>3OVM_MZC</td>\n      <td>None</td>\n      <td>None</td>\n      <td>None</td>\n      <td>None</td>\n      <td>None</td>\n    </tr>\n    <tr>\n      <th>1</th>\n      <td>P16083</td>\n      <td>3G5M_XM5</td>\n      <td>None</td>\n      <td>None</td>\n      <td>None</td>\n      <td>None</td>\n      <td>None</td>\n    </tr>\n    <tr>\n      <th>2</th>\n      <td>P16083</td>\n      <td>3OWH_52X</td>\n      <td>None</td>\n      <td>None</td>\n      <td>None</td>\n      <td>None</td>\n      <td>None</td>\n    </tr>\n  </tbody>\n</table>\n</div>"
     },
     "execution_count": 4,
     "metadata": {},
     "output_type": "execute_result"
    }
   ],
   "source": [
    "reference_dictionary = create_reference_dictionary()\n",
    "\n",
    "dictionary_df = {'uniprot_id':[], 'reference':[]}\n",
    "\n",
    "for uniprot_id in reference_dictionary:\n",
    "    for ref in reference_dictionary[uniprot_id]:\n",
    "        dictionary_df['uniprot_id'] += [uniprot_id]\n",
    "        dictionary_df['reference'] += [ref.split('.')[0]]\n",
    "\n",
    "dictionary_df = pd.DataFrame(dictionary_df)\n",
    "\n",
    "dictionary_df['sasa_bond_polar'] = None\n",
    "dictionary_df['sasa_bond_apolar'] = None\n",
    "dictionary_df['sasa_unbond_polar'] = None\n",
    "dictionary_df['sasa_unbond_apolar'] = None\n",
    "dictionary_df['error'] = None\n",
    "\n",
    "dictionary_df.head(3)"
   ],
   "metadata": {
    "collapsed": false,
    "pycharm": {
     "name": "#%%\n"
    }
   }
  },
  {
   "cell_type": "code",
   "execution_count": 5,
   "outputs": [
    {
     "name": "stdout",
     "output_type": "stream",
     "text": [
      "2046\n",
      " PyMOL not running, entering library mode (experimental) PyMOL not running, entering library mode (experimental)\n",
      " PyMOL not running, entering library mode (experimental) PyMOL not running, entering library mode (experimental)\n",
      "\n",
      " PyMOL not running, entering library mode (experimental)\n",
      "\n",
      "2046\n"
     ]
    }
   ],
   "source": [
    "work = []\n",
    "#i = 0\n",
    "for index, uniprot_id, ref in dictionary_df[['uniprot_id', 'reference']].itertuples():\n",
    "\n",
    "    path_to_mol = PATH_TO_REFERENCE_LIGANDS_FOLDER + '/' + uniprot_id + '/' + ref + '.sdf'\n",
    "    path_to_pdb = PATH_TO_PDB_FOLDER + '/' + uniprot_id + '/' + ref.split('_')[0] + '.pdb'\n",
    "\n",
    "    work += [(index, path_to_mol, path_to_pdb)]\n",
    "\n",
    "    #i += 1\n",
    "    #if i ==10:\n",
    "    #    break\n",
    "\n",
    "print(len(work))\n",
    "\n",
    "# Get process results from the output queue\n",
    "pool = mp.Pool(processes=5)\n",
    "results = pool.starmap(run_in_parallel, work)\n",
    "print(len(results))\n",
    "\n",
    "for index, sasa_bond_apolar, sasa_bond_polar, sasa_unbond_apolar, sasa_unbond_polar, error in results:\n",
    "    dictionary_df.at[index, 'sasa_bond_apolar'] = sasa_bond_apolar\n",
    "    dictionary_df.at[index, 'sasa_bond_polar'] = sasa_bond_polar\n",
    "    dictionary_df.at[index, 'sasa_unbond_apolar'] = sasa_unbond_apolar\n",
    "    dictionary_df.at[index, 'sasa_unbond_polar'] = sasa_unbond_polar\n",
    "    dictionary_df.at[index, 'error'] = error\n",
    "\n",
    "dictionary_df.to_csv('../data/total_sasa.csv', index=False)"
   ],
   "metadata": {
    "collapsed": false,
    "pycharm": {
     "name": "#%%\n"
    }
   }
  },
  {
   "cell_type": "code",
   "execution_count": 6,
   "outputs": [
    {
     "data": {
      "text/plain": "     uniprot_id reference sasa_bond_polar sasa_bond_apolar sasa_unbond_polar  \\\n76       P00742  1NFU_RRP            None             None              None   \n246      P28720  1K4H_APQ            None             None              None   \n1796     P03372  6IAR_H8W            None             None              None   \n\n     sasa_unbond_apolar                                          error  \n76                 None                                  'SASA_bonded'  \n246                None                                  'SASA_bonded'  \n1796               None  'NoneType' object has no attribute 'GetAtoms'  ",
      "text/html": "<div>\n<style scoped>\n    .dataframe tbody tr th:only-of-type {\n        vertical-align: middle;\n    }\n\n    .dataframe tbody tr th {\n        vertical-align: top;\n    }\n\n    .dataframe thead th {\n        text-align: right;\n    }\n</style>\n<table border=\"1\" class=\"dataframe\">\n  <thead>\n    <tr style=\"text-align: right;\">\n      <th></th>\n      <th>uniprot_id</th>\n      <th>reference</th>\n      <th>sasa_bond_polar</th>\n      <th>sasa_bond_apolar</th>\n      <th>sasa_unbond_polar</th>\n      <th>sasa_unbond_apolar</th>\n      <th>error</th>\n    </tr>\n  </thead>\n  <tbody>\n    <tr>\n      <th>76</th>\n      <td>P00742</td>\n      <td>1NFU_RRP</td>\n      <td>None</td>\n      <td>None</td>\n      <td>None</td>\n      <td>None</td>\n      <td>'SASA_bonded'</td>\n    </tr>\n    <tr>\n      <th>246</th>\n      <td>P28720</td>\n      <td>1K4H_APQ</td>\n      <td>None</td>\n      <td>None</td>\n      <td>None</td>\n      <td>None</td>\n      <td>'SASA_bonded'</td>\n    </tr>\n    <tr>\n      <th>1796</th>\n      <td>P03372</td>\n      <td>6IAR_H8W</td>\n      <td>None</td>\n      <td>None</td>\n      <td>None</td>\n      <td>None</td>\n      <td>'NoneType' object has no attribute 'GetAtoms'</td>\n    </tr>\n  </tbody>\n</table>\n</div>"
     },
     "execution_count": 6,
     "metadata": {},
     "output_type": "execute_result"
    }
   ],
   "source": [
    "dictionary_df.loc[dictionary_df['error']!=-1]\n",
    "\n"
   ],
   "metadata": {
    "collapsed": false,
    "pycharm": {
     "name": "#%%\n"
    }
   }
  }
 ],
 "metadata": {
  "kernelspec": {
   "display_name": "Python 3",
   "language": "python",
   "name": "python3"
  },
  "language_info": {
   "codemirror_mode": {
    "name": "ipython",
    "version": 2
   },
   "file_extension": ".py",
   "mimetype": "text/x-python",
   "name": "python",
   "nbconvert_exporter": "python",
   "pygments_lexer": "ipython2",
   "version": "2.7.6"
  }
 },
 "nbformat": 4,
 "nbformat_minor": 0
}