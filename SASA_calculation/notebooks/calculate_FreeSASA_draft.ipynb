{
 "cells": [
  {
   "cell_type": "code",
   "execution_count": 1,
   "metadata": {
    "collapsed": true
   },
   "outputs": [],
   "source": [
    "# import necessary modules\n",
    "import os\n",
    "import pandas as pd\n",
    "from rdkit import Chem\n",
    "import rdkit.Chem.rdFreeSASA as FreeSASA\n",
    "from pymol import cmd\n",
    "\n",
    "import multiprocessing as mp"
   ]
  },
  {
   "cell_type": "code",
   "execution_count": 120,
   "outputs": [],
   "source": [
    "# Defined constants:\n",
    "PATH_TO_BASE_FOLDER = '/home/fol007/PycharmProjects/ChEMBL_plus_BindingMOAD/BindingMOAD_AstexDiverseSet_Simplified' #'/BindingMOAD_AstexDiverseSet_Simplified'\n",
    "PATH_TO_PDB_FOLDER = f'{PATH_TO_BASE_FOLDER}/pdb_files'\n",
    "PATH_TO_REFERENCE_LIGANDS_FOLDER = f'{PATH_TO_BASE_FOLDER}/reference_ligands'"
   ],
   "metadata": {
    "collapsed": false,
    "pycharm": {
     "name": "#%%\n"
    }
   }
  },
  {
   "cell_type": "code",
   "execution_count": 122,
   "outputs": [
    {
     "data": {
      "text/plain": "{'P16083': ['3OVM_MZC.sdf',\n  '3G5M_XM5.sdf',\n  '3OWH_52X.sdf',\n  '3GAM_MXX.sdf',\n  '4GQI_M49.sdf',\n  '5LBW_V0L.sdf',\n  '3OX3_4X4.sdf',\n  '2QWX_ML1.sdf',\n  '4ZVM_DM2.sdf',\n  '3FW1_STI.sdf',\n  '5LBY_6T2.sdf',\n  '3OWX_XRA.sdf',\n  '1XI2_CB1.sdf',\n  '3OX2_79X.sdf',\n  '2QX8_ML2.sdf',\n  '3TE7_TE7.sdf',\n  '5LBZ_6T3.sdf',\n  '5LBY_FAD.sdf',\n  '1SG0_STL.sdf'],\n 'P47811': ['3P78_P78.sdf',\n  '3P79_P79.sdf',\n  '4LOO_SB4.sdf',\n  '3P7C_P7C.sdf',\n  '3P7A_P7A.sdf',\n  '2GTN_LIE.sdf',\n  '2GTM_LID.sdf',\n  '2EWA_SB2.sdf',\n  '3P7B_P7B.sdf',\n  '3P5K_P5K.sdf'],\n 'Q08499': ['6INK_AKU.sdf',\n  '1ZKN_IBM.sdf',\n  '5LBO_6M5.sdf',\n  '6HWO_FFZ.sdf',\n  '2FM0_M98.sdf',\n  '6F8V_D0B.sdf',\n  '6IMO_AJL.sdf',\n  '1XOQ_ROF.sdf',\n  '6FDC_D5N.sdf',\n  '1XON_PIL.sdf',\n  '1Y2D_4DE.sdf',\n  '4WCU_3KQ.sdf',\n  '6IMD_AH9.sdf',\n  '1TBB_ROL.sdf',\n  '2FM5_M99.sdf',\n  '1Y2C_3DE.sdf',\n  '6IM6_AH3.sdf',\n  '1Y2B_DEE.sdf',\n  '6IMI_AH6.sdf',\n  '6F8U_CZQ.sdf',\n  '1XOR_ZAR.sdf',\n  '5WQA_J20.sdf',\n  '6FDC_DD5.sdf',\n  '6IMR_AJX.sdf',\n  '2QYN_NPV.sdf',\n  '1XOM_CIO.sdf',\n  '6FTW_E6Z.sdf',\n  '3SL4_JN4.sdf',\n  '6F6U_CV8.sdf',\n  '6F8W_D0E.sdf',\n  '3SL6_JN8.sdf',\n  '6F8T_CZT.sdf',\n  '1TB7_AMP.sdf',\n  '4W1O_3GJ.sdf',\n  '6F8X_D08.sdf',\n  '1Y2K_7DE.sdf',\n  '1Y2E_5DE.sdf',\n  '6RCW_JX2.sdf',\n  '6IND_AKO.sdf',\n  '6F8R_CZK.sdf',\n  '6IMT_AK0.sdf'],\n 'P00742': ['3M37_M37.sdf',\n  '2P3T_993.sdf',\n  '2BQ7_IID.sdf',\n  '2P3U_663.sdf',\n  '2P94_ME4.sdf',\n  '2P93_ME1.sdf',\n  '1NFU_RRP.sdf',\n  '3K9X_MBM.sdf',\n  '2EI7_D93.sdf',\n  '2XC5_OYJ.sdf',\n  '2VH6_GSV.sdf',\n  '2D1J_D01.sdf',\n  '2W26_RIV.sdf',\n  '3KL6_443.sdf',\n  '1NFY_RTR.sdf',\n  '1F0S_PR2.sdf',\n  '4Y76_4O1.sdf',\n  '3FFG_FFG.sdf',\n  '1F0R_815.sdf',\n  '2XC4_IVK.sdf',\n  '2W3K_L1D.sdf',\n  '4BTI_7R9.sdf',\n  '1MQ6_XLD.sdf',\n  '2Y82_930.sdf',\n  '2P95_ME5.sdf',\n  '2RA0_JNJ.sdf',\n  '2VH0_GSI.sdf',\n  '2XC0_8NC.sdf',\n  '3HPT_YET.sdf',\n  '3LIW_RUP.sdf',\n  '2WYJ_898.sdf',\n  '2J94_G15.sdf',\n  '3ENS_ENS.sdf',\n  '3Q3K_D90.sdf',\n  '1KSN_FXV.sdf',\n  '2EI6_D92.sdf',\n  '2UWO_701.sdf',\n  '2Y81_931.sdf',\n  '3CS7_LG0.sdf',\n  '2Y80_439.sdf',\n  '2Y7Z_C0Z.sdf',\n  '2BOH_IIA.sdf',\n  '2XBX_RR8.sdf',\n  '3KQC_LGK.sdf',\n  '3SW2_FI1.sdf',\n  '1V3X_D76.sdf',\n  '2UWL_895.sdf',\n  '2PHB_230.sdf',\n  '4Y79_4O6.sdf',\n  '4BTU_6XS.sdf',\n  '4A7I_A7I.sdf',\n  '2CJI_GSK.sdf',\n  '2J4I_GSJ.sdf',\n  '2J2U_GSQ.sdf',\n  '1NFW_RRR.sdf',\n  '1LPZ_CMB.sdf',\n  '2PR3_237.sdf',\n  '3CEN_FXA.sdf',\n  '2XBW_455.sdf',\n  '2G00_4QC.sdf',\n  '2J95_GSX.sdf',\n  '2P16_GG2.sdf',\n  '2Y7X_MZA.sdf',\n  '1MQ5_XLC.sdf',\n  '2W3I_L1C.sdf',\n  '1LPG_IMA.sdf',\n  '1EZQ_RPR.sdf',\n  '1NFX_RDR.sdf',\n  '2UWP_894.sdf',\n  '1Z6E_IK8.sdf',\n  '3M36_M35.sdf',\n  '2WYG_461.sdf',\n  '2FZZ_5QC.sdf',\n  '3KQB_LGJ.sdf',\n  '2J38_GS5.sdf',\n  '3KQE_LGM.sdf',\n  '2J34_GS6.sdf',\n  '2Q1J_FXI.sdf',\n  '1XKA_4PP.sdf'],\n 'P49841': ['5KPK_6VK.sdf',\n  '1Q41_IXM.sdf',\n  '6HK3_G8B.sdf',\n  '1J1C_ADP.sdf',\n  '6HK4_G8E.sdf',\n  '3DU8_553.sdf',\n  '4AFJ_SJJ.sdf',\n  '3GB2_G3B.sdf',\n  '3F7Z_34O.sdf',\n  '3ZRM_ZRM.sdf',\n  '1J1B_ANP.sdf',\n  '5HLP_65A.sdf',\n  '1R0E_DFN.sdf',\n  '3I4B_Z48.sdf',\n  '1Q3W_ATU.sdf',\n  '3ZRL_ZRL.sdf',\n  '1Q3D_STU.sdf',\n  '1O9U_ADZ.sdf',\n  '4PTG_2WG.sdf',\n  '4PTE_2WF.sdf',\n  '3ZRK_ZRK.sdf',\n  '4ACC_7YG.sdf',\n  '1Q5K_TMU.sdf'],\n 'P27707': ['3IPX_B86.sdf',\n  '1P5Z_AR3.sdf',\n  '1P5Z_ADP.sdf',\n  '3MJR_UDP.sdf',\n  '3MJR_AC2.sdf'],\n 'P19971': ['2WK6_IUR.sdf', '2J0F_TDR.sdf'],\n 'P10275': ['2AMB_17H.sdf',\n  '2PIT_DHT.sdf',\n  '3V49_PK0.sdf',\n  '2PIT_4HY.sdf',\n  '2PIP_K10.sdf',\n  '2YHD_AV6.sdf',\n  '3B66_B66.sdf',\n  '1XOW_R18.sdf',\n  '2YHD_TES.sdf',\n  '3V4A_PK1.sdf',\n  '2PIQ_RB1.sdf',\n  '2PNU_ENM.sdf',\n  '2HVC_LGD.sdf',\n  '5V8Q_97A.sdf',\n  '3B65_3B6.sdf',\n  '3RLJ_RLJ.sdf',\n  '2PIP_ICO.sdf',\n  '2YLO_YLO.sdf',\n  '5CJ6_51Y.sdf',\n  '4HLW_17W.sdf',\n  '2PIX_FLF.sdf',\n  '2AX9_BHM.sdf',\n  '3B68_B68.sdf',\n  '3B67_B67.sdf',\n  '3ZQT_30Z.sdf',\n  '5VO4_9FG.sdf',\n  '4QL8_JAD.sdf',\n  '2YLQ_YLQ.sdf',\n  '3B5R_B5R.sdf'],\n 'P03474': ['1VCJ_IBA.sdf',\n  '1B9V_RA2.sdf',\n  '1INF_ST4.sdf',\n  '1B9S_FDI.sdf',\n  '1INV_EQP.sdf',\n  '1B9T_RAI.sdf',\n  '1IVB_ST1.sdf'],\n 'O93077': ['1YVF_PH7.sdf'],\n 'P28720': ['3GC5_2MQ.sdf',\n  '1F3E_DPZ.sdf',\n  '1ENU_APZ.sdf',\n  '4Q4Q_SAQ.sdf',\n  '4LBU_1WJ.sdf',\n  '3EOS_PK2.sdf',\n  '1S39_AQO.sdf',\n  '4PUK_2WU.sdf',\n  '2QII_PQ0.sdf',\n  '2BBF_344.sdf',\n  '4Q4R_SQO.sdf',\n  '1R5Y_DQU.sdf',\n  '1Q65_BHB.sdf',\n  '1Y5W_NEZ.sdf',\n  '3EOU_PK3.sdf',\n  '1Q66_KMB.sdf',\n  '3C2Y_S60.sdf',\n  '1K4G_AIQ.sdf',\n  '4KWO_1UD.sdf',\n  '4PUJ_CKR.sdf',\n  '2QZR_S79.sdf',\n  '4Q4P_2YO.sdf',\n  '3GE7_AFQ.sdf',\n  '3TLL_62D.sdf',\n  '2PWU_GUN.sdf',\n  '1Y5V_NE8.sdf',\n  '4Q4O_2YM.sdf',\n  '3S1G_ITE.sdf',\n  '4LEQ_1WK.sdf',\n  '3GC4_AAQ.sdf',\n  '1K4H_APQ.sdf',\n  '3RR4_HRD.sdf',\n  '2Z7K_BGU.sdf',\n  '3SM0_AEK.sdf',\n  '1S38_MAQ.sdf',\n  '1Y5X_E89.sdf',\n  '5JXQ_6OK.sdf'],\n 'P49356': ['1SA4_JAN.sdf',\n  '2IEJ_FII.sdf',\n  '3E37_ED5.sdf',\n  '1MZC_BNE.sdf',\n  '1JCQ_739.sdf',\n  '1LD7_U66.sdf',\n  '1LD8_FPP.sdf',\n  '1S63_778.sdf',\n  '2IEJ_S48.sdf'],\n 'P00749': ['1GI9_123.sdf',\n  '2VNT_QGG.sdf',\n  '1SQO_UI2.sdf',\n  '1C5Y_ESP.sdf',\n  '3IG6_438.sdf',\n  '1C5Y_FLC.sdf',\n  '1C5X_ESI.sdf',\n  '1OWD_497.sdf',\n  '1SQA_UI1.sdf'],\n 'P03369': ['1B6L_PI4.sdf', '1B6P_PI7.sdf', '2J9K_2NC.sdf', '1B6K_PI5.sdf'],\n 'P10827': ['1NAV_IH5.sdf', '3JZB_4HY.sdf', '3ILZ_B72.sdf', '4LNX_T44.sdf'],\n 'P00520': ['3K5V_STI.sdf',\n  '6HD4_FYW.sdf',\n  '3K5V_STJ.sdf',\n  '2QOH_P3Y.sdf',\n  '3MSS_MS7.sdf',\n  '3MS9_MS9.sdf',\n  '6HD6_FYH.sdf',\n  '3KFA_B91.sdf',\n  '1FPU_PRC.sdf',\n  '3KF4_B90.sdf'],\n 'Q07785': ['1V0O_INR.sdf'],\n 'P53779': ['3G90_J72.sdf',\n  '4WHZ_3NL.sdf',\n  '3OY1_589.sdf',\n  '3RTP_34I.sdf',\n  '4W4V_3H8.sdf',\n  '3KVX_FMY.sdf',\n  '3G9L_J67.sdf',\n  '4X21_3WH.sdf',\n  '2ZDU_446.sdf',\n  '3DA6_BZ9.sdf',\n  '3TTJ_JBI.sdf',\n  '4W4W_3HJ.sdf',\n  '6EMH_BGE.sdf',\n  '2B1P_AIZ.sdf',\n  '4Z9L_880.sdf',\n  '6EKD_B9K.sdf',\n  '1PMV_537.sdf',\n  '3FI3_JK2.sdf',\n  '3OXI_SYY.sdf',\n  '2O0U_C0M.sdf',\n  '2ZDT_46C.sdf',\n  '2P33_J07.sdf',\n  '2WAJ_SNB.sdf',\n  '3PTG_932.sdf',\n  '2OK1_33A.sdf',\n  '2O2U_738.sdf',\n  '3FI2_JK1.sdf',\n  '1PMN_984.sdf',\n  '4W4Y_3HQ.sdf'],\n 'P11712': ['5W0C_9W6.sdf', '5K7K_6RJ.sdf'],\n 'P69905': ['4M4B_NOE.sdf',\n  '5E29_RQ3.sdf',\n  '3WHM_O4B.sdf',\n  '5E29_5JN.sdf',\n  '2D5Z_L35.sdf',\n  '5KDQ_KOH.sdf'],\n 'P00811': ['4KZ9_1U7.sdf',\n  '4JXV_1MU.sdf',\n  '3GVB_3GV.sdf',\n  '1L2S_STC.sdf',\n  '4KZ5_1U3.sdf',\n  '2PU2_DK2.sdf',\n  '2R9W_23C.sdf',\n  '4OKP_2V0.sdf',\n  '1XGI_NST.sdf',\n  '3GQZ_GF7.sdf',\n  '4KZ3_1U1.sdf',\n  '3GV9_GV9.sdf',\n  '4JXS_18U.sdf',\n  '4KZ7_1U5.sdf',\n  '2R9X_WH6.sdf',\n  '4KZB_NZ3.sdf',\n  '4KZ6_ZB6.sdf',\n  '4JXW_1MW.sdf',\n  '1XGJ_HTC.sdf',\n  '1LL9_AXL.sdf',\n  '4KZ4_4A1.sdf',\n  '3GR2_GF4.sdf',\n  '3GRJ_G14.sdf'],\n 'O43570': ['4HT2_V50.sdf',\n  '4QJ0_WWX.sdf',\n  '1JD0_AZM.sdf',\n  '4KP8_E1G.sdf',\n  '6G5L_EM5.sdf',\n  '6G7A_EOQ.sdf',\n  '4QJW_WWO.sdf',\n  '5MSB_V13.sdf',\n  '4KP5_E1F.sdf',\n  '4WW8_VD9.sdf',\n  '4QJO_V1F.sdf',\n  '4Q0L_V14.sdf'],\n 'P24941': ['2R3J_SCJ.sdf',\n  '1JSV_U55.sdf',\n  '3NS9_NS9.sdf',\n  '1KE7_LS3.sdf',\n  '2VTN_LZ7.sdf',\n  '6Q4E_HH5.sdf',\n  '2C6M_DT5.sdf',\n  '2VTL_LZ5.sdf',\n  '1GZ8_MBP.sdf',\n  '1YKR_628.sdf',\n  '4ERW_STU.sdf',\n  '5IEX_6AF.sdf',\n  '2W1H_L0F.sdf',\n  '2C6I_DT1.sdf',\n  '2VTI_LZ3.sdf',\n  '1DM2_HMD.sdf',\n  '2R3R_6SC.sdf',\n  '2VU3_LZE.sdf',\n  '6Q4H_HGH.sdf',\n  '2VTO_LZ8.sdf',\n  '3BHU_MHR.sdf',\n  '5K4J_6QB.sdf',\n  '5IEY_6AE.sdf',\n  '3PJ8_404.sdf',\n  '3IGG_EFQ.sdf',\n  '1E1V_CMG.sdf',\n  '1W0X_OLO.sdf',\n  '3FZ1_B98.sdf',\n  '4LYN_1YG.sdf',\n  '1VYZ_N5B.sdf',\n  '2R3H_SCE.sdf',\n  '5LMK_6ZK.sdf',\n  '3TIZ_3TI.sdf',\n  '2BTR_U73.sdf',\n  '2WIH_P48.sdf',\n  '4CFN_JYM.sdf',\n  '2BHE_BRY.sdf',\n  '1H0V_UN4.sdf',\n  '2W05_FRT.sdf',\n  '4CFV_75X.sdf',\n  '2UUE_MTZ.sdf',\n  '2UZO_C62.sdf',\n  '4ACM_7YG.sdf',\n  '2VTM_LZM.sdf',\n  '1OIU_N76.sdf',\n  '1URW_I1P.sdf',\n  '1OIQ_HDU.sdf',\n  '1OIY_N41.sdf',\n  '1Y91_CT9.sdf',\n  '2C5N_CK8.sdf',\n  '2W17_I19.sdf',\n  '1H07_MFP.sdf',\n  '3LFS_A07.sdf',\n  '3ULI_1N3.sdf',\n  '2R3G_SC9.sdf',\n  '2B55_D31.sdf',\n  '3BHT_MFR.sdf',\n  '1OIT_HDT.sdf',\n  '2VTP_LZ9.sdf',\n  '5IEV_R0N.sdf',\n  '1R78_FMD.sdf',\n  '1KE9_LS5.sdf',\n  '2R3P_3SC.sdf',\n  '2VV9_IM9.sdf',\n  '6Q49_HGQ.sdf',\n  '1DI8_DTQ.sdf',\n  '3UNJ_0BX.sdf',\n  '2VTR_LZB.sdf',\n  '2R3O_2SC.sdf',\n  '2R64_740.sdf',\n  '2B54_D05.sdf',\n  '4CFU_2WC.sdf',\n  '2C5O_CK2.sdf',\n  '2BPM_529.sdf',\n  '2C68_CT6.sdf',\n  '3LE6_2BZ.sdf',\n  '2VTA_LZ1.sdf',\n  '3UNK_0BY.sdf',\n  '3PY0_SU9.sdf',\n  '2R3F_SC8.sdf',\n  '2XNB_Y8L.sdf',\n  '2A0C_CK9.sdf',\n  '2VTH_LZ2.sdf',\n  '3EZV_EZV.sdf',\n  '2VTT_LZD.sdf',\n  '6GUK_FC8.sdf',\n  '6Q4F_26D.sdf',\n  '1Y8Y_CT7.sdf',\n  '1PYE_PM1.sdf',\n  '4BCK_T3E.sdf',\n  '2R3Q_5SC.sdf',\n  '6Q4G_HJK.sdf',\n  '1H01_FAL.sdf',\n  '6Q3F_HEW.sdf',\n  '4BCM_T7Z.sdf',\n  '2R3K_SCQ.sdf',\n  '1VYW_292.sdf',\n  '4D1X_ESJ.sdf',\n  '3MY5_RFZ.sdf',\n  '1H1R_6CP.sdf',\n  '4BCQ_TJF.sdf',\n  '1KE8_LS4.sdf',\n  '4BGH_3I6.sdf',\n  '2C6L_DT4.sdf',\n  '3TI1_B49.sdf',\n  '1KE6_LS2.sdf',\n  '4BCO_T6Q.sdf',\n  '2EXM_ZIP.sdf',\n  '6Q48_HHQ.sdf',\n  '2C5Y_MTW.sdf',\n  '3PXZ_JWS.sdf',\n  '1P2A_5BN.sdf',\n  '2B53_D23.sdf',\n  '5D1J_56H.sdf',\n  '4BCN_T9N.sdf',\n  '1PXN_CK6.sdf',\n  '3S2P_PMU.sdf',\n  '6GUH_FB8.sdf',\n  '2W06_FRV.sdf',\n  '1WCC_CIG.sdf',\n  '2BTS_U32.sdf',\n  '1OI9_N20.sdf',\n  '3IG7_EFP.sdf',\n  '2VTQ_LZA.sdf',\n  '3BHV_VAR.sdf',\n  '5JQ8_I73.sdf',\n  '2XMY_CDK.sdf',\n  '2C6K_DT2.sdf',\n  '2R3M_SCX.sdf',\n  '3TIY_TIY.sdf',\n  '4CFW_SQ9.sdf',\n  '1PXI_CK1.sdf',\n  '2C69_CT8.sdf',\n  '2DUV_371.sdf',\n  '2VTJ_LZ4.sdf',\n  '1PXL_CK4.sdf',\n  '1H00_FAP.sdf',\n  '6Q4C_HH8.sdf',\n  '1H1Q_2A6.sdf',\n  '3TNW_F18.sdf',\n  '2R3L_SCW.sdf',\n  '3LFN_A27.sdf',\n  '5JQ5_I74.sdf',\n  '4KD1_1QK.sdf',\n  '1FVT_106.sdf',\n  '3WBL_PDY.sdf',\n  '2R3I_SCF.sdf',\n  '6Q4I_HGK.sdf',\n  '4EZ3_0S0.sdf',\n  '1JVP_LIG.sdf',\n  '3DDQ_RRC.sdf',\n  '6Q4A_HGW.sdf',\n  '3LFQ_A28.sdf',\n  '4RJ3_3QS.sdf',\n  '1E1X_NW1.sdf',\n  '1OIR_HDY.sdf',\n  '1KE5_LS1.sdf',\n  '6Q4B_HHN.sdf',\n  '6GVA_FCQ.sdf',\n  '3QHW_ADP.sdf',\n  '1V1K_3FP.sdf',\n  '2R3N_SCZ.sdf',\n  '2FVD_LIA.sdf',\n  '2VTS_LZC.sdf',\n  '6Q4J_HHB.sdf',\n  '4BCP_T3C.sdf',\n  '2B52_D42.sdf',\n  '5MHQ_8QT.sdf'],\n 'P07900': ['4CWT_IK9.sdf',\n  '4O07_FGH.sdf',\n  '3T0Z_ATP.sdf',\n  '4EEH_HH6.sdf',\n  '4CWQ_W2D.sdf',\n  '2YEG_XQG.sdf',\n  '2XJX_XJX.sdf',\n  '5J2X_6DL.sdf',\n  '1UYE_PU9.sdf',\n  '2BYH_2D7.sdf',\n  '4CWN_6LV.sdf',\n  '2CCS_4BH.sdf',\n  '3B27_B2T.sdf',\n  '4W7T_3JC.sdf',\n  '4CWR_HAJ.sdf',\n  '3QTF_05S.sdf',\n  '3R4M_WOE.sdf',\n  '5NYH_9EK.sdf',\n  '2VCJ_2EQ.sdf',\n  '1UY8_PU5.sdf',\n  '5LNY_70K.sdf',\n  '3QDD_94M.sdf',\n  '2YI6_6QM.sdf',\n  '5J82_6GV.sdf',\n  '2WI7_2KL.sdf',\n  '3HEK_BD0.sdf',\n  '5J6M_6FJ.sdf',\n  '2QG0_A94.sdf',\n  '2XDL_2DL.sdf',\n  '2YI7_BZ8.sdf',\n  '5GGZ_6TN.sdf',\n  '2H55_DZ8.sdf',\n  '2YE5_2A7.sdf',\n  '4O04_2Q8.sdf',\n  '2QFO_A51.sdf',\n  '3B26_B2L.sdf',\n  '4XIT_40Z.sdf',\n  '6EY9_C4N.sdf',\n  '4NH8_2LC.sdf',\n  '4CWF_H05.sdf',\n  '2BT0_CT5.sdf',\n  '6CEO_D57.sdf',\n  '6EL5_PU1.sdf',\n  '2XHR_C0P.sdf',\n  '2UWD_2GG.sdf',\n  '2VCI_2GJ.sdf',\n  '6ELO_BAW.sdf',\n  '1OSF_KOS.sdf',\n  '2YE7_2GA.sdf',\n  '4EGK_RDC.sdf',\n  '2XAB_VHD.sdf',\n  '6EI5_B5Q.sdf',\n  '1UYH_PU0.sdf',\n  '2YK2_YJX.sdf',\n  '2QFO_A13.sdf',\n  '2FWY_H64.sdf',\n  '1YC4_43P.sdf',\n  '2YK2_YJW.sdf',\n  '4FCP_42C.sdf',\n  '4XIP_40W.sdf',\n  '4L94_S46.sdf',\n  '5J6L_6GC.sdf',\n  '3BMY_CXZ.sdf',\n  '2CCT_2E1.sdf',\n  '2YEB_2K4.sdf',\n  '2YE2_XQI.sdf',\n  '2XJJ_L81.sdf',\n  '2YKI_YKI.sdf',\n  '2XDU_LGA.sdf',\n  '2YE9_2D4.sdf',\n  '2YKC_YKC.sdf',\n  '6EY8_C4T.sdf',\n  '2QG2_A91.sdf',\n  '3RKZ_06T.sdf',\n  '3OW6_MEX.sdf',\n  '2YEH_2KU.sdf',\n  '6ELN_P4A.sdf',\n  '3RLP_3RP.sdf',\n  '2YED_ADE.sdf',\n  '6CYH_N5A.sdf',\n  '2XHT_C0Y.sdf',\n  '2XDU_MT0.sdf',\n  '1UYC_PU7.sdf',\n  '3BM9_BXZ.sdf',\n  '5M4E_7F9.sdf',\n  '5LNZ_70Z.sdf',\n  '4FCQ_2N6.sdf',\n  '3INX_JZC.sdf',\n  '2YE3_VXX.sdf',\n  '2YEJ_XQK.sdf',\n  '3EKR_PY9.sdf',\n  '2XDK_XDK.sdf',\n  '2YE8_2D3.sdf',\n  '3EKO_PYU.sdf',\n  '4BQG_50Q.sdf',\n  '4AWQ_592.sdf',\n  '5LO0_70N.sdf',\n  '4U93_990.sdf',\n  '5FND_IQ5.sdf',\n  '6HHR_G5E.sdf',\n  '4L8Z_RL1.sdf',\n  '5OCI_9R8.sdf',\n  '3RLQ_3RQ.sdf',\n  '5ZR3_9J0.sdf',\n  '3B24_B2J.sdf',\n  '2YEE_2EC.sdf',\n  '6CYG_N5O.sdf',\n  '4XIR_40X.sdf',\n  '3K99_PFT.sdf',\n  '4AWP_99A.sdf',\n  '2FWZ_H71.sdf',\n  '1UYD_PU8.sdf',\n  '4L91_X29.sdf',\n  '2WI5_ZZ5.sdf',\n  '4BQJ_XKL.sdf',\n  '3WHA_WHA.sdf',\n  '4O09_2R6.sdf',\n  '4EGH_0OY.sdf',\n  '3K98_1RC.sdf',\n  '1UY6_PU3.sdf',\n  '3B28_B2X.sdf',\n  '2YKB_YKB.sdf',\n  '4CWO_T62.sdf',\n  '3VHD_VHE.sdf',\n  '5J86_6GW.sdf',\n  '3FT8_MOJ.sdf',\n  '3R92_06J.sdf',\n  '2YI0_YI0.sdf',\n  '2YI5_YI5.sdf',\n  '3INW_JZB.sdf',\n  '3R91_06H.sdf',\n  '3VHC_VHC.sdf',\n  '5FNF_TQL.sdf',\n  '6ELP_BA8.sdf',\n  '2WI1_ZZ2.sdf',\n  '4O0B_2QA.sdf',\n  '3FT5_MO8.sdf',\n  '5FNC_IEE.sdf',\n  '2YEJ_ZZ3.sdf',\n  '1UYI_PUZ.sdf',\n  '5ODX_9RZ.sdf',\n  '3B25_B2K.sdf',\n  '4B7P_9UN.sdf',\n  '4JQL_VJ6.sdf',\n  '3R4P_FU7.sdf',\n  '6EYB_C3Z.sdf',\n  '4AWO_99B.sdf',\n  '1UY9_PU6.sdf',\n  '6EYA_C4K.sdf',\n  '3MNR_SD1.sdf',\n  '3D0B_SNX.sdf',\n  '3VHA_VHA.sdf',\n  '3T10_ACP.sdf',\n  '3K97_4CD.sdf',\n  '1UY7_PU4.sdf',\n  '5M4H_7FX.sdf',\n  '4O05_2Q9.sdf',\n  '4CWP_TV2.sdf',\n  '2YE4_2FY.sdf',\n  '3OWB_BSM.sdf',\n  '4XIQ_40Y.sdf',\n  '2YEC_XQ0.sdf',\n  '3RLR_3RR.sdf',\n  '2WI6_ZZ6.sdf',\n  '1UYK_PUX.sdf',\n  '2WI4_ZZ4.sdf',\n  '6F1N_C8W.sdf',\n  '1YC1_4BC.sdf',\n  '2YK9_YK9.sdf',\n  '5VYY_9QY.sdf',\n  '3OWD_MEY.sdf',\n  '2YEA_2A9.sdf',\n  '4EFT_EFT.sdf',\n  '2BYI_2DD.sdf',\n  '2YKJ_YKJ.sdf',\n  '4EFU_EFU.sdf',\n  '5J64_6G7.sdf',\n  '2YKE_YKE.sdf',\n  '2XJG_XJG.sdf',\n  '3HHU_819.sdf',\n  '3R4N_FU5.sdf',\n  '1UYG_PU2.sdf',\n  '5J27_6FF.sdf',\n  '1YET_GDM.sdf',\n  '4FCR_0TM.sdf',\n  '4CWS_G3R.sdf'],\n 'Q54276': ['1W1P_GIO.sdf', '1W1V_ALJ.sdf', '1E6Z_NGO.sdf'],\n 'P56658': ['1V7A_FRC.sdf',\n  '1QXL_FR8.sdf',\n  '1NDV_FR0.sdf',\n  '1NDW_FR2.sdf',\n  '2E1W_FR6.sdf',\n  '1O5R_FR9.sdf',\n  '1WXY_FRK.sdf',\n  '1NDZ_FR5.sdf',\n  '1V79_FR7.sdf',\n  '1UML_FR4.sdf',\n  '1KRM_PRH.sdf',\n  '1NDY_FR3.sdf'],\n 'P11473': ['5YSY_90L.sdf',\n  '4G2I_0VQ.sdf',\n  '3CS6_0CO.sdf',\n  '2HAM_C33.sdf',\n  '1IE9_VDX.sdf',\n  '3AZ2_DS3.sdf',\n  '1IE8_KH1.sdf',\n  '2HB7_O1C.sdf',\n  '5YT2_90O.sdf',\n  '3CS4_COV.sdf',\n  '3AUR_CA9.sdf',\n  '1S19_MC9.sdf',\n  '2HAR_OCC.sdf',\n  '3KPZ_ZNE.sdf',\n  '3TKC_FMV.sdf',\n  '2HB8_MVD.sdf',\n  '3A40_23R.sdf',\n  '3P8X_ZYD.sdf',\n  '2HAS_C3O.sdf',\n  '3VHW_VHW.sdf',\n  '1TXI_TX5.sdf',\n  '3AZ3_DS6.sdf',\n  '1S0Z_EB1.sdf',\n  '4ITE_TEY.sdf',\n  '3A3Z_2MV.sdf',\n  '3AZ1_DS2.sdf'],\n 'Q8I3X4': ['2BSX_NOS.sdf',\n  '3ENZ_HPA.sdf',\n  '1NW4_IMH.sdf',\n  '1Q1G_MTI.sdf',\n  '3ENZ_R1X.sdf'],\n 'P03176': ['1KI7_ID2.sdf',\n  '3F0T_NCV.sdf',\n  '1KI2_GA2.sdf',\n  '1E2I_APS.sdf',\n  '1E2P_CCV.sdf',\n  '1E2M_HPT.sdf',\n  '1E2K_TMC.sdf',\n  '1KI3_PE2.sdf',\n  '1KI4_BTD.sdf',\n  '1E2N_RCA.sdf',\n  '1KI6_AHU.sdf',\n  '1P7C_THM.sdf',\n  '1KI8_BVD.sdf',\n  '1QHI_BPG.sdf',\n  '1OF1_SCT.sdf',\n  '1E2I_ARP.sdf',\n  '2KI5_AC2.sdf'],\n 'P06875': ['1AJQ_SPA.sdf',\n  '1AJP_OMD.sdf',\n  '1AI5_MNP.sdf',\n  '1AJN_AAN.sdf',\n  '1AI4_DHY.sdf',\n  '1AI7_IPH.sdf',\n  '1GM9_SOX.sdf',\n  '1K7D_GRO.sdf'],\n 'P00918': ['5TY9_7QV.sdf',\n  '4E3G_PHB.sdf',\n  '5NY6_R92.sdf',\n  '5TFX_7B1.sdf',\n  '6HX5_GXE.sdf',\n  '6B4D_53X.sdf',\n  '4Q8Y_HQT.sdf',\n  '5NY6_9EB.sdf',\n  '3IEO_AMJ.sdf',\n  '1OKN_STB.sdf',\n  '5BYI_4WA.sdf',\n  '1BN4_AL9.sdf',\n  '4RN4_3T7.sdf',\n  '4E4A_JKE.sdf',\n  '3R16_5UN.sdf',\n  '4MO8_2VQ.sdf',\n  '2WD2_MS5.sdf',\n  '4Q8Z_4HO.sdf',\n  '1BNU_AL3.sdf',\n  '3M2N_J74.sdf',\n  '1OQ5_CEL.sdf',\n  '5E2R_520.sdf',\n  '1CIM_PTS.sdf',\n  '4Q7W_6MH.sdf',\n  '3NI5_C1H.sdf',\n  '3VBD_0FZ.sdf',\n  '1CNW_EG1.sdf',\n  '3SAX_E50.sdf',\n  '3MZC_S6I.sdf',\n  '5TXY_7Q1.sdf',\n  '5FNJ_YI6.sdf',\n  '5AMD_45I.sdf',\n  '5U0G_7QY.sdf',\n  '1BNV_AL7.sdf',\n  '5SZ5_72E.sdf',\n  '2OSF_TH0.sdf',\n  '2X7U_WZA.sdf',\n  '6C7X_EO7.sdf',\n  '4QIY_WWX.sdf',\n  '4RUX_3W3.sdf',\n  '4Q83_3FH.sdf',\n  '3K7K_KCS.sdf',\n  '1BNN_AL1.sdf',\n  '1ZE8_PIU.sdf',\n  '3MHL_J71.sdf',\n  '1IF7_SBR.sdf',\n  '3SBI_E90.sdf',\n  '5NXG_RA1.sdf',\n  '4KAP_1QV.sdf',\n  '1BN3_AL6.sdf',\n  '4KV0_MB7.sdf',\n  '3M5E_JDR.sdf',\n  '4ILX_1EZ.sdf',\n  '1BN1_AL5.sdf',\n  '1CNY_EG3.sdf',\n  '5N0D_8F2.sdf',\n  '5O07_1VQ.sdf',\n  '5N0E_8F3.sdf',\n  '5AMG_IW7.sdf',\n  '1BNW_TPD.sdf',\n  '2POU_I7A.sdf',\n  '3M67_E36.sdf',\n  '5NEE_8V5.sdf',\n  '2EU2_5DS.sdf',\n  '3K34_SUA.sdf',\n  '1IF6_FBU.sdf',\n  '3T82_SG4.sdf',\n  '4Q87_4FH.sdf',\n  '3N4B_WWZ.sdf',\n  '4RUZ_3W8.sdf',\n  '2F14_FL1.sdf',\n  '4YX4_FB2.sdf',\n  '1CNX_EG2.sdf',\n  '6C7W_LMS.sdf',\n  '3DD8_2C7.sdf',\n  '6H34_FKK.sdf',\n  '3MHC_ARZ.sdf',\n  '4Q9Y_M3T.sdf',\n  '5U0E_7R4.sdf',\n  '5FNI_YIH.sdf',\n  '2QO8_3CC.sdf',\n  '5DOG_5DT.sdf',\n  '5NY3_9E8.sdf',\n  '3C7P_POF.sdf',\n  '2X7T_WZB.sdf',\n  '5FDI_5WM.sdf',\n  '3P4V_PMX.sdf',\n  '2EZ7_DHI.sdf',\n  '1KWR_SG2.sdf',\n  '6IC2_BBJ.sdf',\n  '4Q6D_WW3.sdf',\n  '5FLT_VJJ.sdf',\n  '5DOH_5DU.sdf',\n  '3D8W_D8W.sdf',\n  '6H3Q_FMH.sdf',\n  '3IEO_BEZ.sdf',\n  '3PO6_RDT.sdf',\n  '2NNG_ZYX.sdf',\n  '3RZ1_RZ1.sdf',\n  '2FMG_PHE.sdf',\n  '4ZX0_5L2.sdf',\n  '5NXV_9E2.sdf',\n  '5SZ3_72H.sdf',\n  '3IBN_O60.sdf',\n  '4QSB_EWY.sdf',\n  '5EHV_5ON.sdf',\n  '4Q7P_3MH.sdf',\n  '4BF1_9FK.sdf',\n  '2HD6_BOS.sdf',\n  '6UH0_PX7.sdf',\n  '3T85_SG7.sdf',\n  '3M40_J45.sdf',\n  '5FDC_5WN.sdf',\n  '3M1K_BEW.sdf',\n  '3F8E_TE1.sdf',\n  '3K2F_NKX.sdf',\n  '5MJN_7O8.sdf',\n  '1BCD_FMS.sdf',\n  '5THN_7CZ.sdf',\n  '5DRS_5EF.sdf',\n  '4Q8X_7FH.sdf',\n  '3IBL_O59.sdf',\n  '4QSA_EWW.sdf',\n  '4XE1_IL5.sdf',\n  '6H29_FK8.sdf',\n  '5NY1_9E5.sdf',\n  '3B4F_TUO.sdf',\n  '5BNL_2HC.sdf',\n  '3R17_5UM.sdf',\n  '3IBI_BOW.sdf',\n  '3V7X_D7A.sdf',\n  '2H15_B19.sdf',\n  '6EQU_BVE.sdf',\n  '3BL1_BL1.sdf',\n  '5CLU_S8A.sdf',\n  '3MYQ_E27.sdf',\n  '4KNJ_E1F.sdf',\n  '2HKK_ALE.sdf',\n  '4R5B_3J4.sdf',\n  '3BL0_BL0.sdf',\n  '5FLO_J4K.sdf',\n  '3SBH_E65.sdf',\n  '3P58_P58.sdf',\n  '1IF4_FBS.sdf',\n  '1OKM_SAB.sdf',\n  '3MHO_J43.sdf',\n  '2OSF_S24.sdf',\n  '4QTL_WWO.sdf',\n  '2WEH_FB1.sdf',\n  '3OYS_OYS.sdf',\n  '6GOT_F6W.sdf',\n  '5GMN_949.sdf',\n  '5U0F_7R1.sdf',\n  '4MLX_TM7.sdf',\n  '3F4X_KLT.sdf',\n  '2POV_I7B.sdf',\n  '5NXP_9DH.sdf',\n  '2OSM_HTS.sdf',\n  '1TTM_667.sdf',\n  '3FFP_LC1.sdf',\n  '4Q7S_2YU.sdf',\n  '3RYV_RYV.sdf',\n  '4RFC_3O1.sdf',\n  '4Q90_4H2.sdf',\n  '3T83_SG5.sdf',\n  '3OY0_OY0.sdf',\n  '4Q6E_KR5.sdf',\n  '2QP6_MB1.sdf',\n  '4QJM_V1F.sdf',\n  '3M96_E38.sdf',\n  '1BNQ_AL4.sdf',\n  '1IF5_FBT.sdf',\n  '1AVN_HSM.sdf',\n  '4KNI_E1E.sdf',\n  '5TYA_7QS.sdf',\n  '6UGR_Q71.sdf',\n  '2HNC_1SA.sdf',\n  '6H33_FKQ.sdf',\n  '3N0N_P9B.sdf',\n  '2EU3_FF3.sdf',\n  '4Z0Q_4K9.sdf',\n  '1G52_F2B.sdf',\n  '1I90_INM.sdf',\n  '1EOU_SMS.sdf',\n  '5AML_51J.sdf',\n  '4Q81_7MH.sdf',\n  '6OE1_M8V.sdf',\n  '6MBY_FER.sdf',\n  '1XPZ_4TZ.sdf',\n  '5NXI_9DE.sdf',\n  '3N2P_AYX.sdf',\n  '4ITP_1GD.sdf',\n  '5FLS_6ZX.sdf',\n  '3RYZ_RYZ.sdf',\n  '4Q7V_5MH.sdf',\n  '3OYQ_OYQ.sdf',\n  '5VGY_9AA.sdf',\n  '5E28_BC5.sdf',\n  '5EH5_XCZ.sdf',\n  '3RYX_RYX.sdf',\n  '2Q1Q_OSP.sdf',\n  '5FNG_YIE.sdf',\n  '3RYJ_RYJ.sdf',\n  '1IF9_SBB.sdf',\n  '4RFD_3O5.sdf',\n  '5W8B_A57.sdf',\n  '5EHW_5OO.sdf',\n  '4MLT_TM4.sdf',\n  '4QY3_3G1.sdf',\n  '3EFT_3BS.sdf',\n  '5LJQ_ANV.sdf',\n  '3S9T_E49.sdf',\n  '3BET_CTF.sdf',\n  '1BNT_AL2.sdf',\n  '1AM6_HAE.sdf',\n  '6MBV_NIO.sdf',\n  '1XQ0_4TR.sdf',\n  '4Z1E_DF5.sdf',\n  '3RZ8_RZ8.sdf',\n  '1CRA_TRI.sdf',\n  '3MNU_BON.sdf',\n  '5LJT_A6N.sdf',\n  '4Q99_HT4.sdf',\n  '6B5A_CQS.sdf',\n  '3M3X_JS7.sdf',\n  '4BF6_X0Q.sdf',\n  '6OE0_M8S.sdf',\n  '5E2S_5CX.sdf',\n  '3RZ5_RZ5.sdf',\n  '4Z1J_4KC.sdf',\n  '2POW_I7C.sdf',\n  '5U0D_7R7.sdf',\n  '3T5Z_B09.sdf',\n  '6G6T_ENN.sdf',\n  '4RUY_3W6.sdf',\n  '3NB5_R21.sdf',\n  '3RZ0_RZ0.sdf',\n  '1I91_INQ.sdf',\n  '4ZWI_62I.sdf',\n  '3RZ7_RZ7.sdf',\n  '3MHM_J75.sdf',\n  '2HL4_BO1.sdf',\n  '2O4Z_HSW.sdf',\n  '6R6F_EA3.sdf',\n  '1CIL_ETS.sdf',\n  '5EH8_5O6.sdf',\n  '5WEX_8JS.sdf',\n  '3IBU_O48.sdf',\n  '1IF8_SBS.sdf',\n  '3ML2_SU0.sdf',\n  '4E3H_HQE.sdf',\n  '4CQ0_SXS.sdf',\n  '1OKL_MNS.sdf',\n  '3T84_SG6.sdf',\n  '1I8Z_INL.sdf',\n  '4PZH_V13.sdf',\n  '3MNA_DWH.sdf',\n  '6H2Z_FKE.sdf',\n  '5J8Z_FC4.sdf',\n  '2AW1_COX.sdf',\n  '4N16_CHD.sdf',\n  '3CYU_0CR.sdf',\n  '5EH7_5O5.sdf',\n  '4QSI_EWZ.sdf',\n  '3P5L_IT5.sdf',\n  '3N3J_WWV.sdf',\n  '4IWZ_1GO.sdf',\n  '3MMF_D9H.sdf',\n  '3P5A_IT2.sdf',\n  '2GEH_NHY.sdf',\n  '2WEG_FBV.sdf',\n  '3S8X_E59.sdf',\n  '2FMZ_DPN.sdf',\n  '3SAP_E2I.sdf',\n  '1CIN_MTS.sdf',\n  '5FLQ_IO2.sdf',\n  '3PO6_DT9.sdf',\n  '4Z1K_4KB.sdf',\n  '2WEO_FBW.sdf'],\n 'P13922': ['1J3J_UMP.sdf', '1J3J_CP6.sdf'],\n 'Q07912': ['4EWH_T77.sdf',\n  '3EQP_T95.sdf',\n  '5ZXB_9KO.sdf',\n  '3EQR_T74.sdf',\n  '1U4D_DBQ.sdf'],\n 'P06401': ['4A2J_AS0.sdf',\n  '2W8Y_486.sdf',\n  '1SR7_MOF.sdf',\n  '1A28_STR.sdf',\n  '4APU_A2K.sdf',\n  '3ZRB_ORC.sdf',\n  '3D90_NOG.sdf',\n  '3ZRB_OR8.sdf',\n  '2W8Y_NDR.sdf',\n  '3G8O_30X.sdf',\n  '3ZRA_ORB.sdf',\n  '1ZUC_T98.sdf',\n  '4OAR_2S0.sdf',\n  '3KBA_WOW.sdf',\n  '3HQ5_GKK.sdf'],\n 'P26281': ['5ETP_5RZ.sdf',\n  '1RAO_AMP.sdf',\n  '4F7V_J1D.sdf',\n  '1EQM_ADP.sdf',\n  '5ETM_5RW.sdf',\n  '4M5I_YH6.sdf',\n  '1DY3_87Y.sdf',\n  '3UDE_J1B.sdf',\n  '4M5H_YH2.sdf',\n  '3UD5_J1A.sdf',\n  '4M5N_YH7.sdf',\n  '3UDV_J1C.sdf',\n  '5ETL_5RV.sdf',\n  '5ETO_5RY.sdf',\n  '4M5M_DX4.sdf',\n  '4M5G_YH1.sdf',\n  '5ETN_5RX.sdf',\n  '4M5K_YH3.sdf',\n  '5ETK_5RU.sdf',\n  '4M5J_YH5.sdf',\n  '4M5L_YH4.sdf',\n  '1RAO_HH2.sdf',\n  '3IP0_HHR.sdf'],\n 'P27487': ['4A5S_N7F.sdf',\n  '2OGZ_U1N.sdf',\n  '3SWW_KXB.sdf',\n  '3G0B_T22.sdf',\n  '5KBY_6RL.sdf',\n  '2QJR_PZF.sdf',\n  '3VJK_M51.sdf',\n  '4LKO_1WH.sdf',\n  '3NOX_6A5.sdf',\n  '1RWQ_5AP.sdf',\n  '3VJM_W61.sdf',\n  '4JH0_1MD.sdf',\n  '3EIO_AJH.sdf',\n  '5T4B_75N.sdf',\n  '3F8S_PF2.sdf',\n  '2OLE_KR2.sdf',\n  '5T4E_75L.sdf',\n  '5T4F_75M.sdf',\n  '3KWF_B1Q.sdf',\n  '2OAG_DLI.sdf',\n  '3G0D_XIH.sdf',\n  '1N1M_A3M.sdf',\n  '3G0G_RUM.sdf',\n  '3VJL_W94.sdf',\n  '3CCB_B2Y.sdf'],\n 'P50579': ['1KQ9_MET.sdf',\n  '1YW7_A41.sdf',\n  '5JI6_6KN.sdf',\n  '6QED_HZK.sdf',\n  '6QEG_K4K.sdf',\n  '6QEH_HZQ.sdf',\n  '1YW9_A84.sdf',\n  '6QEJ_HZT.sdf',\n  '1R58_AO5.sdf',\n  '2EA4_F79.sdf',\n  '6QEF_HZW.sdf',\n  '2GA2_A19.sdf',\n  '2ADU_R20.sdf',\n  '5LYW_7BH.sdf',\n  '1R5H_AO2.sdf',\n  '5JHU_6KO.sdf',\n  '6QEI_HZE.sdf',\n  '1QZY_TDE.sdf',\n  '5LYX_7BF.sdf',\n  '2EA2_F77.sdf',\n  '5JFR_6KP.sdf',\n  '1KQ0_MED.sdf'],\n 'P32449': ['1OF8_PEP.sdf', '1OFO_PGA.sdf'],\n 'Q24451': ['3EJU_HN7.sdf',\n  '1R33_LKA.sdf',\n  '3D50_OEV.sdf',\n  '3D52_GHR.sdf',\n  '3DX1_YHO.sdf',\n  '1HXK_DMJ.sdf',\n  '2F7O_MSN.sdf',\n  '3EJQ_HN3.sdf',\n  '3EJR_HN4.sdf',\n  '3DX4_GOO.sdf',\n  '1PS3_KIF.sdf',\n  '2F7P_2SK.sdf',\n  '3D4Z_GIM.sdf',\n  '1PS3_NAG.sdf',\n  '3EJS_HN5.sdf',\n  '1HWW_SWA.sdf',\n  '2F1A_GB2.sdf',\n  '3DX2_MZB.sdf',\n  '3D51_GOX.sdf',\n  '3D4Y_MVL.sdf',\n  '2F1B_GB3.sdf',\n  '3EJP_HN2.sdf',\n  '3EJT_HN6.sdf',\n  '2F18_GB1.sdf'],\n 'Q79MP6': ['1JJT_BDS.sdf', '3WXC_C93.sdf', '1JJE_BYS.sdf'],\n 'P00929': ['4HT3_F9F.sdf',\n  '1FUY_FIP.sdf',\n  '2CLK_G3H.sdf',\n  '1K8Y_13P.sdf',\n  '1TJP_HPF.sdf',\n  '1K7F_IAV.sdf',\n  '1CW2_HSP.sdf',\n  '1C8V_HE1.sdf',\n  '1QOQ_IGP.sdf',\n  '2CLE_F6F.sdf',\n  '1K3U_IAD.sdf',\n  '1QOP_IPL.sdf',\n  '1K8Z_IAG.sdf',\n  '2CLO_F19.sdf',\n  '1CX9_NHP.sdf'],\n 'P42260': ['4H8I_11W.sdf', '1S9T_QUS.sdf'],\n 'P14780': ['1GKC_NFH.sdf',\n  '4XCT_N73.sdf',\n  '5UE4_5XQ.sdf',\n  '4WZV_E40.sdf',\n  '5I12_H27.sdf'],\n 'Q00535': ['4AU8_Z3R.sdf'],\n 'P08473': ['1R1H_BIR.sdf',\n  '1DMT_RDF.sdf',\n  '1Y8J_STS.sdf',\n  '5JMY_6LD.sdf',\n  '1R1J_OIR.sdf',\n  '2YB9_HA0.sdf'],\n 'P08709': ['4JZE_1NK.sdf',\n  '1WQV_PSM.sdf',\n  '1Z6J_PY3.sdf',\n  '4X8T_3Z8.sdf',\n  '1WUN_P5B.sdf',\n  '4X8S_3Z7.sdf',\n  '5I46_67O.sdf',\n  '2FLR_7NH.sdf',\n  '4JYU_1OK.sdf',\n  '5TQE_7KQ.sdf',\n  '5L2Y_70D.sdf',\n  '4JZF_1NL.sdf',\n  '2A2Q_PBZ.sdf',\n  '5TQF_7KR.sdf',\n  '5L30_70A.sdf',\n  '1W7X_413.sdf',\n  '5L2Z_70C.sdf',\n  '4X8V_3Z9.sdf',\n  '4JYV_1OJ.sdf',\n  '1WTG_3BP.sdf',\n  '4ZXY_4T1.sdf',\n  '4X8U_3ZB.sdf',\n  '5U6J_82J.sdf',\n  '5TQG_7KS.sdf'],\n 'P08799': ['2XEL_IA2.sdf',\n  '3MJX_AD9.sdf',\n  '3BZ7_ADP.sdf',\n  '3BZ8_BL6.sdf',\n  '3BZ9_BL7.sdf',\n  '3BZ7_BL4.sdf'],\n 'O14757': ['2HXQ_373.sdf',\n  '4RVL_3XL.sdf',\n  '2QHN_582.sdf',\n  '6FCF_D58.sdf',\n  '4QYF_3DV.sdf',\n  '2WMX_ZY6.sdf',\n  '3TKI_S25.sdf',\n  '4JIK_1KO.sdf',\n  '4QYH_3DX.sdf',\n  '2YER_TQ1.sdf',\n  '4HYI_1AO.sdf',\n  '2XF0_4UB.sdf',\n  '2QHM_7CS.sdf',\n  '2YM6_YM6.sdf',\n  '3PA5_C73.sdf',\n  '1NVS_UCM.sdf',\n  '2YM4_4YM.sdf',\n  '2BRB_PFQ.sdf',\n  '2XEZ_XEZ.sdf',\n  '3F9N_38M.sdf',\n  '2X8I_X8I.sdf',\n  '2HXL_422.sdf',\n  '6FCK_D4Z.sdf',\n  '2BRG_DFY.sdf',\n  '2YM8_YM8.sdf',\n  '2YDJ_YDJ.sdf',\n  '2X8D_X8D.sdf',\n  '2YM5_YM5.sdf',\n  '3PA4_C72.sdf',\n  '4RVM_3X7.sdf',\n  '2C3L_IDZ.sdf',\n  '2BRH_DFW.sdf',\n  '6FC8_D4Q.sdf',\n  '4QYG_3DW.sdf',\n  '2WMR_ZYR.sdf',\n  '4RVK_3XK.sdf',\n  '2CGX_3D3.sdf',\n  '1NVR_STU.sdf',\n  '1NVQ_UCN.sdf',\n  '2R0U_M54.sdf',\n  '5DLS_5CV.sdf',\n  '2YDK_YDK.sdf',\n  '3JVR_AGX.sdf',\n  '2BR1_PFP.sdf',\n  '2WMV_ZYV.sdf',\n  '2YDI_YDI.sdf',\n  '3TKH_07S.sdf',\n  '2WMW_ZYW.sdf',\n  '2WMQ_ZYQ.sdf',\n  '2X8E_X8E.sdf',\n  '2BRO_DF2.sdf',\n  '4QYE_3DL.sdf',\n  '2YM3_YM3.sdf',\n  '2BRM_DFZ.sdf',\n  '2CGW_3C3.sdf',\n  '2C3J_DBQ.sdf',\n  '3OT8_MI5.sdf',\n  '3NLB_5BE.sdf',\n  '2CGU_3A3.sdf',\n  '2YEX_YEX.sdf',\n  '3JVS_AGY.sdf',\n  '2E9N_76A.sdf',\n  '4HYH_1AM.sdf',\n  '2E9O_A58.sdf',\n  '3OT3_22K.sdf',\n  '3PA3_C70.sdf',\n  '2HOG_710.sdf',\n  '2HY0_306.sdf'],\n 'P20231': ['2FPZ_270.sdf', '2ZA5_2FF.sdf', '2BM2_PM2.sdf', '4A6L_P43.sdf'],\n 'P50097': ['1LRT_TAD.sdf', '1MEW_XMP.sdf', '1PVN_MZP.sdf', '1LRT_IMP.sdf'],\n 'P10721': ['1T46_STI.sdf', '6MOB_JWY.sdf', '4U0I_0LI.sdf', '6KLA_DJX.sdf'],\n 'P04818': ['5X66_MTX.sdf',\n  '6QXG_UFP.sdf',\n  '6PF3_OE7.sdf',\n  '5X67_7Z9.sdf',\n  '4E28_9MZ.sdf',\n  '6PF6_OEJ.sdf',\n  '6PF5_OED.sdf',\n  '5X66_UMP.sdf'],\n 'P22906': ['1IA3_TQ5.sdf',\n  '1M7A_MQU.sdf',\n  '1IA4_TQ6.sdf',\n  '1IA1_TQ3.sdf',\n  '3QLW_N22.sdf',\n  '3QLR_QLR.sdf',\n  '1IA2_TQ4.sdf',\n  '3QLS_55V.sdf',\n  '1M79_MQ1.sdf',\n  '1AOE_GW3.sdf',\n  '4H97_53S.sdf'],\n 'P10828': ['1N46_PFA.sdf', '6KKB_8HO.sdf'],\n 'P04585': ['1HVR_XK2.sdf',\n  '5K14_IB1.sdf',\n  '1VRU_AAP.sdf',\n  '5DGU_5B7.sdf',\n  '1QBU_846.sdf',\n  '3QIP_P4Y.sdf',\n  '3QIP_NVP.sdf',\n  '4I7F_NVE.sdf',\n  '3MEC_65B.sdf',\n  '3MEE_T27.sdf',\n  '3LP1_LP8.sdf',\n  '1RTH_U05.sdf',\n  '4U7Q_3EM.sdf',\n  '3LAK_KR1.sdf',\n  '2RKI_TT1.sdf',\n  '2YNG_WHU.sdf',\n  '1QBR_XV6.sdf',\n  '3DLG_GWE.sdf',\n  '6E7J_HWY.sdf',\n  '3DYA_PZL.sdf',\n  '1HVH_Q82.sdf',\n  '1EP4_S11.sdf',\n  '2RF2_MRX.sdf',\n  '4U7V_3EN.sdf',\n  '1HIV_1ZK.sdf',\n  '5DGW_5B5.sdf',\n  '1ODY_LP1.sdf',\n  '3DLE_GFA.sdf',\n  '2YNI_CXD.sdf',\n  '1HWR_216.sdf'],\n 'P55859': ['1B8N_IMG.sdf',\n  '1A9T_R1P.sdf',\n  '1A9P_9DI.sdf',\n  '1B8O_IMH.sdf',\n  '1A9S_NOS.sdf',\n  '2AI1_P1G.sdf',\n  '1A9T_HPA.sdf',\n  '2AI2_P1D.sdf',\n  '2AI3_P2G.sdf',\n  '1LVU_9PP.sdf',\n  '1FXU_GU7.sdf',\n  '2QPL_BTY.sdf',\n  '1V48_HA1.sdf'],\n 'Q07343': ['5OHJ_9VE.sdf',\n  '1Y2H_6DE.sdf',\n  '5LAQ_6M5.sdf',\n  '1XMU_ROF.sdf',\n  '4KP6_1S1.sdf',\n  '4NW7_2O5.sdf',\n  '1XM6_5RM.sdf',\n  '3WD9_QPC.sdf',\n  '4MYQ_19T.sdf',\n  '2QYL_NPV.sdf',\n  '3W5E_NVW.sdf'],\n 'P00734': ['2UUK_897.sdf',\n  '3EGK_M18.sdf',\n  '3SHC_B01.sdf',\n  '4LOY_6XS.sdf',\n  '1OYT_FSN.sdf',\n  '3SI4_B04.sdf',\n  '2UUJ_896.sdf',\n  '5AFY_WCE.sdf',\n  '3C1K_T15.sdf',\n  '2C8Y_C3M.sdf',\n  '1TA6_177.sdf',\n  '2C8W_C7M.sdf',\n  '1D9I_00P.sdf',\n  '1KTT_C02.sdf',\n  '1ZRB_062.sdf',\n  '3BIU_10U.sdf',\n  '1GHW_BMZ.sdf',\n  '2ZC9_22U.sdf',\n  '4UFG_D6J.sdf',\n  '3QX5_02P.sdf',\n  '1A4W_QWE.sdf',\n  '1K22_MEL.sdf',\n  '1C5N_ESI.sdf',\n  '1D3D_BZT.sdf',\n  '2JH0_701.sdf',\n  '1O2G_696.sdf',\n  '1JWT_BLI.sdf',\n  '1MU6_CDA.sdf',\n  '1NT1_T76.sdf',\n  '1YPG_UIR.sdf',\n  '1YPK_CCR.sdf',\n  '6EO9_2OJ.sdf',\n  '4LXB_7R9.sdf',\n  '5AF9_SJR.sdf',\n  '4UDW_N6L.sdf',\n  '1C4U_IH1.sdf',\n  '4UD9_FQI.sdf',\n  '1KTS_C24.sdf',\n  '1O0D_163.sdf',\n  '2C8X_C5M.sdf',\n  '1MU8_CDB.sdf',\n  '1BCU_PRL.sdf',\n  '1AE8_AZL.sdf',\n  '2C93_C4M.sdf',\n  '3F68_91U.sdf',\n  '1RIW_OSC.sdf',\n  '1TA2_176.sdf',\n  '3SHA_P97.sdf',\n  '1BHX_R56.sdf',\n  '5AFZ_UET.sdf',\n  '2ZGB_21U.sdf',\n  '1Z71_L17.sdf',\n  '2JH5_895.sdf',\n  '1NM6_L86.sdf',\n  '2ZFP_19U.sdf',\n  '5AHG_Y4L.sdf',\n  '1GHY_121.sdf',\n  '3DUX_64U.sdf',\n  '1WAY_L02.sdf',\n  '3QWC_98P.sdf',\n  '2H9T_SVR.sdf',\n  '1C1V_BAB.sdf',\n  '1D6W_00R.sdf',\n  '1C1U_BAI.sdf',\n  '4YES_45S.sdf',\n  '1ZGI_382.sdf',\n  '3P17_99P.sdf',\n  '3QTO_10P.sdf',\n  '1WBG_L03.sdf',\n  '2JH6_894.sdf',\n  '1MUE_CDD.sdf',\n  '1D3P_BT3.sdf',\n  '1NZQ_162.sdf',\n  '2CN0_F25.sdf',\n  '1YPE_UIP.sdf',\n  '1W7G_MIU.sdf',\n  '1ZGV_501.sdf',\n  '3SV2_P05.sdf',\n  '1T4V_14A.sdf',\n  '3DHK_23U.sdf',\n  '6ROT_KDQ.sdf',\n  '1D4P_BPP.sdf',\n  '1O5G_CR9.sdf',\n  '1YPJ_UIB.sdf',\n  '3DA9_44U.sdf',\n  '2C90_C1M.sdf',\n  '1SB1_165.sdf',\n  '2ZDV_37U.sdf',\n  '1C1W_BAH.sdf',\n  '2ZF0_51U.sdf',\n  '2C8Z_C2A.sdf',\n  '3QTV_06P.sdf',\n  '1TOM_MIN.sdf',\n  '1AIX_T19.sdf',\n  '1C5O_BAM.sdf',\n  '1SL3_170.sdf',\n  '3SI3_B03.sdf',\n  '6EO8_2FN.sdf',\n  '1AFE_ALZ.sdf',\n  '1K21_IGN.sdf',\n  '2ZDA_32U.sdf',\n  '1GHV_120.sdf'],\n 'P9WKE1': ['4UNP_TXW.sdf',\n  '4UNR_QZE.sdf',\n  '1W2H_ATM.sdf',\n  '4UNN_QZZ.sdf',\n  '4UNQ_H6D.sdf',\n  '1W2G_THM.sdf',\n  '1N5I_TMP.sdf',\n  '4UNS_QZ3.sdf',\n  '1MRS_5HU.sdf',\n  '5NR7_YUI.sdf',\n  '1N5I_ATP.sdf',\n  '1N5J_TYD.sdf'],\n 'P03472': ['2QWK_G39.sdf',\n  '4DGR_3LV.sdf',\n  '1F8D_9AM.sdf',\n  '1F8C_4AM.sdf',\n  '1L7F_BCZ.sdf',\n  '4WEG_SFJ.sdf',\n  '1XOE_ABX.sdf',\n  '1F8E_49A.sdf',\n  '1INY_EQP.sdf',\n  '1BJI_DPC.sdf'],\n 'P04058': ['1ZGB_A1E.sdf',\n  '2CKM_AA7.sdf',\n  '6H12_FJK.sdf',\n  '6G1W_E0Z.sdf',\n  '1EVE_E20.sdf',\n  '1ZGC_A2E.sdf',\n  '6EZG_C6K.sdf',\n  '1UT6_A8N.sdf',\n  '5NAP_DZ7.sdf',\n  '1W6R_GNT.sdf',\n  '3I6Z_G6X.sdf',\n  '1GPN_HUB.sdf',\n  '1GQR_SAF.sdf',\n  '6FLD_DQ5.sdf',\n  '1ODC_A8B.sdf',\n  '1JJB_PE7.sdf',\n  '2CMF_F11.sdf',\n  '6G1V_E1N.sdf',\n  '2XI4_AFT.sdf',\n  '6FQN_E2W.sdf',\n  '1H23_E12.sdf',\n  '3ZV7_NHG.sdf',\n  '5E4T_MBT.sdf',\n  '2CEK_N8T.sdf',\n  '5BWC_HBP.sdf',\n  '1H22_E10.sdf',\n  '4TVK_TJH.sdf',\n  '1E66_HUX.sdf',\n  '6H14_FW8.sdf',\n  '1W4L_GL8.sdf',\n  '5NAU_DZ0.sdf',\n  '2VJC_CHH.sdf',\n  '2ACK_EDR.sdf',\n  '3I6M_G3X.sdf'],\n 'O76074': ['4G2W_NI0.sdf',\n  '4MD6_24E.sdf',\n  '3BJC_WAN.sdf',\n  '3TGE_TGE.sdf',\n  '4OEX_5EO.sdf',\n  '4I9Z_5BA.sdf',\n  '4OEW_5IO.sdf',\n  '3SIE_5BO.sdf',\n  '3SHZ_5CO.sdf',\n  '4G2Y_NI5.sdf',\n  '2H44_7CA.sdf',\n  '4IA0_5BB.sdf'],\n 'P35968': ['6GQP_F88.sdf',\n  '3C7Q_XIN.sdf',\n  '6GQO_F82.sdf',\n  '3CJF_SAV.sdf',\n  '1Y6B_AAX.sdf',\n  '6GQQ_F8B.sdf',\n  '1Y6A_AAZ.sdf',\n  '3VHE_42Q.sdf',\n  '5EW3_5T2.sdf',\n  '3VO3_0KF.sdf',\n  '3VNT_0JA.sdf',\n  '3CJG_KIM.sdf',\n  '2OH4_GIG.sdf'],\n 'P15090': ['2NNQ_T4B.sdf',\n  '5D45_57P.sdf',\n  '5HZ6_65Y.sdf',\n  '5EDB_5M8.sdf',\n  '2HNX_PLM.sdf',\n  '5HZ8_65Z.sdf',\n  '3FR4_F8A.sdf',\n  '5Y13_8K0.sdf',\n  '5EDC_5M7.sdf',\n  '5Y0F_8JO.sdf',\n  '5D4A_57Q.sdf',\n  '1TOU_B1V.sdf',\n  '5D48_L96.sdf',\n  '3FR2_8CA.sdf',\n  '5D47_L19.sdf',\n  '3FR5_I4A.sdf',\n  '5Y0X_8JR.sdf',\n  '5Y0G_8JL.sdf',\n  '5Y12_8JX.sdf',\n  '1TOW_CRZ.sdf'],\n 'P11086': ['1HNN_SKF.sdf',\n  '3KQT_ES7.sdf',\n  '2AN5_TTL.sdf',\n  '3KR2_ET2.sdf',\n  '3KR1_VGD.sdf',\n  '1YZ3_SKA.sdf',\n  '3HCD_LNR.sdf',\n  '3KQS_SAH.sdf',\n  '3KQQ_ES6.sdf',\n  '2G8N_F83.sdf',\n  '2AN4_OTR.sdf',\n  '3KQS_AX7.sdf',\n  '3KPU_ES1.sdf',\n  '3KPW_1SQ.sdf',\n  '3KPY_ES2.sdf',\n  '2G72_F21.sdf',\n  '2G70_HNT.sdf',\n  '2G71_FTS.sdf',\n  '2G72_SAM.sdf',\n  '3KQY_ES0.sdf',\n  '3HCB_LT2.sdf',\n  '3KQW_ES9.sdf',\n  '3KQO_ES4.sdf',\n  '3KPV_ADE.sdf',\n  '3KQM_ES3.sdf',\n  '2AN3_CTL.sdf',\n  '3KQP_ES5.sdf',\n  '3HCC_LT3.sdf',\n  '3KQV_FAN.sdf'],\n 'P00374': ['4KFJ_1R0.sdf',\n  '4M6L_21V.sdf',\n  '4QHV_IXF.sdf',\n  '4KBN_25U.sdf',\n  '4DDR_MMV.sdf',\n  '3NXV_D2F.sdf',\n  '1KMS_LIH.sdf',\n  '3NU0_3TU.sdf',\n  '1HFR_MOT.sdf',\n  '3NXY_D2H.sdf',\n  '3NXO_D2B.sdf',\n  '6A7C_9QO.sdf',\n  '3GHW_GHW.sdf',\n  '1MVT_DTM.sdf',\n  '3NTZ_3TZ.sdf',\n  '4KEB_FOL.sdf',\n  '3NXT_D2E.sdf',\n  '1PD8_CO4.sdf',\n  '1KMV_LII.sdf',\n  '4KEB_1QZ.sdf',\n  '4QJC_IXE.sdf',\n  '3FS6_DH1.sdf',\n  '4G95_OAG.sdf',\n  '3S7A_684.sdf',\n  '1OHJ_COP.sdf',\n  '2DHF_DZF.sdf',\n  '1BOZ_PRD.sdf',\n  '3GYF_51P.sdf',\n  '3NZD_D2Q.sdf',\n  '6A7E_9QR.sdf',\n  '4KAK_06U.sdf'],\n 'P02766': ['5E23_L32.sdf',\n  '5AKT_R4G.sdf',\n  '6R68_JTK.sdf',\n  '3CN3_LJ4.sdf',\n  '4N86_GBJ.sdf',\n  '2G5U_PCQ.sdf',\n  '4D7B_TCW.sdf',\n  '4PM1_ESZ.sdf',\n  '3ESP_DZ3.sdf',\n  '6R67_JTE.sdf',\n  '4HJT_18A.sdf',\n  '3FCB_IFB.sdf',\n  '3IPB_JZD.sdf',\n  '1DVZ_OFL.sdf',\n  '2ROY_P28.sdf',\n  '3CN2_LJ3.sdf',\n  '2FBR_44C.sdf',\n  '2QGD_MR5.sdf',\n  '2FLM_6CA.sdf',\n  '5JIM_P8S.sdf',\n  '5EZP_IPJ.sdf',\n  '5L4M_SBK.sdf',\n  '5TZL_IIH.sdf',\n  '5L4I_6J3.sdf',\n  '2F7I_26C.sdf',\n  '3CFN_2AN.sdf',\n  '4ABW_42M.sdf',\n  '5JID_8PF.sdf',\n  '5L4F_6J1.sdf',\n  '3IMT_IW3.sdf',\n  '4ABV_FT2.sdf',\n  '5BOJ_4TX.sdf',\n  '3IMS_IW2.sdf',\n  '2F8I_205.sdf',\n  '1Z7J_T4A.sdf',\n  '4TQ8_7BD.sdf',\n  '4YDN_2WN.sdf',\n  '2GAB_NE2.sdf',\n  '1THA_T33.sdf',\n  '4L1T_1WZ.sdf',\n  '3IMW_IW6.sdf',\n  '1DVU_DBF.sdf',\n  '4HJS_18J.sdf',\n  '1Y1D_FHI.sdf',\n  '2B9A_FBC.sdf',\n  '4TQP_48R.sdf',\n  '3B56_DIU.sdf',\n  '3IMU_IW4.sdf',\n  '3ESN_DZ1.sdf',\n  '4PME_CUR.sdf',\n  '4ABU_FT1.sdf',\n  '2QGE_MR6.sdf',\n  '1E5A_TBP.sdf',\n  '1E4H_PBR.sdf',\n  '2B15_DNF.sdf',\n  '5JIQ_27M.sdf',\n  '4TQH_ES8.sdf',\n  '4QXV_LU2.sdf',\n  '4WO0_AGI.sdf',\n  '3NEE_B72.sdf',\n  '3GS7_8BD.sdf',\n  '1DVY_BPD.sdf',\n  '3IPE_JZE.sdf',\n  '4DES_57D.sdf',\n  '4YDM_4AJ.sdf',\n  '4AC2_43F.sdf',\n  '3FC8_IFA.sdf',\n  '4DET_KMP.sdf',\n  '4TQI_6BD.sdf',\n  '5L4J_6JD.sdf',\n  '5AKV_G7G.sdf',\n  '2B77_3CA.sdf',\n  '5IHH_6B5.sdf',\n  '3GLZ_1BD.sdf',\n  '2QGC_MR4.sdf',\n  '4DEU_NAR.sdf',\n  '3IMV_IW5.sdf',\n  '5AL0_R3S.sdf',\n  '2G9K_NE1.sdf',\n  '5AKS_R3X.sdf',\n  '5E4O_L57.sdf',\n  '6GR7_F52.sdf',\n  '5AL8_D75.sdf',\n  '3KGU_GEN.sdf',\n  '5EN3_7LU.sdf',\n  '4KY2_1W3.sdf',\n  '3CN1_LJ2.sdf',\n  '6R66_JTN.sdf',\n  '4WNJ_QUE.sdf',\n  '3IMR_IW1.sdf',\n  '4HJU_16L.sdf',\n  '1DVT_FLP.sdf',\n  '3CFT_5NS.sdf',\n  '1U21_P2C.sdf',\n  '1DVX_DIF.sdf',\n  '3CN4_LJ5.sdf',\n  '1TLM_MIL.sdf',\n  '1TT6_DES.sdf',\n  '1BM7_FLF.sdf',\n  '3CN0_LJ1.sdf',\n  '4ABQ_4V2.sdf',\n  '5AYT_L6Y.sdf',\n  '3ESO_DZ2.sdf',\n  '4WNS_3RL.sdf',\n  '3M1O_CJZ.sdf',\n  '5E4A_5JW.sdf'],\n 'P07342': ['1T9D_1MM.sdf',\n  '1T9B_1CS.sdf',\n  '1T9D_PYD.sdf',\n  '1T9C_P23.sdf',\n  '1T9B_YF3.sdf',\n  '5WKC_PXD.sdf',\n  '1T9B_NSP.sdf',\n  '1T9C_1SM.sdf',\n  '1T9B_P25.sdf',\n  '5WKC_F50.sdf',\n  '5FEM_60G.sdf'],\n 'P03372': ['3UUC_0D1.sdf',\n  '5T92_77W.sdf',\n  '1XP1_AIH.sdf',\n  '1XP9_AIJ.sdf',\n  '1XPC_AIT.sdf',\n  '2OUZ_C3D.sdf',\n  '6DF6_G8Y.sdf',\n  '1YIM_CM4.sdf',\n  '1SJ0_E4D.sdf',\n  '3DT3_369.sdf',\n  '6DFN_G9J.sdf',\n  '6DFN_G91.sdf',\n  '2IOG_IOG.sdf',\n  '1XP6_AIU.sdf',\n  '1GWQ_ZTW.sdf',\n  '6IAR_H8W.sdf',\n  '2IOK_IOK.sdf',\n  '1YIN_CM3.sdf'],\n 'P05979': ['4O1Z_MXM.sdf', '2AYL_FLP.sdf', '1Q4G_BFL.sdf'],\n 'Q9R0M5': ['2F17_PYI.sdf', '2F17_AMP.sdf', '1IG3_VIB.sdf'],\n 'P29476': ['1M00_BHH.sdf',\n  '3B3N_JI2.sdf',\n  '5AD8_9M9.sdf',\n  '4K5F_Q14.sdf',\n  '3TYM_08R.sdf',\n  '1P6I_DP3.sdf',\n  '5VUT_9OG.sdf',\n  '1OM5_INE.sdf',\n  '4UH0_SKO.sdf',\n  '3NLX_3XB.sdf',\n  '3NLW_3XF.sdf',\n  '3NNY_59R.sdf',\n  '3HSN_HAR.sdf',\n  '1TLL_FMN.sdf',\n  '4CTQ_S5D.sdf',\n  '6NHD_KNV.sdf',\n  '5ADA_2SN.sdf',\n  '6NGW_KMS.sdf',\n  '4V3Y_HLW.sdf',\n  '4V3V_S8F.sdf',\n  '5UNT_8J1.sdf',\n  '3N5V_XFH.sdf',\n  '3PNE_8AX.sdf',\n  '5VUU_9OJ.sdf',\n  '5AD9_8VJ.sdf',\n  '5FW0_W30.sdf',\n  '5VUP_9P4.sdf',\n  '4UPN_7LN.sdf',\n  '6NGU_KMJ.sdf',\n  '5AD5_M94.sdf',\n  '1K2U_TFM.sdf',\n  '6NGL_KMA.sdf',\n  '4LUX_QJ8.sdf',\n  '3TYN_CXW.sdf',\n  '3NNZ_59W.sdf',\n  '1TLL_NAP.sdf',\n  '6AUU_BY7.sdf',\n  '1K2T_PTU.sdf',\n  '3NLY_3XC.sdf',\n  '5FVT_W67.sdf',\n  '6NH0_KND.sdf',\n  '3TYL_AXW.sdf',\n  '3NM0_3XE.sdf',\n  '5ADB_XEB.sdf',\n  '4UH3_S85.sdf',\n  '5AD4_6M8.sdf',\n  '6NGJ_KLY.sdf',\n  '4CTX_71S.sdf',\n  '5VUQ_P94.sdf',\n  '5FVO_D8H.sdf',\n  '4JSJ_QJ7.sdf',\n  '4JSG_Q10.sdf',\n  '4CTP_2IK.sdf',\n  '5UNR_8EV.sdf',\n  '6AUX_W82.sdf',\n  '3NLM_JRR.sdf',\n  '5FVP_WOS.sdf',\n  '6AUQ_BYJ.sdf',\n  '4JSH_Q15.sdf',\n  '4UH4_Q1T.sdf',\n  '6AUR_W68.sdf',\n  '3N2R_XJH.sdf',\n  '6NGV_KMM.sdf',\n  '6NGQ_KLA.sdf',\n  '4UGZ_4V4.sdf',\n  '3UFQ_HW5.sdf',\n  '4IMW_1EV.sdf',\n  '4D2Z_K9L.sdf',\n  '4JSI_Q05.sdf',\n  '6NGM_KMD.sdf',\n  '1TLL_FAD.sdf',\n  '4K5G_Q13.sdf',\n  '5UNW_8F7.sdf',\n  '3B3P_JI7.sdf',\n  '4CAQ_M68.sdf',\n  '1RS6_DP2.sdf',\n  '3N5Y_XFL.sdf',\n  '5UNU_8EY.sdf',\n  '3SVQ_JK4.sdf',\n  '3B3M_JI1.sdf',\n  '4D30_EG8.sdf',\n  '5VUR_9P7.sdf',\n  '4CTU_S42.sdf',\n  '3SVP_JK5.sdf',\n  '4CAN_M7K.sdf',\n  '6NGT_KL7.sdf',\n  '3NLV_3XA.sdf',\n  '6NGY_KN4.sdf',\n  '6NGS_KL1.sdf',\n  '5UNV_8J7.sdf',\n  '3UFS_HW6.sdf',\n  '3PNF_8BX.sdf',\n  '6NHE_KNS.sdf',\n  '4CTW_S71.sdf',\n  '5AGM_WT2.sdf',\n  '5VUK_9P1.sdf',\n  '4IMT_1EW.sdf',\n  '3UFW_HW0.sdf',\n  '3UFR_H5W.sdf',\n  '4CDT_M48.sdf',\n  '4V3Z_9HL.sdf',\n  '3N5Z_XFM.sdf',\n  '5VUO_9OS.sdf',\n  '4D3B_6J0.sdf',\n  '5VUJ_JHT.sdf',\n  '5VUL_P64.sdf',\n  '6NGX_KMV.sdf',\n  '6AUV_W79.sdf',\n  '5VUM_XH8.sdf',\n  '4CTT_S7K.sdf',\n  '4IMS_12S.sdf',\n  '6NGZ_KPJ.sdf',\n  '5VUN_9OM.sdf',\n  '3PNG_8CX.sdf',\n  '5FVR_H65.sdf',\n  '5ADC_TUE.sdf',\n  '5AD7_M85.sdf',\n  '6NGM_H4B.sdf',\n  '6AUW_W80.sdf',\n  '4EUX_HW1.sdf',\n  '4UH1_EXI.sdf',\n  '4CAO_M46.sdf',\n  '5VUS_9PM.sdf',\n  '4CAM_M87.sdf',\n  '4D2Y_L5Z.sdf',\n  '4CAP_ML6.sdf',\n  '4CTR_S20.sdf',\n  '5UNY_M4R.sdf',\n  '1MMW_VIO.sdf',\n  '3UFO_HW4.sdf',\n  '5AD6_7M3.sdf',\n  '6AUU_MTL.sdf',\n  '6NGN_KL4.sdf',\n  '6AUS_BYV.sdf',\n  '4UH2_S84.sdf',\n  '4D7O_0GD.sdf',\n  '5UNS_8J4.sdf',\n  '4K5D_1Q6.sdf',\n  '3NLZ_3XD.sdf',\n  '4D31_OLW.sdf',\n  '6AUT_W69.sdf',\n  '4V3W_E2Z.sdf',\n  '4JSF_QJ4.sdf',\n  '3B3O_JI3.sdf',\n  '5AGL_CCW.sdf',\n  '4V3X_4E8.sdf',\n  '6NGP_KKY.sdf',\n  '3TYO_DXW.sdf',\n  '1RS7_D7P.sdf',\n  '1LZZ_IHG.sdf',\n  '3UFP_H4W.sdf',\n  '6NGR_KLD.sdf',\n  '4CTV_7S7.sdf',\n  '1MMV_3AR.sdf',\n  '5VUI_M62.sdf',\n  '3UFT_HW7.sdf',\n  '2G6I_HBI.sdf',\n  '6NGK_KM7.sdf',\n  '4K5E_1Q7.sdf',\n  '5UNX_8F1.sdf',\n  '4IMU_1ET.sdf',\n  '4D32_7F5.sdf'],\n 'P35557': ['4ISF_1FX.sdf',\n  '3VF6_0H6.sdf',\n  '3FGU_BGC.sdf',\n  '4RCH_3LZ.sdf',\n  '5V4W_8WM.sdf',\n  '4DCH_4DC.sdf',\n  '3H1V_TK1.sdf',\n  '3F9M_GLC.sdf',\n  '3A0I_AJI.sdf',\n  '3VEV_0H4.sdf',\n  '3IMX_B84.sdf',\n  '5V4X_8WJ.sdf',\n  '3F9M_MRK.sdf',\n  '4ISE_1FW.sdf',\n  '3FGU_ANP.sdf',\n  '4DHY_S41.sdf',\n  '3VEY_0H5.sdf'],\n 'P0A6I3': ['1SQ5_PAU.sdf', '1SQ5_ADP.sdf'],\n 'P0AGJ9': ['6I5Y_YSA.sdf',\n  '6HB6_YSU.sdf',\n  '6HB7_Y3U.sdf',\n  '1X8X_TYR.sdf',\n  '6HB5_YSC.sdf'],\n 'P15121': ['1X97_FIR.sdf',\n  '3S3G_TLT.sdf',\n  '3BCJ_FIS.sdf',\n  '4LB3_M15.sdf',\n  '4XZI_F49.sdf',\n  '3G5E_Q74.sdf',\n  '4QXI_I98.sdf',\n  '2FZD_TOL.sdf',\n  '2PF8_LDT.sdf',\n  '3T42_3T4.sdf',\n  '2INZ_OHP.sdf',\n  '5OUK_AVT.sdf',\n  '1Z3N_3NA.sdf',\n  '1EL3_I84.sdf',\n  '2F2K_TGG.sdf',\n  '2INE_PAC.sdf',\n  '3U2C_SUZ.sdf',\n  '2PF8_NDP.sdf',\n  '2IQ0_6NA.sdf',\n  '4LBS_NAP.sdf',\n  '2IKH_LIT.sdf',\n  '2IKG_BTO.sdf',\n  '2ACQ_G6P.sdf',\n  '1IEI_ZES.sdf',\n  '4IGS_64I.sdf',\n  '2IS7_2CL.sdf',\n  '4LAZ_1WW.sdf',\n  '1PWL_BFI.sdf',\n  '4LAU_W8X.sdf',\n  '5OUJ_AW8.sdf',\n  '3V35_NTI.sdf',\n  '5OU0_AV5.sdf',\n  '3BCJ_CIT.sdf',\n  '4LBS_4O8.sdf',\n  '4LBR_4O9.sdf',\n  '4LB4_1WX.sdf',\n  '2PDG_47D.sdf',\n  '1T41_ID5.sdf',\n  '4XZH_48I.sdf',\n  '3DN5_53N.sdf',\n  '2NVC_ITA.sdf'],\n 'P9WIL5': [],\n 'P12758': ['1TGV_5UD.sdf',\n  '1U1G_BBB.sdf',\n  '1TGY_R1P.sdf',\n  '1U1C_BAU.sdf',\n  '1U1F_183.sdf',\n  '1TGY_URA.sdf',\n  '3KVV_URF.sdf',\n  '1U1E_182.sdf',\n  '3KVV_R2B.sdf',\n  '1U1D_181.sdf'],\n 'Q9GPQ4': ['3EPW_JMQ.sdf', '3B9G_IMH.sdf', '3EPX_IMQ.sdf'],\n 'P15917': ['4DV8_0LX.sdf']}"
     },
     "execution_count": 122,
     "metadata": {},
     "output_type": "execute_result"
    }
   ],
   "source": [
    "def create_reference_dictionary(path_to_reference_ligands_folder=PATH_TO_REFERENCE_LIGANDS_FOLDER):\n",
    "    '''organize dictionary based on the reference ligands'''\n",
    "    reference_dictionary = {}\n",
    "    uniprot_ids = os.listdir(path_to_reference_ligands_folder)\n",
    "    for uniprot_id in uniprot_ids:\n",
    "        reference_dictionary[uniprot_id] = []\n",
    "        for references in os.listdir(path_to_reference_ligands_folder + '/' + uniprot_id):\n",
    "            reference_dictionary[uniprot_id] += [references]\n",
    "    return reference_dictionary"
   ],
   "metadata": {
    "collapsed": false,
    "pycharm": {
     "name": "#%%\n"
    }
   }
  },
  {
   "cell_type": "code",
   "execution_count": 215,
   "outputs": [
    {
     "data": {
      "text/plain": "  uniprot_id reference sasa_bond_polar sasa_bond_apolar sasa_unbond_polar  \\\n0     P16083  3OVM_MZC            None             None              None   \n1     P16083  3G5M_XM5            None             None              None   \n2     P16083  3OWH_52X            None             None              None   \n\n  sasa_unbond_apolar error  \n0               None  None  \n1               None  None  \n2               None  None  ",
      "text/html": "<div>\n<style scoped>\n    .dataframe tbody tr th:only-of-type {\n        vertical-align: middle;\n    }\n\n    .dataframe tbody tr th {\n        vertical-align: top;\n    }\n\n    .dataframe thead th {\n        text-align: right;\n    }\n</style>\n<table border=\"1\" class=\"dataframe\">\n  <thead>\n    <tr style=\"text-align: right;\">\n      <th></th>\n      <th>uniprot_id</th>\n      <th>reference</th>\n      <th>sasa_bond_polar</th>\n      <th>sasa_bond_apolar</th>\n      <th>sasa_unbond_polar</th>\n      <th>sasa_unbond_apolar</th>\n      <th>error</th>\n    </tr>\n  </thead>\n  <tbody>\n    <tr>\n      <th>0</th>\n      <td>P16083</td>\n      <td>3OVM_MZC</td>\n      <td>None</td>\n      <td>None</td>\n      <td>None</td>\n      <td>None</td>\n      <td>None</td>\n    </tr>\n    <tr>\n      <th>1</th>\n      <td>P16083</td>\n      <td>3G5M_XM5</td>\n      <td>None</td>\n      <td>None</td>\n      <td>None</td>\n      <td>None</td>\n      <td>None</td>\n    </tr>\n    <tr>\n      <th>2</th>\n      <td>P16083</td>\n      <td>3OWH_52X</td>\n      <td>None</td>\n      <td>None</td>\n      <td>None</td>\n      <td>None</td>\n      <td>None</td>\n    </tr>\n  </tbody>\n</table>\n</div>"
     },
     "execution_count": 215,
     "metadata": {},
     "output_type": "execute_result"
    }
   ],
   "source": [
    "reference_dictionary = create_reference_dictionary()\n",
    "\n",
    "dictionary_df = {'uniprot_id':[], 'reference':[]}\n",
    "\n",
    "for uniprot_id in reference_dictionary:\n",
    "    for ref in reference_dictionary[uniprot_id]:\n",
    "        dictionary_df['uniprot_id'] += [uniprot_id]\n",
    "        dictionary_df['reference'] += [ref.split('.')[0]]\n",
    "\n",
    "dictionary_df = pd.DataFrame(dictionary_df)\n",
    "\n",
    "dictionary_df['sasa_bond_polar'] = None\n",
    "dictionary_df['sasa_bond_apolar'] = None\n",
    "dictionary_df['sasa_unbond_polar'] = None\n",
    "dictionary_df['sasa_unbond_apolar'] = None\n",
    "dictionary_df['error'] = None\n",
    "\n",
    "dictionary_df.head(3)"
   ],
   "metadata": {
    "collapsed": false,
    "pycharm": {
     "name": "#%%\n"
    }
   }
  },
  {
   "cell_type": "code",
   "execution_count": 216,
   "outputs": [
    {
     "name": "stdout",
     "output_type": "stream",
     "text": [
      "2046\n",
      "2046\n"
     ]
    },
    {
     "name": "stderr",
     "output_type": "stream",
     "text": [
      "Process ForkPoolWorker-29:\n",
      "Process ForkPoolWorker-30:\n",
      "Process ForkPoolWorker-28:\n",
      "Traceback (most recent call last):\n",
      "Traceback (most recent call last):\n",
      "Process ForkPoolWorker-27:\n",
      "Traceback (most recent call last):\n",
      "  File \"/home/fol007/anaconda3/envs/py37_rdkit/lib/python3.7/multiprocessing/process.py\", line 297, in _bootstrap\n",
      "    self.run()\n",
      "Process ForkPoolWorker-26:\n",
      "  File \"/home/fol007/anaconda3/envs/py37_rdkit/lib/python3.7/multiprocessing/process.py\", line 99, in run\n",
      "    self._target(*self._args, **self._kwargs)\n",
      "Traceback (most recent call last):\n",
      "  File \"/home/fol007/anaconda3/envs/py37_rdkit/lib/python3.7/multiprocessing/process.py\", line 297, in _bootstrap\n",
      "    self.run()\n",
      "  File \"/home/fol007/anaconda3/envs/py37_rdkit/lib/python3.7/multiprocessing/process.py\", line 99, in run\n",
      "    self._target(*self._args, **self._kwargs)\n",
      "  File \"/home/fol007/anaconda3/envs/py37_rdkit/lib/python3.7/multiprocessing/process.py\", line 297, in _bootstrap\n",
      "    self.run()\n",
      "Traceback (most recent call last):\n",
      "  File \"/home/fol007/anaconda3/envs/py37_rdkit/lib/python3.7/multiprocessing/process.py\", line 297, in _bootstrap\n",
      "    self.run()\n",
      "  File \"/home/fol007/anaconda3/envs/py37_rdkit/lib/python3.7/multiprocessing/pool.py\", line 110, in worker\n",
      "    task = get()\n",
      "  File \"/home/fol007/anaconda3/envs/py37_rdkit/lib/python3.7/multiprocessing/pool.py\", line 110, in worker\n",
      "    task = get()\n",
      "  File \"/home/fol007/anaconda3/envs/py37_rdkit/lib/python3.7/multiprocessing/process.py\", line 99, in run\n",
      "    self._target(*self._args, **self._kwargs)\n",
      "  File \"/home/fol007/anaconda3/envs/py37_rdkit/lib/python3.7/multiprocessing/process.py\", line 297, in _bootstrap\n",
      "    self.run()\n",
      "  File \"/home/fol007/anaconda3/envs/py37_rdkit/lib/python3.7/multiprocessing/queues.py\", line 351, in get\n",
      "    with self._rlock:\n",
      "  File \"/home/fol007/anaconda3/envs/py37_rdkit/lib/python3.7/multiprocessing/queues.py\", line 351, in get\n",
      "    with self._rlock:\n",
      "  File \"/home/fol007/anaconda3/envs/py37_rdkit/lib/python3.7/multiprocessing/pool.py\", line 110, in worker\n",
      "    task = get()\n",
      "  File \"/home/fol007/anaconda3/envs/py37_rdkit/lib/python3.7/multiprocessing/process.py\", line 99, in run\n",
      "    self._target(*self._args, **self._kwargs)\n",
      "  File \"/home/fol007/anaconda3/envs/py37_rdkit/lib/python3.7/multiprocessing/synchronize.py\", line 95, in __enter__\n",
      "    return self._semlock.__enter__()\n",
      "  File \"/home/fol007/anaconda3/envs/py37_rdkit/lib/python3.7/multiprocessing/synchronize.py\", line 95, in __enter__\n",
      "    return self._semlock.__enter__()\n",
      "  File \"/home/fol007/anaconda3/envs/py37_rdkit/lib/python3.7/multiprocessing/process.py\", line 99, in run\n",
      "    self._target(*self._args, **self._kwargs)\n",
      "  File \"/home/fol007/anaconda3/envs/py37_rdkit/lib/python3.7/multiprocessing/queues.py\", line 352, in get\n",
      "    res = self._reader.recv_bytes()\n",
      "  File \"/home/fol007/anaconda3/envs/py37_rdkit/lib/python3.7/multiprocessing/pool.py\", line 110, in worker\n",
      "    task = get()\n",
      "KeyboardInterrupt\n",
      "KeyboardInterrupt\n",
      "  File \"/home/fol007/anaconda3/envs/py37_rdkit/lib/python3.7/multiprocessing/connection.py\", line 216, in recv_bytes\n",
      "    buf = self._recv_bytes(maxlength)\n",
      "  File \"/home/fol007/anaconda3/envs/py37_rdkit/lib/python3.7/multiprocessing/queues.py\", line 351, in get\n",
      "    with self._rlock:\n",
      "  File \"/home/fol007/anaconda3/envs/py37_rdkit/lib/python3.7/multiprocessing/pool.py\", line 110, in worker\n",
      "    task = get()\n",
      "  File \"/home/fol007/anaconda3/envs/py37_rdkit/lib/python3.7/multiprocessing/connection.py\", line 407, in _recv_bytes\n",
      "    buf = self._recv(4)\n",
      "  File \"/home/fol007/anaconda3/envs/py37_rdkit/lib/python3.7/multiprocessing/synchronize.py\", line 95, in __enter__\n",
      "    return self._semlock.__enter__()\n",
      "  File \"/home/fol007/anaconda3/envs/py37_rdkit/lib/python3.7/multiprocessing/connection.py\", line 379, in _recv\n",
      "    chunk = read(handle, remaining)\n",
      "  File \"/home/fol007/anaconda3/envs/py37_rdkit/lib/python3.7/multiprocessing/queues.py\", line 351, in get\n",
      "    with self._rlock:\n",
      "KeyboardInterrupt\n",
      "KeyboardInterrupt\n",
      "  File \"/home/fol007/anaconda3/envs/py37_rdkit/lib/python3.7/multiprocessing/synchronize.py\", line 95, in __enter__\n",
      "    return self._semlock.__enter__()\n",
      "KeyboardInterrupt\n"
     ]
    }
   ],
   "source": [
    "work = []\n",
    "#i = 0\n",
    "for index, uniprot_id, ref in dictionary_df[['uniprot_id', 'reference']].itertuples():\n",
    "\n",
    "    path_to_mol = PATH_TO_REFERENCE_LIGANDS_FOLDER + '/' + uniprot_id + '/' + ref + '.sdf'\n",
    "    path_to_pdb = PATH_TO_PDB_FOLDER + '/' + uniprot_id + '/' + ref.split('_')[0] + '.pdb'\n",
    "\n",
    "    work += [(index, path_to_mol, path_to_pdb)]\n",
    "\n",
    "    #i += 1\n",
    "    #if i ==10:\n",
    "    #    break\n",
    "\n",
    "print(len(work))\n",
    "\n",
    "# Get process results from the output queue\n",
    "pool = mp.Pool(processes=5)\n",
    "results = pool.starmap(run_in_parallel, work)\n",
    "print(len(results))\n",
    "\n",
    "for index, sasa_bond_apolar, sasa_bond_polar, sasa_unbond_apolar, sasa_unbond_polar, error in results:\n",
    "    dictionary_df.at[index, 'sasa_bond_apolar'] = sasa_bond_apolar\n",
    "    dictionary_df.at[index, 'sasa_bond_polar'] = sasa_bond_polar\n",
    "    dictionary_df.at[index, 'sasa_unbond_apolar'] = sasa_unbond_apolar\n",
    "    dictionary_df.at[index, 'sasa_unbond_polar'] = sasa_unbond_polar\n",
    "    dictionary_df.at[index, 'error'] = error\n",
    "\n",
    "dictionary_df.to_csv('dictionary.csv', index=False)"
   ],
   "metadata": {
    "collapsed": false,
    "pycharm": {
     "name": "#%%\n"
    }
   }
  },
  {
   "cell_type": "code",
   "execution_count": 217,
   "outputs": [
    {
     "data": {
      "text/plain": "     uniprot_id reference sasa_bond_polar sasa_bond_apolar sasa_unbond_polar  \\\n76       P00742  1NFU_RRP            None             None              None   \n246      P28720  1K4H_APQ            None             None              None   \n1796     P03372  6IAR_H8W            None             None              None   \n\n     sasa_unbond_apolar                                          error  \n76                 None                                  'SASA_bonded'  \n246                None                                  'SASA_bonded'  \n1796               None  'NoneType' object has no attribute 'GetAtoms'  ",
      "text/html": "<div>\n<style scoped>\n    .dataframe tbody tr th:only-of-type {\n        vertical-align: middle;\n    }\n\n    .dataframe tbody tr th {\n        vertical-align: top;\n    }\n\n    .dataframe thead th {\n        text-align: right;\n    }\n</style>\n<table border=\"1\" class=\"dataframe\">\n  <thead>\n    <tr style=\"text-align: right;\">\n      <th></th>\n      <th>uniprot_id</th>\n      <th>reference</th>\n      <th>sasa_bond_polar</th>\n      <th>sasa_bond_apolar</th>\n      <th>sasa_unbond_polar</th>\n      <th>sasa_unbond_apolar</th>\n      <th>error</th>\n    </tr>\n  </thead>\n  <tbody>\n    <tr>\n      <th>76</th>\n      <td>P00742</td>\n      <td>1NFU_RRP</td>\n      <td>None</td>\n      <td>None</td>\n      <td>None</td>\n      <td>None</td>\n      <td>'SASA_bonded'</td>\n    </tr>\n    <tr>\n      <th>246</th>\n      <td>P28720</td>\n      <td>1K4H_APQ</td>\n      <td>None</td>\n      <td>None</td>\n      <td>None</td>\n      <td>None</td>\n      <td>'SASA_bonded'</td>\n    </tr>\n    <tr>\n      <th>1796</th>\n      <td>P03372</td>\n      <td>6IAR_H8W</td>\n      <td>None</td>\n      <td>None</td>\n      <td>None</td>\n      <td>None</td>\n      <td>'NoneType' object has no attribute 'GetAtoms'</td>\n    </tr>\n  </tbody>\n</table>\n</div>"
     },
     "execution_count": 217,
     "metadata": {},
     "output_type": "execute_result"
    }
   ],
   "source": [
    "dictionary_df.loc[dictionary_df['error']!=-1]"
   ],
   "metadata": {
    "collapsed": false,
    "pycharm": {
     "name": "#%%\n"
    }
   }
  },
  {
   "cell_type": "code",
   "execution_count": 2,
   "outputs": [
    {
     "data": {
      "text/plain": "<rdkit.Chem.rdchem.Mol at 0x7ff760497df0>",
      "image/png": "[encoded data removed]"
     },
     "execution_count": 2,
     "metadata": {},
     "output_type": "execute_result"
    }
   ],
   "source": [
    "# Get the path to the reference mol:\n",
    "path_to_mol = '/home/fol007/PycharmProjects/ChEMBL_plus_BindingMOAD/BindingMOAD_AstexDiverseSet_Simplified/reference_ligands/Q08499/6INK_AKU.sdf'\n",
    "# Get mol reference molecule:\n",
    "mol = Chem.SDMolSupplier(path_to_mol)[0]\n",
    "mol_conf = mol.GetConformer()\n",
    "mol"
   ],
   "metadata": {
    "collapsed": false,
    "pycharm": {
     "name": "#%%\n"
    }
   }
  },
  {
   "cell_type": "code",
   "execution_count": 4,
   "outputs": [],
   "source": [
    "# Function to classify atoms as polar or apolar\n",
    "def classifyAtoms(mol, polar_atoms=[7,8,15,16]):\n",
    "    # the polar atoms are [N,O,S,P]\n",
    "    # Get Van der Waals radii (angstrom)\n",
    "    ptable = Chem.GetPeriodicTable()\n",
    "    radii = [ptable.GetRvdw(atom.GetAtomicNum()) for atom in mol.GetAtoms()]\n",
    "\n",
    "    for atom in mol.GetAtoms():\n",
    "        atom.SetProp(\"SASAClassName\", \"Apolar\") # mark everything as apolar to start\n",
    "        if atom.GetAtomicNum() in polar_atoms: #identify polar atoms and change their marking\n",
    "            atom.SetProp(\"SASAClassName\", \"Polar\") # mark as polar\n",
    "        elif atom.GetAtomicNum() == 1:\n",
    "            try:\n",
    "                if atom.GetBonds()[0].GetOtherAtom(atom).GetAtomicNum() in polar_atoms:\n",
    "                    atom.SetProp(\"SASAClassName\", \"Polar\") # mark as polar\n",
    "            except:\n",
    "                continue\n",
    "\n",
    "    return radii"
   ],
   "metadata": {
    "collapsed": false,
    "pycharm": {
     "name": "#%%\n"
    }
   }
  },
  {
   "cell_type": "code",
   "execution_count": 5,
   "outputs": [
    {
     "data": {
      "text/plain": "563.7467033397826"
     },
     "execution_count": 5,
     "metadata": {},
     "output_type": "execute_result"
    }
   ],
   "source": [
    "# First I am going to calculate the SASA of the free molecule\n",
    "radii = classifyAtoms(mol)\n",
    "FreeSASA.CalcSASA(mol, radii)"
   ],
   "metadata": {
    "collapsed": false,
    "pycharm": {
     "name": "#%%\n"
    }
   }
  },
  {
   "cell_type": "code",
   "execution_count": 6,
   "outputs": [
    {
     "name": "stdout",
     "output_type": "stream",
     "text": [
      "\n",
      "polar 111.59908032264022\n",
      "apolar 452.1476230171424\n",
      "total 563.7467033397826\n"
     ]
    }
   ],
   "source": [
    "# Now it is possible to calculate the polar atoms SASA and the apolar atoms SASA of the unbond mol\n",
    "atoms_mol = mol.GetAtoms()\n",
    "#for i in range(len(atoms_mol)):\n",
    "    #print(atoms_mol[i].GetSymbol(), atoms_mol[i].GetProp('SASAClassName'), atoms_mol[i].GetProp(\"SASA\"))\n",
    "print('')\n",
    "print('polar', sum(float(a.GetProp(\"SASA\")) for a in atoms_mol if a.GetProp(\"SASAClassName\")=='Polar'))\n",
    "print('apolar', sum(float(a.GetProp(\"SASA\")) for a in atoms_mol if a.GetProp(\"SASAClassName\")=='Apolar'))\n",
    "print('total', sum(float(a.GetProp(\"SASA\")) for a in atoms_mol))"
   ],
   "metadata": {
    "collapsed": false,
    "pycharm": {
     "name": "#%%\n"
    }
   }
  },
  {
   "cell_type": "code",
   "execution_count": 7,
   "outputs": [
    {
     "name": "stdout",
     "output_type": "stream",
     "text": [
      " PyMOL not running, entering library mode (experimental)\n"
     ]
    }
   ],
   "source": [
    "# Use pymol to obtain the bond ligand and the surrounding residues (minus the waters)\n",
    "# Get the path to the corresponding .pdb file\n",
    "path_to_pdb = '/home/fol007/PycharmProjects/ChEMBL_plus_BindingMOAD/BindingMOAD_AstexDiverseSet_Simplified/pdb_files/Q08499/6INK.pdb'\n",
    "\n",
    "cmd.load(path_to_mol, object='mol')\n",
    "cmd.load(path_to_pdb, object='pdb')\n",
    "\n",
    "cmd.remove(selection='resn hoh')\n",
    "\n",
    "cmd.select(name='bonded_mol', selection='br. pdb within 6.5 of mol')\n",
    "\n",
    "cmd.save(filename='bonded_mol.pdb', selection='bonded_mol')\n",
    "\n",
    "cmd.reinitialize()"
   ],
   "metadata": {
    "collapsed": false,
    "pycharm": {
     "name": "#%%\n"
    }
   }
  },
  {
   "cell_type": "code",
   "execution_count": 8,
   "outputs": [],
   "source": [
    "# Calculate polar and apolar SASA of bonded mol\n",
    "bonded_mol = Chem.MolFromPDBFile('bonded_mol.pdb')"
   ],
   "metadata": {
    "collapsed": false,
    "pycharm": {
     "name": "#%%\n"
    }
   }
  },
  {
   "cell_type": "code",
   "execution_count": 9,
   "outputs": [
    {
     "name": "stdout",
     "output_type": "stream",
     "text": [
      "total 130.04866440595518\n",
      "polar 41.68890659213129\n",
      "apolar 88.3597578138239\n"
     ]
    }
   ],
   "source": [
    "# Calculate SASA of the bonded mol\n",
    "radii=classifyAtoms(bonded_mol)\n",
    "FreeSASA.CalcSASA(bonded_mol, radii)\n",
    "\n",
    "atoms_bonded = bonded_mol.GetAtoms()\n",
    "bonded_conf = bonded_mol.GetConformer()\n",
    "\n",
    "for i in range(len(atoms_bonded)):\n",
    "\n",
    "    coords_bonded = (bonded_conf.GetAtomPosition(i).x, bonded_conf.GetAtomPosition(i).y, bonded_conf.GetAtomPosition(i).z)\n",
    "\n",
    "    for j in range(len(atoms_mol)):\n",
    "\n",
    "        coords_mol = (mol_conf.GetAtomPosition(j).x, mol_conf.GetAtomPosition(j).y, mol_conf.GetAtomPosition(j).z)\n",
    "\n",
    "        if coords_bonded == coords_mol:\n",
    "            atoms_mol[j].SetProp(\"SASA_bonded\", atoms_bonded[i].GetProp(\"SASA\"))\n",
    "\n",
    "print('total', sum(float(a.GetProp(\"SASA_bonded\")) for a in atoms_mol))\n",
    "print('polar', sum(float(a.GetProp(\"SASA_bonded\")) for a in atoms_mol if a.GetProp(\"SASAClassName\")=='Polar'))\n",
    "print('apolar', sum(float(a.GetProp(\"SASA_bonded\")) for a in atoms_mol if a.GetProp(\"SASAClassName\")=='Apolar'))"
   ],
   "metadata": {
    "collapsed": false,
    "pycharm": {
     "name": "#%%\n"
    }
   }
  },
  {
   "cell_type": "code",
   "execution_count": 12,
   "outputs": [],
   "source": [
    "import json\n",
    "\n",
    "atom_properties = []\n",
    "for i in range(len(atoms_mol)):\n",
    "\n",
    "    atom_properties += [{'SASAClassName' : atoms_mol[i].GetProp('SASAClassName'),\n",
    "                         'SASA' : atoms_mol[i].GetProp('SASA'),\n",
    "                         'SASA_bonded' : atoms_mol[i].GetProp('SASA_bonded')}]\n",
    "\n",
    "with open('atom_properties.json', 'w') as outfile:\n",
    "    json.dump(atom_properties, outfile, indent=4)"
   ],
   "metadata": {
    "collapsed": false,
    "pycharm": {
     "name": "#%%\n"
    }
   }
  },
  {
   "cell_type": "code",
   "execution_count": null,
   "outputs": [],
   "source": [
    "def calculate_sasa(path_to_mol, path_to_pdb):\n",
    "\n",
    "    # Get mol of molecule:\n",
    "    mol = Chem.SDMolSupplier(path_to_mol)[0]\n",
    "    # Get mol atoms\n",
    "    mol_atoms = mol.GetAtoms()\n",
    "    # Get conformer of mol\n",
    "    mol_conf = mol.GetConformer()\n",
    "\n",
    "    # First I am going to calculate the SASA of the unbond molecule\n",
    "    radii = classifyAtoms(mol)\n",
    "    FreeSASA.CalcSASA(mol, radii)\n",
    "\n",
    "    sasa_unbond_polar = sum(float(a.GetProp(\"SASA\")) for a in mol_atoms if a.GetProp(\"SASAClassName\")=='Polar')\n",
    "    sasa_unbond_apolar = sum(float(a.GetProp(\"SASA\")) for a in mol_atoms if a.GetProp(\"SASAClassName\")=='Apolar')\n",
    "\n",
    "    # Use pymol to obtain the bond ligand and the surrounding residues (minus the waters)\n",
    "    cmd.load(path_to_mol, object='mol')\n",
    "    cmd.load(path_to_pdb, object='pdb')\n",
    "\n",
    "    cmd.remove(selection='resn hoh')\n",
    "\n",
    "    cmd.select(name='bonded_mol', selection='br. pdb within 6.5 of mol')\n",
    "\n",
    "    bonded_mol_path = path_to_mol.split('/')[-1]+'.pdb'\n",
    "    cmd.save(filename=bonded_mol_path, selection='bonded_mol')\n",
    "\n",
    "    cmd.reinitialize()\n",
    "\n",
    "    bonded_mol = Chem.MolFromPDBFile(bonded_mol_path, sanitize=False)\n",
    "    os.remove(bonded_mol_path)\n",
    "\n",
    "    # Get mol atoms\n",
    "    bonded_mol_atoms = bonded_mol.GetAtoms()\n",
    "    # Get conformer of mol\n",
    "    bonded_mol_conf = bonded_mol.GetConformer()\n",
    "\n",
    "    # Calculate SASA of the bonded mol\n",
    "    radii=classifyAtoms(bonded_mol)\n",
    "    FreeSASA.CalcSASA(bonded_mol, radii)\n",
    "\n",
    "    for i in range(len(bonded_mol_atoms)):\n",
    "\n",
    "        coords_bonded = (bonded_mol_conf.GetAtomPosition(i).x,\n",
    "                         bonded_mol_conf.GetAtomPosition(i).y,\n",
    "                         bonded_mol_conf.GetAtomPosition(i).z)\n",
    "\n",
    "        for j in range(len(mol_atoms)):\n",
    "\n",
    "            coords_mol = (mol_conf.GetAtomPosition(j).x, mol_conf.GetAtomPosition(j).y, mol_conf.GetAtomPosition(j).z)\n",
    "\n",
    "            if coords_bonded == coords_mol:\n",
    "\n",
    "                mol_atoms[j].SetProp(\"SASA_bonded\", bonded_mol_atoms[i].GetProp(\"SASA\"))\n",
    "\n",
    "    sasa_bond_polar = sum(float(a.GetProp(\"SASA_bonded\")) for a in mol_atoms if a.GetProp(\"SASAClassName\")=='Polar')\n",
    "    sasa_bond_apolar = sum(float(a.GetProp(\"SASA_bonded\")) for a in mol_atoms if a.GetProp(\"SASAClassName\")=='Apolar')\n",
    "\n",
    "    return sasa_bond_apolar, sasa_bond_polar, sasa_unbond_apolar, sasa_unbond_polar"
   ],
   "metadata": {
    "collapsed": false,
    "pycharm": {
     "name": "#%%\n"
    }
   }
  },
  {
   "cell_type": "code",
   "execution_count": 181,
   "outputs": [],
   "source": [
    "def run_in_parallel(index, path_to_mol, path_to_pdb):\n",
    "    try:\n",
    "        sasa_bond_apolar, sasa_bond_polar, sasa_unbond_apolar, sasa_unbond_polar = calculate_sasa(path_to_mol, path_to_pdb)\n",
    "        error = -1\n",
    "    except Exception as e:\n",
    "        sasa_bond_apolar, sasa_bond_polar, sasa_unbond_apolar, sasa_unbond_polar = None, None, None, None\n",
    "        error = e\n",
    "    return (index, sasa_bond_apolar, sasa_bond_polar, sasa_unbond_apolar, sasa_unbond_polar, error)\n"
   ],
   "metadata": {
    "collapsed": false,
    "pycharm": {
     "name": "#%%\n"
    }
   }
  }
 ],
 "metadata": {
  "kernelspec": {
   "display_name": "Python 3",
   "language": "python",
   "name": "python3"
  },
  "language_info": {
   "codemirror_mode": {
    "name": "ipython",
    "version": 2
   },
   "file_extension": ".py",
   "mimetype": "text/x-python",
   "name": "python",
   "nbconvert_exporter": "python",
   "pygments_lexer": "ipython2",
   "version": "2.7.6"
  }
 },
 "nbformat": 4,
 "nbformat_minor": 0
}