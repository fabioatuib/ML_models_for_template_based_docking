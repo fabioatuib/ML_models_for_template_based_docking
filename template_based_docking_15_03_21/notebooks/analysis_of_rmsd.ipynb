{
 "cells": [
  {
   "cell_type": "code",
   "execution_count": 1,
   "metadata": {
    "collapsed": true
   },
   "outputs": [],
   "source": [
    "import os\n",
    "import numpy as np\n",
    "import pandas as pd\n",
    "from rdkit import Chem\n",
    "from rdkit.Chem import PandasTools\n",
    "from rdkit.Chem import rdFMCS"
   ]
  },
  {
   "cell_type": "code",
   "execution_count": 3,
   "outputs": [],
   "source": [
    "df = pd.read_csv('../../../Template_Based_Docking_Project_GitRepo/Expanded_Astex_Diverse_Set/'+\n",
    "                 'expanded_Astex_with_smiles.csv')\n",
    "\n",
    "df = df[df['Uniprot_ID'].isin(os.listdir('../data/aligned'))]"
   ],
   "metadata": {
    "collapsed": false,
    "pycharm": {
     "name": "#%%\n"
    }
   }
  },
  {
   "cell_type": "code",
   "execution_count": 5,
   "outputs": [],
   "source": [
    "base = '../data/aligned/'\n",
    "\n",
    "rmsd = []\n",
    "\n",
    "for unp, protein, ligand in df[['Uniprot_ID', 'Protein_ID', 'Ligand_Name']].values:\n",
    "    path = base + unp + '/' + protein + '_' + ligand + '/rmsd_all_in_' + protein + '_' + ligand + '.csv'\n",
    "    try:\n",
    "        to_add = pd.read_csv(path)\n",
    "        to_add['uniprot_id'] = unp\n",
    "        rmsd += [to_add.copy()]\n",
    "    except:\n",
    "        continue\n",
    "\n",
    "rmsd_df = pd.concat(rmsd)\n",
    "del rmsd\n",
    "del to_add\n",
    "rmsd_df = rmsd_df.reset_index(drop=True)"
   ],
   "metadata": {
    "collapsed": false,
    "pycharm": {
     "name": "#%%\n"
    }
   }
  },
  {
   "cell_type": "code",
   "execution_count": 6,
   "outputs": [
    {
     "data": {
      "text/plain": "(78625, 4)"
     },
     "execution_count": 6,
     "metadata": {},
     "output_type": "execute_result"
    }
   ],
   "source": [
    "# before: (27609, 4)\n",
    "rmsd_df.shape"
   ],
   "metadata": {
    "collapsed": false,
    "pycharm": {
     "name": "#%%\n"
    }
   }
  },
  {
   "cell_type": "code",
   "execution_count": 7,
   "outputs": [],
   "source": [
    "rmsd_df.to_csv('../data/rmsd_values_base.csv')"
   ],
   "metadata": {
    "collapsed": false,
    "pycharm": {
     "name": "#%%\n"
    }
   }
  },
  {
   "cell_type": "code",
   "execution_count": 8,
   "outputs": [
    {
     "name": "stdout",
     "output_type": "stream",
     "text": [
      "Done!\n"
     ]
    }
   ],
   "source": [
    "# use precalculated mcs to speed up\n",
    "precalculated_df = pd.read_csv('../../Analysis_of_Docking/data/pre-calculated/rmsd_values_plus_smiles.csv')\n",
    "pairs_ligands = {t_d_mcs[0]+'_'+t_d_mcs[1]:t_d_mcs[2] for t_d_mcs in precalculated_df[['template', 'docked', 'mcs_smartsString']].values}\n",
    "pairs_ligands.update({t_d_mcs[1]+'_'+t_d_mcs[0]:t_d_mcs[2] for t_d_mcs in precalculated_df[['template', 'docked', 'mcs_smartsString']].values})\n",
    "\n",
    "rmsd_df['smiles_template'] = None\n",
    "rmsd_df['smiles_docked'] = None\n",
    "rmsd_df['mcs_smartsString'] = None\n",
    "\n",
    "for index, template, docked in rmsd_df[['template', 'docked']].itertuples():\n",
    "\n",
    "    smiles_template = df.loc[df['Ligand_Name']==template.split('_')[1], 'Smiles'].values[0]\n",
    "    smiles_docked = df.loc[df['Ligand_Name']==docked.split('_')[1], 'Smiles'].values[0]\n",
    "\n",
    "    rmsd_df.at[index, 'smiles_template'] = smiles_template\n",
    "    rmsd_df.at[index, 'smiles_docked'] = smiles_docked\n",
    "\n",
    "    if '_'.join([template, docked]) in pairs_ligands:\n",
    "\n",
    "        rmsd_df.at[index, 'mcs_smartsString'] = pairs_ligands['_'.join([template, docked])]\n",
    "    else:\n",
    "        try:\n",
    "            mcs = rdFMCS.FindMCS([Chem.MolFromSmiles(smiles_template), Chem.MolFromSmiles(smiles_docked)],\n",
    "                                 matchValences=True)\n",
    "\n",
    "            rmsd_df.at[index, 'mcs_smartsString'] = mcs.smartsString\n",
    "        except Exception as e:\n",
    "            print('Exception', e)\n",
    "            print(index, template, docked)\n",
    "\n",
    "print('Done!')\n"
   ],
   "metadata": {
    "collapsed": false,
    "pycharm": {
     "name": "#%%\n"
    }
   }
  },
  {
   "cell_type": "raw",
   "source": [
    "\n",
    "rmsd_df['smiles_template'] = None\n",
    "rmsd_df['smiles_docked'] = None\n",
    "rmsd_df['mcs_smartsString'] = None\n",
    "\n",
    "for index, template, docked in rmsd_df[['template', 'docked']].itertuples():\n",
    "    try:\n",
    "        smiles_template = df.loc[df['Ligand_Name']==template.split('_')[1], 'Smiles'].values[0]\n",
    "        smiles_docked = df.loc[df['Ligand_Name']==docked.split('_')[1], 'Smiles'].values[0]\n",
    "\n",
    "        rmsd_df.at[index, 'smiles_template'] = smiles_template\n",
    "        rmsd_df.at[index, 'smiles_docked'] = smiles_docked\n",
    "\n",
    "        mcs = rdFMCS.FindMCS([Chem.MolFromSmiles(smiles_template), Chem.MolFromSmiles(smiles_docked)],\n",
    "                             matchValences=True)\n",
    "\n",
    "        rmsd_df.at[index, 'mcs_smartsString'] = mcs.smartsString\n",
    "    except Exception as e:\n",
    "        print('Exception', e)\n",
    "        print(index, template, docked)\n",
    "\n",
    "print('Done!')\n",
    "\n"
   ],
   "metadata": {
    "collapsed": false,
    "pycharm": {
     "name": "#%% raw\n"
    }
   }
  },
  {
   "cell_type": "code",
   "execution_count": 25,
   "outputs": [],
   "source": [
    "rmsd_df.to_csv('../data/rmsd_values_plus_smiles.csv', index=False)"
   ],
   "metadata": {
    "collapsed": false,
    "pycharm": {
     "name": "#%%\n"
    }
   }
  }
 ],
 "metadata": {
  "kernelspec": {
   "display_name": "Python 3",
   "language": "python",
   "name": "python3"
  },
  "language_info": {
   "codemirror_mode": {
    "name": "ipython",
    "version": 2
   },
   "file_extension": ".py",
   "mimetype": "text/x-python",
   "name": "python",
   "nbconvert_exporter": "python",
   "pygments_lexer": "ipython2",
   "version": "2.7.6"
  }
 },
 "nbformat": 4,
 "nbformat_minor": 0
}