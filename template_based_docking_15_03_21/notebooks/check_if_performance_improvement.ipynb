{
 "cells": [
  {
   "cell_type": "code",
   "execution_count": 1,
   "metadata": {
    "collapsed": true
   },
   "outputs": [],
   "source": [
    "import pandas as pd"
   ]
  },
  {
   "cell_type": "markdown",
   "source": [
    "The point of this notebook is to check if the improved all-against-all cross template-based docking\n",
    "resulted in better final poses for the self-docked cases."
   ],
   "metadata": {
    "collapsed": false,
    "pycharm": {
     "name": "#%% md\n"
    }
   }
  },
  {
   "cell_type": "code",
   "execution_count": 36,
   "outputs": [
    {
     "data": {
      "text/plain": "     uniprot_id  template    docked   rmsd\n35       P00918  1OKN_STB  1OKN_STB  0.714\n341      P00918  3IBN_O60  3IBN_O60  4.664\n1273     P00918  4MLT_TM4  4MLT_TM4  0.254\n1525     P00918  2GEH_NHY  2GEH_NHY  0.935\n1547     P00918  1ZE8_PIU  1ZE8_PIU  0.345",
      "text/html": "<div>\n<style scoped>\n    .dataframe tbody tr th:only-of-type {\n        vertical-align: middle;\n    }\n\n    .dataframe tbody tr th {\n        vertical-align: top;\n    }\n\n    .dataframe thead th {\n        text-align: right;\n    }\n</style>\n<table border=\"1\" class=\"dataframe\">\n  <thead>\n    <tr style=\"text-align: right;\">\n      <th></th>\n      <th>uniprot_id</th>\n      <th>template</th>\n      <th>docked</th>\n      <th>rmsd</th>\n    </tr>\n  </thead>\n  <tbody>\n    <tr>\n      <th>35</th>\n      <td>P00918</td>\n      <td>1OKN_STB</td>\n      <td>1OKN_STB</td>\n      <td>0.714</td>\n    </tr>\n    <tr>\n      <th>341</th>\n      <td>P00918</td>\n      <td>3IBN_O60</td>\n      <td>3IBN_O60</td>\n      <td>4.664</td>\n    </tr>\n    <tr>\n      <th>1273</th>\n      <td>P00918</td>\n      <td>4MLT_TM4</td>\n      <td>4MLT_TM4</td>\n      <td>0.254</td>\n    </tr>\n    <tr>\n      <th>1525</th>\n      <td>P00918</td>\n      <td>2GEH_NHY</td>\n      <td>2GEH_NHY</td>\n      <td>0.935</td>\n    </tr>\n    <tr>\n      <th>1547</th>\n      <td>P00918</td>\n      <td>1ZE8_PIU</td>\n      <td>1ZE8_PIU</td>\n      <td>0.345</td>\n    </tr>\n  </tbody>\n</table>\n</div>"
     },
     "execution_count": 36,
     "metadata": {},
     "output_type": "execute_result"
    }
   ],
   "source": [
    "# data from template_based_docking_15_03_21 run\n",
    "new_df = pd.read_csv('../data/rmsd_values_plus_smiles.csv')\n",
    "new_df = new_df.loc[(new_df['template']==new_df['docked'])]\n",
    "new_df = new_df[['uniprot_id','template', 'docked', 'rmsd']]\n",
    "new_df.head()"
   ],
   "metadata": {
    "collapsed": false,
    "pycharm": {
     "name": "#%%\n"
    }
   }
  },
  {
   "cell_type": "code",
   "execution_count": 37,
   "outputs": [
    {
     "name": "stdout",
     "output_type": "stream",
     "text": [
      "(65, 3)\n"
     ]
    },
    {
     "data": {
      "text/plain": "   template    docked   rmsd\n0  3BIU_10U  3BIU_10U  5.299\n1  1TA2_176  1TA2_176  3.971\n2  6EO8_2FN  6EO8_2FN  8.017\n3  1SL3_170  1SL3_170  6.377\n4  3F68_91U  3F68_91U  6.170",
      "text/html": "<div>\n<style scoped>\n    .dataframe tbody tr th:only-of-type {\n        vertical-align: middle;\n    }\n\n    .dataframe tbody tr th {\n        vertical-align: top;\n    }\n\n    .dataframe thead th {\n        text-align: right;\n    }\n</style>\n<table border=\"1\" class=\"dataframe\">\n  <thead>\n    <tr style=\"text-align: right;\">\n      <th></th>\n      <th>template</th>\n      <th>docked</th>\n      <th>rmsd</th>\n    </tr>\n  </thead>\n  <tbody>\n    <tr>\n      <th>0</th>\n      <td>3BIU_10U</td>\n      <td>3BIU_10U</td>\n      <td>5.299</td>\n    </tr>\n    <tr>\n      <th>1</th>\n      <td>1TA2_176</td>\n      <td>1TA2_176</td>\n      <td>3.971</td>\n    </tr>\n    <tr>\n      <th>2</th>\n      <td>6EO8_2FN</td>\n      <td>6EO8_2FN</td>\n      <td>8.017</td>\n    </tr>\n    <tr>\n      <th>3</th>\n      <td>1SL3_170</td>\n      <td>1SL3_170</td>\n      <td>6.377</td>\n    </tr>\n    <tr>\n      <th>4</th>\n      <td>3F68_91U</td>\n      <td>3F68_91U</td>\n      <td>6.170</td>\n    </tr>\n  </tbody>\n</table>\n</div>"
     },
     "execution_count": 37,
     "metadata": {},
     "output_type": "execute_result"
    }
   ],
   "source": [
    "# data from the initial template-based-docking run\n",
    "old_df = pd.read_csv('../data/data_from_previous_protocol/more_than_3A.csv')\n",
    "print(old_df.shape)\n",
    "old_df.head()"
   ],
   "metadata": {
    "collapsed": false,
    "pycharm": {
     "name": "#%%\n"
    }
   }
  },
  {
   "cell_type": "markdown",
   "source": [
    "For a fair comparison let's make sure that we don't include targets that were not template-based docked\n",
    "in the first attempt protocol."
   ],
   "metadata": {
    "collapsed": false,
    "pycharm": {
     "name": "#%% md\n"
    }
   }
  },
  {
   "cell_type": "code",
   "execution_count": 40,
   "outputs": [
    {
     "name": "stdout",
     "output_type": "stream",
     "text": [
      "['P00374', 'P42260', 'P27487', 'P00734', 'P53779', 'P00742', 'P04585', 'P15090', 'P04058', 'P56658', 'P00520', 'P20231', 'P47811', 'P22906', 'O43570', 'P14780', 'P08709', 'O14757', 'Q24451', 'P50097', 'P04818', 'P15121', 'P07342', 'P35968', 'P49841', 'P35557']\n"
     ]
    },
    {
     "data": {
      "text/plain": "(117, 4)"
     },
     "execution_count": 40,
     "metadata": {},
     "output_type": "execute_result"
    }
   ],
   "source": [
    "uniprots_to_keep = []\n",
    "for unp_id, template in new_df[['uniprot_id', 'template']].values:\n",
    "    if template in old_df.template.tolist():\n",
    "        uniprots_to_keep += [unp_id]\n",
    "uniprots_to_keep = list(set(uniprots_to_keep))\n",
    "print(uniprots_to_keep)\n",
    "# kick out the rows in new_df that don't correspond to uniprots_to_keep\n",
    "new_df = new_df.loc[new_df['uniprot_id'].isin(uniprots_to_keep)]\n",
    "new_df.loc[new_df['rmsd']>3].shape"
   ],
   "metadata": {
    "collapsed": false,
    "pycharm": {
     "name": "#%%\n"
    }
   }
  },
  {
   "cell_type": "markdown",
   "source": [
    "Surprising that the number of bad self template-based docking is even bigger...\n",
    "(maybe for the same target more compounds were successfully?)\n",
    "Let's do now a head-to-head comparison:"
   ],
   "metadata": {
    "collapsed": false,
    "pycharm": {
     "name": "#%% md\n"
    }
   }
  },
  {
   "cell_type": "code",
   "execution_count": 42,
   "outputs": [
    {
     "data": {
      "text/plain": "   template    docked   rmsd new_rmsd\n0  3BIU_10U  3BIU_10U  5.299    2.661\n1  1TA2_176  1TA2_176  3.971      0.3\n2  6EO8_2FN  6EO8_2FN  8.017    0.806\n3  1SL3_170  1SL3_170  6.377    5.396\n4  3F68_91U  3F68_91U  6.170    1.882",
      "text/html": "<div>\n<style scoped>\n    .dataframe tbody tr th:only-of-type {\n        vertical-align: middle;\n    }\n\n    .dataframe tbody tr th {\n        vertical-align: top;\n    }\n\n    .dataframe thead th {\n        text-align: right;\n    }\n</style>\n<table border=\"1\" class=\"dataframe\">\n  <thead>\n    <tr style=\"text-align: right;\">\n      <th></th>\n      <th>template</th>\n      <th>docked</th>\n      <th>rmsd</th>\n      <th>new_rmsd</th>\n    </tr>\n  </thead>\n  <tbody>\n    <tr>\n      <th>0</th>\n      <td>3BIU_10U</td>\n      <td>3BIU_10U</td>\n      <td>5.299</td>\n      <td>2.661</td>\n    </tr>\n    <tr>\n      <th>1</th>\n      <td>1TA2_176</td>\n      <td>1TA2_176</td>\n      <td>3.971</td>\n      <td>0.3</td>\n    </tr>\n    <tr>\n      <th>2</th>\n      <td>6EO8_2FN</td>\n      <td>6EO8_2FN</td>\n      <td>8.017</td>\n      <td>0.806</td>\n    </tr>\n    <tr>\n      <th>3</th>\n      <td>1SL3_170</td>\n      <td>1SL3_170</td>\n      <td>6.377</td>\n      <td>5.396</td>\n    </tr>\n    <tr>\n      <th>4</th>\n      <td>3F68_91U</td>\n      <td>3F68_91U</td>\n      <td>6.170</td>\n      <td>1.882</td>\n    </tr>\n  </tbody>\n</table>\n</div>"
     },
     "execution_count": 42,
     "metadata": {},
     "output_type": "execute_result"
    }
   ],
   "source": [
    "old_df['new_rmsd'] = None\n",
    "for index, template in old_df[['template']].itertuples():\n",
    "    if template in new_df.template.tolist():\n",
    "        old_df.at[index, 'new_rmsd'] = new_df.loc[new_df['template']==template, 'rmsd'].values[0]\n",
    "old_df.head()"
   ],
   "metadata": {
    "collapsed": false,
    "pycharm": {
     "name": "#%%\n"
    }
   }
  },
  {
   "cell_type": "code",
   "execution_count": 51,
   "outputs": [
    {
     "name": "stdout",
     "output_type": "stream",
     "text": [
      "How many compounds have with the \"improved\" protocol a RMSD below 3 A?\n",
      "(33, 4)\n",
      "How many compounds have with the \"improved\" protocol a RMSD below 2 A?\n",
      "(25, 4)\n",
      "How many compounds have with the \"improved\" protocol a RMSD above 3 A?\n",
      "(20, 4)\n",
      "And how many compounds failed?\n",
      "(12, 4)\n"
     ]
    }
   ],
   "source": [
    "print('How many compounds have with the \"improved\" protocol a RMSD below 3 A?')\n",
    "print(old_df.loc[old_df['new_rmsd']<3].shape)\n",
    "print('How many compounds have with the \"improved\" protocol a RMSD below 2 A?')\n",
    "print(old_df.loc[old_df['new_rmsd']<2].shape)\n",
    "print('How many compounds have with the \"improved\" protocol a RMSD above 3 A?')\n",
    "print(old_df.loc[old_df['new_rmsd']>3].shape)\n",
    "print('And how many compounds failed?')\n",
    "print(old_df.loc[old_df['new_rmsd'].isna()].shape)"
   ],
   "metadata": {
    "collapsed": false,
    "pycharm": {
     "name": "#%%\n"
    }
   }
  },
  {
   "cell_type": "markdown",
   "source": [
    "INCONCLUSIVE...there maybe compounds that the old protocol docked correctly but the new one did not.\n",
    "It's not possible to rule that out based on the current analysis."
   ],
   "metadata": {
    "collapsed": false,
    "pycharm": {
     "name": "#%% md\n"
    }
   }
  },
  {
   "cell_type": "code",
   "execution_count": null,
   "outputs": [],
   "source": [],
   "metadata": {
    "collapsed": false,
    "pycharm": {
     "name": "#%%"
    }
   }
  }
 ],
 "metadata": {
  "kernelspec": {
   "display_name": "Python 3",
   "language": "python",
   "name": "python3"
  },
  "language_info": {
   "codemirror_mode": {
    "name": "ipython",
    "version": 2
   },
   "file_extension": ".py",
   "mimetype": "text/x-python",
   "name": "python",
   "nbconvert_exporter": "python",
   "pygments_lexer": "ipython2",
   "version": "2.7.6"
  }
 },
 "nbformat": 4,
 "nbformat_minor": 0
}